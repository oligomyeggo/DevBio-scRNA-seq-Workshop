{
 "cells": [
  {
   "cell_type": "markdown",
   "id": "0ef915c4-95f7-473c-9dd5-7aa9864ca2dd",
   "metadata": {},
   "source": [
    "# Intro to Python Programming Using Pandas"
   ]
  },
  {
   "cell_type": "markdown",
   "id": "7a293e3d-1428-4fd0-9411-4ac7bfbd0757",
   "metadata": {},
   "source": [
    "Hello, and welcome to the Intro to Python Programming tutorial notebook! This notebook is adapted from an excellent tutorial called *Data Analysis Example: Analyzing Movie Ratings with Python* by Cagdas Yetkin. You can check out the original tutorial [here](https://codingnomads.co/blog/data-analysis-example-analyzing-movie-ratings-with-python/), and the corresponding GitHub code [here](https://github.com/CodingNomads/movie-analysis-python-pandas/blob/master/movie-analysis.ipynb).\n",
    "\n",
    "The goal of this notebook is to get you quickly up to speed with some of the basics of Python programming (and programming in general!) and data manipulation. Instead of learning Python in a series of isolated and generic examples, we are going to try learning it with a contextualized example that will have immediate applications to scRNA-seq analysis.\n",
    "\n",
    "How exactly does a tutorial based on movie ratings connect to scRNA-seq analysis? It all comes down to `pandas`, a popular Python library used for data analysis and manipulation. When you do scRNA-seq analysis using `scanpy`, you are using a `pandas` dataframe to store, manipulate, and analyze your data. So, if we can start learning how to use `pandas` now, some aspects of scRNA-seq analysis will make a lot more sense once we get to them!"
   ]
  },
  {
   "cell_type": "markdown",
   "id": "225dcf40-e12e-4b68-8dba-1ce30cb885bb",
   "metadata": {},
   "source": [
    "# 1 Get and Inspect the Data"
   ]
  },
  {
   "cell_type": "markdown",
   "id": "6e143f13-37ad-4995-bab4-23b04e86495e",
   "metadata": {},
   "source": [
    "First, before we analyze any data, we have to have data to analyze. We are going to be using data from the [Movie Tweetings Project](https://github.com/sidooms/MovieTweetings/tree/master/latest). This data consists of movie ratings from Twitter since 2013, updated daily. The data was created from people who connected their IMDB profile with their Twitter accounts. Whenever they rated a movie on the IMDB website, an automated process generated a standard, well-structured tweet. We can use this data to learn and practice data analysis using Python.\n",
    "\n",
    "Let's make a new directory in our */workspace/intro_to_programming/* folder called *data*. There are two ways you can do this. You can open a terminal, navigate into */workspace/intro_to_programming/* using the `cd` command, and then make a data directory by using the `mkdir` command (i.e., `mkdir data`). Or, you can click on the new folder icon in the left sidebar and change to label to *data*.\n",
    "\n",
    "Once we have created our *data* directory, we need to download our data files. There are three:\n",
    "* *movies.dat* (`https://github.com/sidooms/MovieTweetings/raw/master/latest/movies.dat`)\n",
    "* *ratings.dat* (`https://github.com/sidooms/MovieTweetings/raw/master/latest/ratings.dat`)\n",
    "* *users.dat* (`https://github.com/sidooms/MovieTweetings/raw/master/latest/users.dat`)\n",
    "\n",
    "Let's download these using our terminal. Open a terminal, and navigate into the *data* directory. Now, use the `wget` command to download each of the three links (i.e., copy the *movies.dat* link, and run `wget <LINK>` in the terminal. Repeat for the *ratings.dat* and *users.dat* links). After you have downloaded all three files, if you type `ls -l` in the terminal, you should see those three files now listed in your data directory.\n",
    "\n",
    "Congratulations! We have data! Let's take a peek and see what it looks like.\n",
    "\n",
    "In your *data* directory, using the terminal type:\n",
    "```\n",
    "head -n3 users.dat\n",
    "```\n",
    "\n",
    "This returns the first three lines of the `users.dat` file. You should see something that looks like this:\n",
    "```\n",
    "1::139564917\n",
    "2::17528189\n",
    "3::522540374\n",
    "```\n",
    "\n",
    "Without any other information, we would have no way of knowing what exactly we are looking at. Luckily, we can consult the Movie Tweetings Project [README](https://github.com/sidooms/MovieTweetings/blob/master/README.md) file, which tells us that \"in *users.dat* the first field is the *user_id* and the second one is *twitter_id*\". So we have two data fields, which are separated by `::`. Data fields can be divided by all sorts of different separators, and it's good to know which one is used in that data you are working with. Most often, you will probably see commas or tabs used as separators.\n",
    "\n",
    "**Exercise_1.1**</br>\n",
    "Next, let's take a peek at the first 5 lines of the `movies.dat` file. You should see something like this:\n",
    "```\n",
    "0000008::Edison Kinetoscopic Record of a Sneeze (1894)::Documentary|Short\n",
    "0000010::La sortie des usines Lumière (1895)::Documentary|Short\n",
    "0000012::The Arrival of a Train (1896)::Documentary|Short\n",
    "25::The Oxford and Cambridge University Boat Race (1895)::\n",
    "0000091::Le manoir du diable (1896)::Short|Horror\n",
    "```\n",
    "\n",
    "**Exercise_1.2**</br>\n",
    "Knowing that our fields our separated by `::`, how many fields do we have in our `movies.dat` file? What are the fields? (Hint: check out the README!)\n",
    "\n",
    "**Exercise_1.3**</br>\n",
    "Take a peek at the *last* 6 lines of the *ratings.dat* file. (Hint: instead of `head`, use `tail`!) You should see something like this:\n",
    "```\n",
    "71257::9784456::6::1595810413\n",
    "71257::9893250::10::1613857551\n",
    "71257::9898858::3::1585958452\n",
    "71258::0172495::10::1587107015\n",
    "71258::0414387::10::1587107852\n",
    "71259::1623205::6::1362832655\n",
    "```\n",
    "\n",
    "How many fields are in *ratings.dat*? What are the fields?\n",
    "\n",
    "Alright, we have some data and we now have a feel for what the data looks like. Up to this point, we have not used any Python yet. We have been using the same commands that you would use to navigate the file system on your computer. But don't worry, Python is coming up next!"
   ]
  },
  {
   "cell_type": "markdown",
   "id": "3cd7a783-5eff-432f-a9af-57d7eadfa7c8",
   "metadata": {},
   "source": [
    "# 2 Set Up Your Notebook"
   ]
  },
  {
   "cell_type": "markdown",
   "id": "0c1c2ef8-6442-40cd-add3-542053c943b4",
   "metadata": {},
   "source": [
    "In order to analyze our data, we need to set up our coding environment (this Jupyter notebook!). This involves loading (or importing) all of the python modules, packages, and libraries we need via the [`import`](https://docs.python.org/3/reference/import.html) statement. A python [`module`](https://docs.python.org/3/tutorial/modules.html) is a file that can define functions, classes and variables, and also include runnable code. A `script` is an executable module (also sometimes called a `program` or `application`. A python package is a collection of modules under a common namespace. You can kind of think of a package like a file system directory and modules as the files in the directory, though this is an oversimplification. A `library` is a generic term for a bunch of code that was designed with the aim of being usable by many applications. It provides some generic functionality that can be used by specific applications. \n",
    "\n",
    "Using `import...as...` allows us to rename modules/packages/libraries as they are imported for more concise method calls downstream (for instance, if we said `import pandas` and wanted to use the `.read_csv()` pandas method, we would have to call this as `pandas.read_csv()`. If we said `import pandas as pd` we could instead call `pd.read_csv()`)."
   ]
  },
  {
   "cell_type": "code",
   "execution_count": 1,
   "id": "80ef0dd2-0a9c-4fad-9407-117a83ca8e9f",
   "metadata": {},
   "outputs": [],
   "source": [
    "# These imports are necessary\n",
    "import warnings # this is so can ignore annoying (and usually unimportant) warning messages\n",
    "\n",
    "import pandas as pd # our main data analysis and manipulation library\n",
    "import numpy as np # library to handle large, multidimensional arrays and matrices\n",
    "import scipy as sc # library for scientific computing and technical computing\n",
    "\n",
    "import matplotlib.pyplot as plt # plotting library\n",
    "import seaborn as sns # another plotting library; built on top of matplotlib\n",
    "\n",
    "# These adjustments are not necessary, but will make your analysis easier and better-looking\n",
    "plt.style.use('fivethirtyeight') # make our plots stylized like those on fivethiryeight.com\n",
    "pd.set_option('display.max_rows', 50) # display 50 max rows to make our DataFrame more readable/visible\n",
    "pd.set_option('display.max_columns', 50) # display 50 max columns to make our DataFrame more readable/visible\n",
    "warnings.filterwarnings('ignore') # have cleaner notebook without warning messages"
   ]
  },
  {
   "cell_type": "markdown",
   "id": "d187010b-e823-452e-9836-bbf272a147da",
   "metadata": {},
   "source": [
    "# 3 Read in the Data"
   ]
  },
  {
   "cell_type": "markdown",
   "id": "8de6cb8c-0cab-4a7d-a68f-601036e1bfe3",
   "metadata": {},
   "source": [
    "Now that our coding environment is set up, we can read our files into pandas dataframes. In order to do this, we will use the `read_csv` function in `pandas`. This function takes in a few parameters that we should pay attention to. We need to make sure that we define that the separators (or delimiters) are double colons `::`; give the column names, so that they will become headers in our dataframes; and convert the UNIX time in the *ratings.dat* file to a more readable datetime format. Let's read in our files one by one, starting with *users.dat*.\n",
    "\n",
    "(***Did you know!*** How do you know what parameters a function might need? All Python libraries have an Application Programming Interface (API) (or at least the good ones do!), which is a set of definitions and protocols that tells you how to use the various functions included in a library. For example, [here](https://pandas.pydata.org/pandas-docs/stable/reference/api/pandas.read_csv.html) is `.read_csv()` page in the `pandas` API. You can see that it can take in way more parameters than we will provide. A *required* parameter is something like the *filepath_or_buffer* parameter. You have to pass `.read_csv()` some sort of file to read. An *optional* parameter is something like the *sep* parameter. You don't have to pass `.read_csv()` a delimiter, and if you don't it will default to a comma. In our case, we will pass `read_csv` a *sep* parameter.)"
   ]
  },
  {
   "cell_type": "code",
   "execution_count": 2,
   "id": "f2c8b4f8-9248-41cf-b318-05f82a65aa19",
   "metadata": {},
   "outputs": [],
   "source": [
    "users = pd.read_csv('data/users.dat', sep='::', names=['user_id', 'twitter_id'])"
   ]
  },
  {
   "cell_type": "markdown",
   "id": "bb97e859-e855-4eae-b3b2-6dd1c5a4b302",
   "metadata": {},
   "source": [
    "The creates a `DataFrame()` object. We can look at the first few entries of our new *users* `DataFrame()` using `.head()` method. (Note that this is different from the *head* command used in the terminal, which is a Linux command.)"
   ]
  },
  {
   "cell_type": "code",
   "execution_count": 3,
   "id": "48534fdd-4929-40d8-97d2-844e7c633efb",
   "metadata": {},
   "outputs": [
    {
     "data": {
      "text/html": [
       "<div>\n",
       "<style scoped>\n",
       "    .dataframe tbody tr th:only-of-type {\n",
       "        vertical-align: middle;\n",
       "    }\n",
       "\n",
       "    .dataframe tbody tr th {\n",
       "        vertical-align: top;\n",
       "    }\n",
       "\n",
       "    .dataframe thead th {\n",
       "        text-align: right;\n",
       "    }\n",
       "</style>\n",
       "<table border=\"1\" class=\"dataframe\">\n",
       "  <thead>\n",
       "    <tr style=\"text-align: right;\">\n",
       "      <th></th>\n",
       "      <th>user_id</th>\n",
       "      <th>twitter_id</th>\n",
       "    </tr>\n",
       "  </thead>\n",
       "  <tbody>\n",
       "    <tr>\n",
       "      <th>0</th>\n",
       "      <td>1</td>\n",
       "      <td>139564917</td>\n",
       "    </tr>\n",
       "    <tr>\n",
       "      <th>1</th>\n",
       "      <td>2</td>\n",
       "      <td>17528189</td>\n",
       "    </tr>\n",
       "    <tr>\n",
       "      <th>2</th>\n",
       "      <td>3</td>\n",
       "      <td>522540374</td>\n",
       "    </tr>\n",
       "    <tr>\n",
       "      <th>3</th>\n",
       "      <td>4</td>\n",
       "      <td>475571186</td>\n",
       "    </tr>\n",
       "    <tr>\n",
       "      <th>4</th>\n",
       "      <td>5</td>\n",
       "      <td>215022153</td>\n",
       "    </tr>\n",
       "  </tbody>\n",
       "</table>\n",
       "</div>"
      ],
      "text/plain": [
       "   user_id  twitter_id\n",
       "0        1   139564917\n",
       "1        2    17528189\n",
       "2        3   522540374\n",
       "3        4   475571186\n",
       "4        5   215022153"
      ]
     },
     "execution_count": 3,
     "metadata": {},
     "output_type": "execute_result"
    }
   ],
   "source": [
    "users.head()"
   ]
  },
  {
   "cell_type": "markdown",
   "id": "7963d163-ce34-4879-b48c-e7d4897e6d6d",
   "metadata": {},
   "source": [
    "Sweet, that looks pretty good! Let's do the same thing with our other two files.\n",
    "\n",
    "We'll do the *ratings.dat* file next. Similar to before, you will want to read in the data and save it into a data frame, define the separator, and pass in the column names. Additionally, you will also call the `.sort_values()` method on the dataframe right away, to sort your data by when the ratings have been created."
   ]
  },
  {
   "cell_type": "code",
   "execution_count": 4,
   "id": "44d4b590-bac5-46bd-9a64-1c75f30fb1c6",
   "metadata": {},
   "outputs": [],
   "source": [
    "ratings = pd.read_csv('data/ratings.dat', sep='::',\n",
    "                      names=['user_id', 'movie_id', 'rating', 'rating_timestamp']\n",
    "                      ).sort_values(\"rating_timestamp\") # sorting the dataframe by datetime"
   ]
  },
  {
   "cell_type": "markdown",
   "id": "47a7748a-4307-439d-9916-442c3da0a83e",
   "metadata": {},
   "source": [
    "You will also want to convert the rating_timestamp values to actual datetime format, and you can do that in `pandas` like so:"
   ]
  },
  {
   "cell_type": "code",
   "execution_count": 5,
   "id": "44c53008-bbd2-4b45-9dac-c34ae18c135c",
   "metadata": {},
   "outputs": [],
   "source": [
    "ratings[\"rating_timestamp\"] = pd.to_datetime(ratings[\"rating_timestamp\"], unit='s')"
   ]
  },
  {
   "cell_type": "markdown",
   "id": "33f9154f-52f7-4154-8619-d430bcdf606d",
   "metadata": {},
   "source": [
    "Let’s peek into the first 5 rows of your newly created ratings dataframe:"
   ]
  },
  {
   "cell_type": "code",
   "execution_count": 6,
   "id": "6357c891-67a9-4ede-a2aa-1d7d75c48d79",
   "metadata": {},
   "outputs": [
    {
     "data": {
      "text/html": [
       "<div>\n",
       "<style scoped>\n",
       "    .dataframe tbody tr th:only-of-type {\n",
       "        vertical-align: middle;\n",
       "    }\n",
       "\n",
       "    .dataframe tbody tr th {\n",
       "        vertical-align: top;\n",
       "    }\n",
       "\n",
       "    .dataframe thead th {\n",
       "        text-align: right;\n",
       "    }\n",
       "</style>\n",
       "<table border=\"1\" class=\"dataframe\">\n",
       "  <thead>\n",
       "    <tr style=\"text-align: right;\">\n",
       "      <th></th>\n",
       "      <th>user_id</th>\n",
       "      <th>movie_id</th>\n",
       "      <th>rating</th>\n",
       "      <th>rating_timestamp</th>\n",
       "    </tr>\n",
       "  </thead>\n",
       "  <tbody>\n",
       "    <tr>\n",
       "      <th>146299</th>\n",
       "      <td>11570</td>\n",
       "      <td>2171847</td>\n",
       "      <td>6</td>\n",
       "      <td>2013-02-28 14:38:27</td>\n",
       "    </tr>\n",
       "    <tr>\n",
       "      <th>609296</th>\n",
       "      <td>47876</td>\n",
       "      <td>444778</td>\n",
       "      <td>8</td>\n",
       "      <td>2013-02-28 14:43:44</td>\n",
       "    </tr>\n",
       "    <tr>\n",
       "      <th>636479</th>\n",
       "      <td>49892</td>\n",
       "      <td>1411238</td>\n",
       "      <td>6</td>\n",
       "      <td>2013-02-28 14:47:18</td>\n",
       "    </tr>\n",
       "    <tr>\n",
       "      <th>674391</th>\n",
       "      <td>52623</td>\n",
       "      <td>1496422</td>\n",
       "      <td>7</td>\n",
       "      <td>2013-02-28 14:58:23</td>\n",
       "    </tr>\n",
       "    <tr>\n",
       "      <th>774473</th>\n",
       "      <td>60785</td>\n",
       "      <td>118799</td>\n",
       "      <td>5</td>\n",
       "      <td>2013-02-28 15:00:53</td>\n",
       "    </tr>\n",
       "  </tbody>\n",
       "</table>\n",
       "</div>"
      ],
      "text/plain": [
       "        user_id  movie_id  rating    rating_timestamp\n",
       "146299    11570   2171847       6 2013-02-28 14:38:27\n",
       "609296    47876    444778       8 2013-02-28 14:43:44\n",
       "636479    49892   1411238       6 2013-02-28 14:47:18\n",
       "674391    52623   1496422       7 2013-02-28 14:58:23\n",
       "774473    60785    118799       5 2013-02-28 15:00:53"
      ]
     },
     "execution_count": 6,
     "metadata": {},
     "output_type": "execute_result"
    }
   ],
   "source": [
    "ratings.head()"
   ]
  },
  {
   "cell_type": "markdown",
   "id": "08edd3f7-54f2-46dd-baab-57473b5594b3",
   "metadata": {},
   "source": [
    "Two files down, one to go!\n",
    "\n",
    "**Exercise_3.1**</br>\n",
    "Read in the *movies.dat* file. What do the first 5 lines look like? (Hint: use `.read_csv()` to read in the data and save it into a dataframe, define the separator, and pass in the column names!)"
   ]
  },
  {
   "cell_type": "code",
   "execution_count": 9,
   "id": "a7a43488-9e4f-4c19-8a0b-156092b93401",
   "metadata": {},
   "outputs": [
    {
     "data": {
      "text/html": [
       "<div>\n",
       "<style scoped>\n",
       "    .dataframe tbody tr th:only-of-type {\n",
       "        vertical-align: middle;\n",
       "    }\n",
       "\n",
       "    .dataframe tbody tr th {\n",
       "        vertical-align: top;\n",
       "    }\n",
       "\n",
       "    .dataframe thead th {\n",
       "        text-align: right;\n",
       "    }\n",
       "</style>\n",
       "<table border=\"1\" class=\"dataframe\">\n",
       "  <thead>\n",
       "    <tr style=\"text-align: right;\">\n",
       "      <th></th>\n",
       "      <th>movie_id</th>\n",
       "      <th>movie_title</th>\n",
       "      <th>genres</th>\n",
       "    </tr>\n",
       "  </thead>\n",
       "  <tbody>\n",
       "    <tr>\n",
       "      <th>0</th>\n",
       "      <td>8</td>\n",
       "      <td>Edison Kinetoscopic Record of a Sneeze (1894)</td>\n",
       "      <td>Documentary|Short</td>\n",
       "    </tr>\n",
       "    <tr>\n",
       "      <th>1</th>\n",
       "      <td>10</td>\n",
       "      <td>La sortie des usines Lumière (1895)</td>\n",
       "      <td>Documentary|Short</td>\n",
       "    </tr>\n",
       "    <tr>\n",
       "      <th>2</th>\n",
       "      <td>12</td>\n",
       "      <td>The Arrival of a Train (1896)</td>\n",
       "      <td>Documentary|Short</td>\n",
       "    </tr>\n",
       "    <tr>\n",
       "      <th>3</th>\n",
       "      <td>25</td>\n",
       "      <td>The Oxford and Cambridge University Boat Race ...</td>\n",
       "      <td>NaN</td>\n",
       "    </tr>\n",
       "    <tr>\n",
       "      <th>4</th>\n",
       "      <td>91</td>\n",
       "      <td>Le manoir du diable (1896)</td>\n",
       "      <td>Short|Horror</td>\n",
       "    </tr>\n",
       "  </tbody>\n",
       "</table>\n",
       "</div>"
      ],
      "text/plain": [
       "   movie_id                                        movie_title  \\\n",
       "0         8      Edison Kinetoscopic Record of a Sneeze (1894)   \n",
       "1        10                La sortie des usines Lumière (1895)   \n",
       "2        12                      The Arrival of a Train (1896)   \n",
       "3        25  The Oxford and Cambridge University Boat Race ...   \n",
       "4        91                         Le manoir du diable (1896)   \n",
       "\n",
       "              genres  \n",
       "0  Documentary|Short  \n",
       "1  Documentary|Short  \n",
       "2  Documentary|Short  \n",
       "3                NaN  \n",
       "4       Short|Horror  "
      ]
     },
     "execution_count": 9,
     "metadata": {},
     "output_type": "execute_result"
    }
   ],
   "source": [
    "# DELETE FOR EXERCISES\n",
    "movies = pd.read_csv('data/movies.dat', sep='::',\n",
    "                     names=['movie_id', 'movie_title', 'genres'])\n",
    "movies.head()"
   ]
  },
  {
   "cell_type": "markdown",
   "id": "86666e74-3395-4c02-ac69-bec5ee0e6080",
   "metadata": {},
   "source": [
    "Fantastic! All of our data is now read into our notebook, and we have some dataframes to play with. Next we will explore our data."
   ]
  },
  {
   "cell_type": "markdown",
   "id": "2f3e9c4f-70e0-4f38-b0a6-7536967a648d",
   "metadata": {},
   "source": [
    "# 4 Exploration"
   ]
  },
  {
   "cell_type": "code",
   "execution_count": null,
   "id": "2c071a93-c672-4427-9a0b-cca2ac63204a",
   "metadata": {},
   "outputs": [],
   "source": []
  }
 ],
 "metadata": {
  "kernelspec": {
   "display_name": "Python 3 (ipykernel)",
   "language": "python",
   "name": "python3"
  },
  "language_info": {
   "codemirror_mode": {
    "name": "ipython",
    "version": 3
   },
   "file_extension": ".py",
   "mimetype": "text/x-python",
   "name": "python",
   "nbconvert_exporter": "python",
   "pygments_lexer": "ipython3",
   "version": "3.8.10"
  }
 },
 "nbformat": 4,
 "nbformat_minor": 5
}
