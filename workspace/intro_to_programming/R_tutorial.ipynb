{
 "cells": [
  {
   "cell_type": "markdown",
   "id": "ccc90cc1-13d6-4f92-ab98-f5002f2fe7ed",
   "metadata": {},
   "source": [
    "# R tutorial"
   ]
  },
  {
   "cell_type": "markdown",
   "id": "b473e6a4-a7f0-4ee0-8592-5acec2364ba3",
   "metadata": {},
   "source": [
    "This tutorial will walk you through some of the basics of R that will be helpful to understand for single cell analysis with Seurat if you are new to R.  It is largely copied from the [R tutorial](https://courses.cs.ut.ee/MTAT.03.183/2017_spring/uploads/Main/r_tutorial.html). \n",
    "\n",
    "There are other great resources for learning the basics of R which will cover more topics than this brief introductory tutorial.  Two that I'd recommend are the freely available web book: [R for Data Science](https://r4ds.had.co.nz/index.html) written by Hadley Wickham and Garrett Grolemund and the LinkedIn Learning course [Learning R](https://www.linkedin.com/learning-login/share?account=42275329&forceAccount=false&redirect=https%3A%2F%2Fwww.linkedin.com%2Flearning%2Flearning-r-2%3Ftrk%3Dshare_ent_url%26shareId%3DIlQ%252BKm79TvWKql%252FKjfwpMQ%253D%253D) by Barton Poulson.  To access the LinkedIn Learning course will need to be signed into LinkedIn Learning from your Univeristy account.  You can get to LinkedIn Learning by logging into your UCDAccess account then selecting Training from the CU Resources drop down menu and clicking on the LinkedIn Learning Icon. A list of other R tutorial resouces is [here](https://bioinformatics.uconn.edu/introduction-to-r/#).\n",
    "\n",
    "R is a general purpose programming language with special emphasis on statistical computing. In the following tutorial we explore R and its main functionalities. We suggest experimenting with and trying out the commands by yourself. "
   ]
  },
  {
   "cell_type": "markdown",
   "id": "32f893d1-eba0-4ace-958a-1082c00e7998",
   "metadata": {},
   "source": [
    "# Table of Contents\n",
    "* [Help - where to get it](#Help---where-to-get-it)\n",
    "* [Analysis with R](#Analysis-with-R)\n",
    "* [Vectors](#Vectors)\n",
    "* [Matrices](#Matrices)\n",
    "* [Lists](#Lists)\n",
    "* [Data frames](#Data-frames)\n",
    "    - [Subsetting similar to matrices](#Subsetting-similar-to-matrices)\n",
    "* [Other useful commands](#Other-useful-commands)\n",
    "* [An example of exploratory data investigation with R](#An-example-of-exploratory-data-investigation-with-R)\n",
    "* [Plotting](#Plotting)"
   ]
  },
  {
   "cell_type": "markdown",
   "id": "bb4fcac2-d78a-4630-8eb0-e26e725fae19",
   "metadata": {},
   "source": [
    "# Help - where to get it"
   ]
  },
  {
   "cell_type": "markdown",
   "id": "b525e7f9-368f-404f-ba34-5e739b570e51",
   "metadata": {},
   "source": [
    "If you are working in RStudio, a good way to get help for a function is to type `?function` for example for the function `log()` type `?log`.  In RStudio you can also search for a help document from the \"Help\" tab of the \"Files/Plots/Packages/Help/Viewer\" pane.  In any R environment you can also use the following. \n",
    "\n",
    "If you want to get a list of available functions with a word in their name, use `apropos()`."
   ]
  },
  {
   "cell_type": "code",
   "execution_count": 54,
   "id": "ddb83878-7841-493e-bf41-79f7b6e9b549",
   "metadata": {},
   "outputs": [
    {
     "data": {
      "text/html": [
       "<style>\n",
       ".list-inline {list-style: none; margin:0; padding: 0}\n",
       ".list-inline>li {display: inline-block}\n",
       ".list-inline>li:not(:last-child)::after {content: \"\\00b7\"; padding: 0 .5ex}\n",
       "</style>\n",
       "<ol class=list-inline><li>'GeomLogticks'</li><li>'Logic'</li><li>'SSlogis'</li><li>'annotation_logticks'</li><li>'as.data.frame.logical'</li><li>'as.logical'</li><li>'as.logical.factor'</li><li>'dlogis'</li><li>'is.logical'</li><li>'log'</li><li>'log10'</li><li>'log1p'</li><li>'log2'</li><li>'logLik'</li><li>'logb'</li><li>'logical'</li><li>'loglin'</li><li>'plogis'</li><li>'qlogis'</li><li>'rlogis'</li><li>'scale_x_log10'</li><li>'scale_y_log10'</li></ol>\n"
      ],
      "text/latex": [
       "\\begin{enumerate*}\n",
       "\\item 'GeomLogticks'\n",
       "\\item 'Logic'\n",
       "\\item 'SSlogis'\n",
       "\\item 'annotation\\_logticks'\n",
       "\\item 'as.data.frame.logical'\n",
       "\\item 'as.logical'\n",
       "\\item 'as.logical.factor'\n",
       "\\item 'dlogis'\n",
       "\\item 'is.logical'\n",
       "\\item 'log'\n",
       "\\item 'log10'\n",
       "\\item 'log1p'\n",
       "\\item 'log2'\n",
       "\\item 'logLik'\n",
       "\\item 'logb'\n",
       "\\item 'logical'\n",
       "\\item 'loglin'\n",
       "\\item 'plogis'\n",
       "\\item 'qlogis'\n",
       "\\item 'rlogis'\n",
       "\\item 'scale\\_x\\_log10'\n",
       "\\item 'scale\\_y\\_log10'\n",
       "\\end{enumerate*}\n"
      ],
      "text/markdown": [
       "1. 'GeomLogticks'\n",
       "2. 'Logic'\n",
       "3. 'SSlogis'\n",
       "4. 'annotation_logticks'\n",
       "5. 'as.data.frame.logical'\n",
       "6. 'as.logical'\n",
       "7. 'as.logical.factor'\n",
       "8. 'dlogis'\n",
       "9. 'is.logical'\n",
       "10. 'log'\n",
       "11. 'log10'\n",
       "12. 'log1p'\n",
       "13. 'log2'\n",
       "14. 'logLik'\n",
       "15. 'logb'\n",
       "16. 'logical'\n",
       "17. 'loglin'\n",
       "18. 'plogis'\n",
       "19. 'qlogis'\n",
       "20. 'rlogis'\n",
       "21. 'scale_x_log10'\n",
       "22. 'scale_y_log10'\n",
       "\n",
       "\n"
      ],
      "text/plain": [
       " [1] \"GeomLogticks\"          \"Logic\"                 \"SSlogis\"              \n",
       " [4] \"annotation_logticks\"   \"as.data.frame.logical\" \"as.logical\"           \n",
       " [7] \"as.logical.factor\"     \"dlogis\"                \"is.logical\"           \n",
       "[10] \"log\"                   \"log10\"                 \"log1p\"                \n",
       "[13] \"log2\"                  \"logLik\"                \"logb\"                 \n",
       "[16] \"logical\"               \"loglin\"                \"plogis\"               \n",
       "[19] \"qlogis\"                \"rlogis\"                \"scale_x_log10\"        \n",
       "[22] \"scale_y_log10\"        "
      ]
     },
     "metadata": {},
     "output_type": "display_data"
    }
   ],
   "source": [
    "apropos(\"log\")"
   ]
  },
  {
   "cell_type": "markdown",
   "id": "0c71d70a-2fe0-460e-9f40-1c651ef88f89",
   "metadata": {},
   "source": [
    "Or some examples of how to use a function.  Here we will look at examples for the function `log()`"
   ]
  },
  {
   "cell_type": "code",
   "execution_count": 55,
   "id": "00e4e415-e0bb-4817-b24c-2e016d4ec2b2",
   "metadata": {},
   "outputs": [
    {
     "name": "stdout",
     "output_type": "stream",
     "text": [
      "\n",
      "log> log(exp(3))\n",
      "[1] 3\n",
      "\n",
      "log> log10(1e7) # = 7\n",
      "[1] 7\n",
      "\n",
      "log> x <- 10^-(1+2*1:9)\n",
      "\n",
      "log> cbind(x, log(1+x), log1p(x), exp(x)-1, expm1(x))\n",
      "          x                                                    \n",
      " [1,] 1e-03 9.995003e-04 9.995003e-04 1.000500e-03 1.000500e-03\n",
      " [2,] 1e-05 9.999950e-06 9.999950e-06 1.000005e-05 1.000005e-05\n",
      " [3,] 1e-07 1.000000e-07 1.000000e-07 1.000000e-07 1.000000e-07\n",
      " [4,] 1e-09 1.000000e-09 1.000000e-09 1.000000e-09 1.000000e-09\n",
      " [5,] 1e-11 1.000000e-11 1.000000e-11 1.000000e-11 1.000000e-11\n",
      " [6,] 1e-13 9.992007e-14 1.000000e-13 9.992007e-14 1.000000e-13\n",
      " [7,] 1e-15 1.110223e-15 1.000000e-15 1.110223e-15 1.000000e-15\n",
      " [8,] 1e-17 0.000000e+00 1.000000e-17 0.000000e+00 1.000000e-17\n",
      " [9,] 1e-19 0.000000e+00 1.000000e-19 0.000000e+00 1.000000e-19\n"
     ]
    }
   ],
   "source": [
    "example(log)\n",
    "#Also try ?log in RStudio. \n",
    "#This opens up a help page for log function and its parameters.\n",
    "#Works for all the other functions too."
   ]
  },
  {
   "cell_type": "markdown",
   "id": "5ca6a009-33aa-48d8-a5e3-740df1e2c3e2",
   "metadata": {},
   "source": [
    "# Analysis with R"
   ]
  },
  {
   "cell_type": "markdown",
   "id": "42b1524c-22c5-41e0-8570-5b10683019bc",
   "metadata": {},
   "source": [
    "In R, all values are printed in the console.  But when a value is assigned to a variable it is not printed. Try the following:"
   ]
  },
  {
   "cell_type": "code",
   "execution_count": 56,
   "id": "6d771daf-66a9-47b7-acc3-47d3eb04b9e7",
   "metadata": {},
   "outputs": [
    {
     "data": {
      "text/html": [
       "4"
      ],
      "text/latex": [
       "4"
      ],
      "text/markdown": [
       "4"
      ],
      "text/plain": [
       "[1] 4"
      ]
     },
     "metadata": {},
     "output_type": "display_data"
    },
    {
     "data": {
      "text/html": [
       "1.7"
      ],
      "text/latex": [
       "1.7"
      ],
      "text/markdown": [
       "1.7"
      ],
      "text/plain": [
       "[1] 1.7"
      ]
     },
     "metadata": {},
     "output_type": "display_data"
    }
   ],
   "source": [
    "2 + 2\n",
    "3.4/2\n",
    "#Variable assignment\n",
    "## Note that # is a symbol for comments. \n",
    "#Everything after # gets ignored.\n",
    "x = 3"
   ]
  },
  {
   "cell_type": "code",
   "execution_count": 57,
   "id": "5d8a89e7-d9c1-4228-8514-1952d42cc2c3",
   "metadata": {},
   "outputs": [
    {
     "data": {
      "text/html": [
       "3.14159265358979"
      ],
      "text/latex": [
       "3.14159265358979"
      ],
      "text/markdown": [
       "3.14159265358979"
      ],
      "text/plain": [
       "[1] 3.141593"
      ]
     },
     "metadata": {},
     "output_type": "display_data"
    },
    {
     "data": {
      "text/html": [
       "11"
      ],
      "text/latex": [
       "11"
      ],
      "text/markdown": [
       "11"
      ],
      "text/plain": [
       "[1] 11"
      ]
     },
     "metadata": {},
     "output_type": "display_data"
    }
   ],
   "source": [
    "pi\n",
    "5^2-7*2"
   ]
  },
  {
   "cell_type": "markdown",
   "id": "ef239a32-8079-4db7-83cd-ac896fc116d7",
   "metadata": {},
   "source": [
    "We can print x or use it in a calculation. Note that when the variable x is declared and assigned a value in any other windows then you can use it in other windows too."
   ]
  },
  {
   "cell_type": "code",
   "execution_count": 58,
   "id": "4d64ea40-15b3-49e7-8257-efe01ae00403",
   "metadata": {},
   "outputs": [
    {
     "data": {
      "text/html": [
       "3"
      ],
      "text/latex": [
       "3"
      ],
      "text/markdown": [
       "3"
      ],
      "text/plain": [
       "[1] 3"
      ]
     },
     "metadata": {},
     "output_type": "display_data"
    },
    {
     "data": {
      "text/html": [
       "5"
      ],
      "text/latex": [
       "5"
      ],
      "text/markdown": [
       "5"
      ],
      "text/plain": [
       "[1] 5"
      ]
     },
     "metadata": {},
     "output_type": "display_data"
    },
    {
     "data": {
      "text/html": [
       "18"
      ],
      "text/latex": [
       "18"
      ],
      "text/markdown": [
       "18"
      ],
      "text/plain": [
       "[1] 18"
      ]
     },
     "metadata": {},
     "output_type": "display_data"
    }
   ],
   "source": [
    "x\n",
    "x + 2\n",
    "2*x^2"
   ]
  },
  {
   "cell_type": "markdown",
   "id": "b5c64d6b-f36e-4df4-aa56-5df00efe1d19",
   "metadata": {},
   "source": [
    "# Vectors"
   ]
  },
  {
   "cell_type": "markdown",
   "id": "1adc997b-e857-4339-a00b-e7fb8eebecab",
   "metadata": {},
   "source": [
    "Vectors are the most important data structure in R. Remember to declare vectors in construct `c()`. R is a vectorized language. Functions are applied to all members of the vector. This removes the need for clumsy loop constructs. Next we demonstrate some basic functions and constructs to manipulate vectors in R. Try them out."
   ]
  },
  {
   "cell_type": "code",
   "execution_count": 59,
   "id": "14cebcdb-4ed8-4178-8743-5a8b73bc0200",
   "metadata": {},
   "outputs": [
    {
     "name": "stdout",
     "output_type": "stream",
     "text": [
      "[1] \"Let's print y\"\n"
     ]
    },
    {
     "data": {
      "text/html": [
       "<style>\n",
       ".list-inline {list-style: none; margin:0; padding: 0}\n",
       ".list-inline>li {display: inline-block}\n",
       ".list-inline>li:not(:last-child)::after {content: \"\\00b7\"; padding: 0 .5ex}\n",
       "</style>\n",
       "<ol class=list-inline><li>2</li><li>4</li><li>5</li><li>8</li></ol>\n"
      ],
      "text/latex": [
       "\\begin{enumerate*}\n",
       "\\item 2\n",
       "\\item 4\n",
       "\\item 5\n",
       "\\item 8\n",
       "\\end{enumerate*}\n"
      ],
      "text/markdown": [
       "1. 2\n",
       "2. 4\n",
       "3. 5\n",
       "4. 8\n",
       "\n",
       "\n"
      ],
      "text/plain": [
       "[1] 2 4 5 8"
      ]
     },
     "metadata": {},
     "output_type": "display_data"
    },
    {
     "data": {
      "text/html": [
       "<style>\n",
       ".list-inline {list-style: none; margin:0; padding: 0}\n",
       ".list-inline>li {display: inline-block}\n",
       ".list-inline>li:not(:last-child)::after {content: \"\\00b7\"; padding: 0 .5ex}\n",
       "</style>\n",
       "<ol class=list-inline><li>48</li><li>56</li><li>79</li></ol>\n"
      ],
      "text/latex": [
       "\\begin{enumerate*}\n",
       "\\item 48\n",
       "\\item 56\n",
       "\\item 79\n",
       "\\end{enumerate*}\n"
      ],
      "text/markdown": [
       "1. 48\n",
       "2. 56\n",
       "3. 79\n",
       "\n",
       "\n"
      ],
      "text/plain": [
       "[1] 48 56 79"
      ]
     },
     "metadata": {},
     "output_type": "display_data"
    }
   ],
   "source": [
    "x = c(1,3,4,7) #assign vector to a variable name.\n",
    "y = x + 1 #We add 1 to all members of vector x\n",
    "print(\"Let's print y\")\n",
    "y \n",
    "c(48,56,79) #this will not be stored anywhere but is printed on console."
   ]
  },
  {
   "cell_type": "markdown",
   "id": "0bfe465c-d367-4054-8bed-ad0d1af278b3",
   "metadata": {},
   "source": [
    "Let's explore a few vectors created by `rep()`, `seq()` and `:`."
   ]
  },
  {
   "cell_type": "code",
   "execution_count": 60,
   "id": "b8907155-6e30-45e2-9b78-5f0216402d51",
   "metadata": {},
   "outputs": [
    {
     "name": "stdout",
     "output_type": "stream",
     "text": [
      "[1] \"z\"\n"
     ]
    },
    {
     "data": {
      "text/html": [
       "<style>\n",
       ".list-inline {list-style: none; margin:0; padding: 0}\n",
       ".list-inline>li {display: inline-block}\n",
       ".list-inline>li:not(:last-child)::after {content: \"\\00b7\"; padding: 0 .5ex}\n",
       "</style>\n",
       "<ol class=list-inline><li>1</li><li>1</li><li>1</li><li>1</li></ol>\n"
      ],
      "text/latex": [
       "\\begin{enumerate*}\n",
       "\\item 1\n",
       "\\item 1\n",
       "\\item 1\n",
       "\\item 1\n",
       "\\end{enumerate*}\n"
      ],
      "text/markdown": [
       "1. 1\n",
       "2. 1\n",
       "3. 1\n",
       "4. 1\n",
       "\n",
       "\n"
      ],
      "text/plain": [
       "[1] 1 1 1 1"
      ]
     },
     "metadata": {},
     "output_type": "display_data"
    },
    {
     "name": "stdout",
     "output_type": "stream",
     "text": [
      "[1] \"rep_val\"\n"
     ]
    },
    {
     "data": {
      "text/html": [
       "<style>\n",
       ".list-inline {list-style: none; margin:0; padding: 0}\n",
       ".list-inline>li {display: inline-block}\n",
       ".list-inline>li:not(:last-child)::after {content: \"\\00b7\"; padding: 0 .5ex}\n",
       "</style>\n",
       "<ol class=list-inline><li>0</li><li>0</li><li>0</li><li>0</li><li>0</li><li>0</li><li>0</li><li>0</li><li>0</li><li>0</li></ol>\n"
      ],
      "text/latex": [
       "\\begin{enumerate*}\n",
       "\\item 0\n",
       "\\item 0\n",
       "\\item 0\n",
       "\\item 0\n",
       "\\item 0\n",
       "\\item 0\n",
       "\\item 0\n",
       "\\item 0\n",
       "\\item 0\n",
       "\\item 0\n",
       "\\end{enumerate*}\n"
      ],
      "text/markdown": [
       "1. 0\n",
       "2. 0\n",
       "3. 0\n",
       "4. 0\n",
       "5. 0\n",
       "6. 0\n",
       "7. 0\n",
       "8. 0\n",
       "9. 0\n",
       "10. 0\n",
       "\n",
       "\n"
      ],
      "text/plain": [
       " [1] 0 0 0 0 0 0 0 0 0 0"
      ]
     },
     "metadata": {},
     "output_type": "display_data"
    },
    {
     "name": "stdout",
     "output_type": "stream",
     "text": [
      "[1] \"seq4\"\n"
     ]
    },
    {
     "data": {
      "text/html": [
       "<style>\n",
       ".list-inline {list-style: none; margin:0; padding: 0}\n",
       ".list-inline>li {display: inline-block}\n",
       ".list-inline>li:not(:last-child)::after {content: \"\\00b7\"; padding: 0 .5ex}\n",
       "</style>\n",
       "<ol class=list-inline><li>1</li><li>2</li><li>3</li><li>4</li></ol>\n"
      ],
      "text/latex": [
       "\\begin{enumerate*}\n",
       "\\item 1\n",
       "\\item 2\n",
       "\\item 3\n",
       "\\item 4\n",
       "\\end{enumerate*}\n"
      ],
      "text/markdown": [
       "1. 1\n",
       "2. 2\n",
       "3. 3\n",
       "4. 4\n",
       "\n",
       "\n"
      ],
      "text/plain": [
       "[1] 1 2 3 4"
      ]
     },
     "metadata": {},
     "output_type": "display_data"
    },
    {
     "name": "stdout",
     "output_type": "stream",
     "text": [
      "[1] \"seq_4\"\n"
     ]
    },
    {
     "data": {
      "text/html": [
       "<style>\n",
       ".list-inline {list-style: none; margin:0; padding: 0}\n",
       ".list-inline>li {display: inline-block}\n",
       ".list-inline>li:not(:last-child)::after {content: \"\\00b7\"; padding: 0 .5ex}\n",
       "</style>\n",
       "<ol class=list-inline><li>-4</li><li>-3</li><li>-2</li><li>-1</li><li>0</li><li>1</li></ol>\n"
      ],
      "text/latex": [
       "\\begin{enumerate*}\n",
       "\\item -4\n",
       "\\item -3\n",
       "\\item -2\n",
       "\\item -1\n",
       "\\item 0\n",
       "\\item 1\n",
       "\\end{enumerate*}\n"
      ],
      "text/markdown": [
       "1. -4\n",
       "2. -3\n",
       "3. -2\n",
       "4. -1\n",
       "5. 0\n",
       "6. 1\n",
       "\n",
       "\n"
      ],
      "text/plain": [
       "[1] -4 -3 -2 -1  0  1"
      ]
     },
     "metadata": {},
     "output_type": "display_data"
    }
   ],
   "source": [
    "z = rep(1,4) ##Rep is a function. See what it does by consulting the help pages.\n",
    "rep_val=rep(0,10)\n",
    "seq4=1:4\n",
    "seq_4=-4:1\n",
    "\n",
    "print(\"z\")\n",
    "z\n",
    "print(\"rep_val\")\n",
    "rep_val\n",
    "print(\"seq4\")\n",
    "seq4\n",
    "print(\"seq_4\")\n",
    "seq_4"
   ]
  },
  {
   "cell_type": "code",
   "execution_count": 61,
   "id": "70509263-36ef-463d-a464-5a22c97258ba",
   "metadata": {},
   "outputs": [
    {
     "data": {
      "text/html": [
       "<style>\n",
       ".list-inline {list-style: none; margin:0; padding: 0}\n",
       ".list-inline>li {display: inline-block}\n",
       ".list-inline>li:not(:last-child)::after {content: \"\\00b7\"; padding: 0 .5ex}\n",
       "</style>\n",
       "<ol class=list-inline><li>2003</li><li>2004</li><li>2005</li><li>2006</li><li>2007</li></ol>\n"
      ],
      "text/latex": [
       "\\begin{enumerate*}\n",
       "\\item 2003\n",
       "\\item 2004\n",
       "\\item 2005\n",
       "\\item 2006\n",
       "\\item 2007\n",
       "\\end{enumerate*}\n"
      ],
      "text/markdown": [
       "1. 2003\n",
       "2. 2004\n",
       "3. 2005\n",
       "4. 2006\n",
       "5. 2007\n",
       "\n",
       "\n"
      ],
      "text/plain": [
       "[1] 2003 2004 2005 2006 2007"
      ]
     },
     "metadata": {},
     "output_type": "display_data"
    },
    {
     "data": {
      "text/html": [
       "<style>\n",
       ".list-inline {list-style: none; margin:0; padding: 0}\n",
       ".list-inline>li {display: inline-block}\n",
       ".list-inline>li:not(:last-child)::after {content: \"\\00b7\"; padding: 0 .5ex}\n",
       "</style>\n",
       "<ol class=list-inline><li>1</li><li>2</li><li>3</li><li>4</li></ol>\n"
      ],
      "text/latex": [
       "\\begin{enumerate*}\n",
       "\\item 1\n",
       "\\item 2\n",
       "\\item 3\n",
       "\\item 4\n",
       "\\end{enumerate*}\n"
      ],
      "text/markdown": [
       "1. 1\n",
       "2. 2\n",
       "3. 3\n",
       "4. 4\n",
       "\n",
       "\n"
      ],
      "text/plain": [
       "[1] 1 2 3 4"
      ]
     },
     "metadata": {},
     "output_type": "display_data"
    },
    {
     "data": {
      "text/html": [
       "<style>\n",
       ".list-inline {list-style: none; margin:0; padding: 0}\n",
       ".list-inline>li {display: inline-block}\n",
       ".list-inline>li:not(:last-child)::after {content: \"\\00b7\"; padding: 0 .5ex}\n",
       "</style>\n",
       "<ol class=list-inline><li>2</li><li>4</li><li>6</li><li>8</li></ol>\n"
      ],
      "text/latex": [
       "\\begin{enumerate*}\n",
       "\\item 2\n",
       "\\item 4\n",
       "\\item 6\n",
       "\\item 8\n",
       "\\end{enumerate*}\n"
      ],
      "text/markdown": [
       "1. 2\n",
       "2. 4\n",
       "3. 6\n",
       "4. 8\n",
       "\n",
       "\n"
      ],
      "text/plain": [
       "[1] 2 4 6 8"
      ]
     },
     "metadata": {},
     "output_type": "display_data"
    },
    {
     "data": {
      "text/html": [
       "<style>\n",
       ".list-inline {list-style: none; margin:0; padding: 0}\n",
       ".list-inline>li {display: inline-block}\n",
       ".list-inline>li:not(:last-child)::after {content: \"\\00b7\"; padding: 0 .5ex}\n",
       "</style>\n",
       "<ol class=list-inline><li>0</li><li>0.1</li><li>0.2</li><li>0.3</li><li>0.4</li><li>0.5</li><li>0.6</li><li>0.7</li><li>0.8</li><li>0.9</li><li>1</li></ol>\n"
      ],
      "text/latex": [
       "\\begin{enumerate*}\n",
       "\\item 0\n",
       "\\item 0.1\n",
       "\\item 0.2\n",
       "\\item 0.3\n",
       "\\item 0.4\n",
       "\\item 0.5\n",
       "\\item 0.6\n",
       "\\item 0.7\n",
       "\\item 0.8\n",
       "\\item 0.9\n",
       "\\item 1\n",
       "\\end{enumerate*}\n"
      ],
      "text/markdown": [
       "1. 0\n",
       "2. 0.1\n",
       "3. 0.2\n",
       "4. 0.3\n",
       "5. 0.4\n",
       "6. 0.5\n",
       "7. 0.6\n",
       "8. 0.7\n",
       "9. 0.8\n",
       "10. 0.9\n",
       "11. 1\n",
       "\n",
       "\n"
      ],
      "text/plain": [
       " [1] 0.0 0.1 0.2 0.3 0.4 0.5 0.6 0.7 0.8 0.9 1.0"
      ]
     },
     "metadata": {},
     "output_type": "display_data"
    },
    {
     "data": {
      "text/html": [
       "'numeric'"
      ],
      "text/latex": [
       "'numeric'"
      ],
      "text/markdown": [
       "'numeric'"
      ],
      "text/plain": [
       "[1] \"numeric\""
      ]
     },
     "metadata": {},
     "output_type": "display_data"
    },
    {
     "data": {
      "text/html": [
       "<style>\n",
       ".list-inline {list-style: none; margin:0; padding: 0}\n",
       ".list-inline>li {display: inline-block}\n",
       ".list-inline>li:not(:last-child)::after {content: \"\\00b7\"; padding: 0 .5ex}\n",
       "</style>\n",
       "<ol class=list-inline><li>0</li><li>0.25</li><li>0.5</li><li>0.75</li><li>1</li></ol>\n"
      ],
      "text/latex": [
       "\\begin{enumerate*}\n",
       "\\item 0\n",
       "\\item 0.25\n",
       "\\item 0.5\n",
       "\\item 0.75\n",
       "\\item 1\n",
       "\\end{enumerate*}\n"
      ],
      "text/markdown": [
       "1. 0\n",
       "2. 0.25\n",
       "3. 0.5\n",
       "4. 0.75\n",
       "5. 1\n",
       "\n",
       "\n"
      ],
      "text/plain": [
       "[1] 0.00 0.25 0.50 0.75 1.00"
      ]
     },
     "metadata": {},
     "output_type": "display_data"
    }
   ],
   "source": [
    "year = 2003:2007\n",
    "sq=seq(1,4)\n",
    "sq2=seq(2, 8, by=2)\n",
    "v = seq(0, 1, by=.1)\n",
    "cl_v=class(v)\n",
    "\n",
    "seq_len5=seq(0, 1, length=5)\n",
    "\n",
    "year\n",
    "sq\n",
    "sq2\n",
    "v\n",
    "cl_v\n",
    "seq_len5"
   ]
  },
  {
   "cell_type": "markdown",
   "id": "38e44495-373b-4949-a8ac-323a7d38b884",
   "metadata": {},
   "source": [
    "It's important to know if the numerals in your vector are numbers or characters.\n",
    "\n",
    "These are numbers and can be used in calculations."
   ]
  },
  {
   "cell_type": "code",
   "execution_count": 62,
   "id": "ee323aeb-2004-4b30-bea2-3cdccdbb3978",
   "metadata": {},
   "outputs": [
    {
     "data": {
      "text/html": [
       "<style>\n",
       ".list-inline {list-style: none; margin:0; padding: 0}\n",
       ".list-inline>li {display: inline-block}\n",
       ".list-inline>li:not(:last-child)::after {content: \"\\00b7\"; padding: 0 .5ex}\n",
       "</style>\n",
       "<ol class=list-inline><li>1</li><li>2</li><li>3</li></ol>\n"
      ],
      "text/latex": [
       "\\begin{enumerate*}\n",
       "\\item 1\n",
       "\\item 2\n",
       "\\item 3\n",
       "\\end{enumerate*}\n"
      ],
      "text/markdown": [
       "1. 1\n",
       "2. 2\n",
       "3. 3\n",
       "\n",
       "\n"
      ],
      "text/plain": [
       "[1] 1 2 3"
      ]
     },
     "metadata": {},
     "output_type": "display_data"
    },
    {
     "data": {
      "text/html": [
       "<style>\n",
       ".list-inline {list-style: none; margin:0; padding: 0}\n",
       ".list-inline>li {display: inline-block}\n",
       ".list-inline>li:not(:last-child)::after {content: \"\\00b7\"; padding: 0 .5ex}\n",
       "</style>\n",
       "<ol class=list-inline><li>2</li><li>3</li><li>4</li></ol>\n"
      ],
      "text/latex": [
       "\\begin{enumerate*}\n",
       "\\item 2\n",
       "\\item 3\n",
       "\\item 4\n",
       "\\end{enumerate*}\n"
      ],
      "text/markdown": [
       "1. 2\n",
       "2. 3\n",
       "3. 4\n",
       "\n",
       "\n"
      ],
      "text/plain": [
       "[1] 2 3 4"
      ]
     },
     "metadata": {},
     "output_type": "display_data"
    },
    {
     "data": {
      "text/html": [
       "<style>\n",
       ".list-inline {list-style: none; margin:0; padding: 0}\n",
       ".list-inline>li {display: inline-block}\n",
       ".list-inline>li:not(:last-child)::after {content: \"\\00b7\"; padding: 0 .5ex}\n",
       "</style>\n",
       "<ol class=list-inline><li>1</li><li>2</li><li>3</li><li>4</li></ol>\n"
      ],
      "text/latex": [
       "\\begin{enumerate*}\n",
       "\\item 1\n",
       "\\item 2\n",
       "\\item 3\n",
       "\\item 4\n",
       "\\end{enumerate*}\n"
      ],
      "text/markdown": [
       "1. 1\n",
       "2. 2\n",
       "3. 3\n",
       "4. 4\n",
       "\n",
       "\n"
      ],
      "text/plain": [
       "[1] 1 2 3 4"
      ]
     },
     "metadata": {},
     "output_type": "display_data"
    },
    {
     "data": {
      "text/html": [
       "<style>\n",
       ".list-inline {list-style: none; margin:0; padding: 0}\n",
       ".list-inline>li {display: inline-block}\n",
       ".list-inline>li:not(:last-child)::after {content: \"\\00b7\"; padding: 0 .5ex}\n",
       "</style>\n",
       "<ol class=list-inline><li>2</li><li>3</li><li>4</li><li>5</li></ol>\n"
      ],
      "text/latex": [
       "\\begin{enumerate*}\n",
       "\\item 2\n",
       "\\item 3\n",
       "\\item 4\n",
       "\\item 5\n",
       "\\end{enumerate*}\n"
      ],
      "text/markdown": [
       "1. 2\n",
       "2. 3\n",
       "3. 4\n",
       "4. 5\n",
       "\n",
       "\n"
      ],
      "text/plain": [
       "[1] 2 3 4 5"
      ]
     },
     "metadata": {},
     "output_type": "display_data"
    }
   ],
   "source": [
    "asn=as.numeric(c(\"1\",\"2\",\"3\"))\n",
    "m = c(1,2,3,4)\n",
    "\n",
    "asn\n",
    "asn + 1\n",
    "m\n",
    "m + 1"
   ]
  },
  {
   "cell_type": "markdown",
   "id": "cc675413-f1e0-4681-b35d-9e1c026455b9",
   "metadata": {},
   "source": [
    "Because everything in a vector must be the same type, if you mix characters and numbers everything will be converted to characters."
   ]
  },
  {
   "cell_type": "code",
   "execution_count": 63,
   "id": "c52afdb4-ff0e-423f-babc-b1782cadb2f3",
   "metadata": {},
   "outputs": [
    {
     "data": {
      "text/html": [
       "<style>\n",
       ".list-inline {list-style: none; margin:0; padding: 0}\n",
       ".list-inline>li {display: inline-block}\n",
       ".list-inline>li:not(:last-child)::after {content: \"\\00b7\"; padding: 0 .5ex}\n",
       "</style>\n",
       "<ol class=list-inline><li>'1'</li><li>'2'</li><li>'3'</li><li>'4'</li></ol>\n"
      ],
      "text/latex": [
       "\\begin{enumerate*}\n",
       "\\item '1'\n",
       "\\item '2'\n",
       "\\item '3'\n",
       "\\item '4'\n",
       "\\end{enumerate*}\n"
      ],
      "text/markdown": [
       "1. '1'\n",
       "2. '2'\n",
       "3. '3'\n",
       "4. '4'\n",
       "\n",
       "\n"
      ],
      "text/plain": [
       "[1] \"1\" \"2\" \"3\" \"4\""
      ]
     },
     "metadata": {},
     "output_type": "display_data"
    },
    {
     "data": {
      "text/html": [
       "<style>\n",
       ".list-inline {list-style: none; margin:0; padding: 0}\n",
       ".list-inline>li {display: inline-block}\n",
       ".list-inline>li:not(:last-child)::after {content: \"\\00b7\"; padding: 0 .5ex}\n",
       "</style>\n",
       "<ol class=list-inline><li>'1'</li><li>'2'</li><li>'3'</li><li>'4'</li><li>'5'</li></ol>\n"
      ],
      "text/latex": [
       "\\begin{enumerate*}\n",
       "\\item '1'\n",
       "\\item '2'\n",
       "\\item '3'\n",
       "\\item '4'\n",
       "\\item '5'\n",
       "\\end{enumerate*}\n"
      ],
      "text/markdown": [
       "1. '1'\n",
       "2. '2'\n",
       "3. '3'\n",
       "4. '4'\n",
       "5. '5'\n",
       "\n",
       "\n"
      ],
      "text/plain": [
       "[1] \"1\" \"2\" \"3\" \"4\" \"5\""
      ]
     },
     "metadata": {},
     "output_type": "display_data"
    },
    {
     "ename": "ERROR",
     "evalue": "Error in m2 + 1: non-numeric argument to binary operator\n",
     "output_type": "error",
     "traceback": [
      "Error in m2 + 1: non-numeric argument to binary operator\nTraceback:\n"
     ]
    }
   ],
   "source": [
    "m2 = c(\"1\",\"2\",\"3\", 4)\n",
    "m3 = c(1,2,3,4,\"5\")\n",
    "\n",
    "m2\n",
    "m3\n",
    "\n",
    "m2 + 1  # this line gives and error"
   ]
  },
  {
   "cell_type": "markdown",
   "id": "a5c1510a-3ca0-4ee7-9576-b0c08098b06c",
   "metadata": {},
   "source": [
    "Vectors can be sliced."
   ]
  },
  {
   "cell_type": "code",
   "execution_count": 64,
   "id": "c040a4bc-eeca-4d51-b212-75ceee4321ad",
   "metadata": {},
   "outputs": [
    {
     "data": {
      "text/html": [
       "<style>\n",
       ".list-inline {list-style: none; margin:0; padding: 0}\n",
       ".list-inline>li {display: inline-block}\n",
       ".list-inline>li:not(:last-child)::after {content: \"\\00b7\"; padding: 0 .5ex}\n",
       "</style>\n",
       "<ol class=list-inline><li>'apples'</li><li>'oranges'</li><li>'kiwis'</li><li>'mangos'</li></ol>\n"
      ],
      "text/latex": [
       "\\begin{enumerate*}\n",
       "\\item 'apples'\n",
       "\\item 'oranges'\n",
       "\\item 'kiwis'\n",
       "\\item 'mangos'\n",
       "\\end{enumerate*}\n"
      ],
      "text/markdown": [
       "1. 'apples'\n",
       "2. 'oranges'\n",
       "3. 'kiwis'\n",
       "4. 'mangos'\n",
       "\n",
       "\n"
      ],
      "text/plain": [
       "[1] \"apples\"  \"oranges\" \"kiwis\"   \"mangos\" "
      ]
     },
     "metadata": {},
     "output_type": "display_data"
    },
    {
     "data": {
      "text/html": [
       "'apples'"
      ],
      "text/latex": [
       "'apples'"
      ],
      "text/markdown": [
       "'apples'"
      ],
      "text/plain": [
       "[1] \"apples\""
      ]
     },
     "metadata": {},
     "output_type": "display_data"
    },
    {
     "data": {
      "text/html": [
       "4"
      ],
      "text/latex": [
       "4"
      ],
      "text/markdown": [
       "4"
      ],
      "text/plain": [
       "[1] 4"
      ]
     },
     "metadata": {},
     "output_type": "display_data"
    },
    {
     "data": {
      "text/html": [
       "'mangos'"
      ],
      "text/latex": [
       "'mangos'"
      ],
      "text/markdown": [
       "'mangos'"
      ],
      "text/plain": [
       "[1] \"mangos\""
      ]
     },
     "metadata": {},
     "output_type": "display_data"
    },
    {
     "data": {
      "text/html": [
       "<style>\n",
       ".list-inline {list-style: none; margin:0; padding: 0}\n",
       ".list-inline>li {display: inline-block}\n",
       ".list-inline>li:not(:last-child)::after {content: \"\\00b7\"; padding: 0 .5ex}\n",
       "</style>\n",
       "<ol class=list-inline><li>'apples'</li><li>'oranges'</li></ol>\n"
      ],
      "text/latex": [
       "\\begin{enumerate*}\n",
       "\\item 'apples'\n",
       "\\item 'oranges'\n",
       "\\end{enumerate*}\n"
      ],
      "text/markdown": [
       "1. 'apples'\n",
       "2. 'oranges'\n",
       "\n",
       "\n"
      ],
      "text/plain": [
       "[1] \"apples\"  \"oranges\""
      ]
     },
     "metadata": {},
     "output_type": "display_data"
    },
    {
     "data": {
      "text/html": [
       "<style>\n",
       ".list-inline {list-style: none; margin:0; padding: 0}\n",
       ".list-inline>li {display: inline-block}\n",
       ".list-inline>li:not(:last-child)::after {content: \"\\00b7\"; padding: 0 .5ex}\n",
       "</style>\n",
       "<ol class=list-inline><li>'apples'</li><li>'oranges'</li><li>'kiwis'</li></ol>\n"
      ],
      "text/latex": [
       "\\begin{enumerate*}\n",
       "\\item 'apples'\n",
       "\\item 'oranges'\n",
       "\\item 'kiwis'\n",
       "\\end{enumerate*}\n"
      ],
      "text/markdown": [
       "1. 'apples'\n",
       "2. 'oranges'\n",
       "3. 'kiwis'\n",
       "\n",
       "\n"
      ],
      "text/plain": [
       "[1] \"apples\"  \"oranges\" \"kiwis\"  "
      ]
     },
     "metadata": {},
     "output_type": "display_data"
    },
    {
     "data": {
      "text/html": [
       "<style>\n",
       ".list-inline {list-style: none; margin:0; padding: 0}\n",
       ".list-inline>li {display: inline-block}\n",
       ".list-inline>li:not(:last-child)::after {content: \"\\00b7\"; padding: 0 .5ex}\n",
       "</style>\n",
       "<ol class=list-inline><li>'apples'</li><li>'oranges'</li><li>'mangos'</li></ol>\n"
      ],
      "text/latex": [
       "\\begin{enumerate*}\n",
       "\\item 'apples'\n",
       "\\item 'oranges'\n",
       "\\item 'mangos'\n",
       "\\end{enumerate*}\n"
      ],
      "text/markdown": [
       "1. 'apples'\n",
       "2. 'oranges'\n",
       "3. 'mangos'\n",
       "\n",
       "\n"
      ],
      "text/plain": [
       "[1] \"apples\"  \"oranges\" \"mangos\" "
      ]
     },
     "metadata": {},
     "output_type": "display_data"
    }
   ],
   "source": [
    "fruits = c(\"apples\",\"oranges\",\"kiwis\",\"mangos\")\n",
    "\n",
    "fr_1=fruits[1] #first element of a vector\n",
    "\n",
    "len_fr=length(fruits) #vector length\n",
    "\n",
    "last_fr=fruits[length(fruits)]#last element of a vector\n",
    "\n",
    "first_2=fruits[c(1,2)] # First two elements\n",
    "first_3=fruits[1:3] #Elements 1 to 3\n",
    "\n",
    "all_ex3=fruits[-3] #Everything exept the 3 elements\n",
    "\n",
    "fruits\n",
    "fr_1\n",
    "len_fr\n",
    "last_fr\n",
    "first_2\n",
    "first_3\n",
    "all_ex3"
   ]
  },
  {
   "cell_type": "markdown",
   "id": "6656ec32-2d9e-4ec7-bda9-7cd953a68413",
   "metadata": {},
   "source": [
    "Remember vectors x, y and z defined above.  Here's some more manipulations with those."
   ]
  },
  {
   "cell_type": "code",
   "execution_count": 65,
   "id": "f99b4f3c-21e6-41ca-9588-60801ce30e52",
   "metadata": {},
   "outputs": [
    {
     "data": {
      "text/html": [
       "<style>\n",
       ".list-inline {list-style: none; margin:0; padding: 0}\n",
       ".list-inline>li {display: inline-block}\n",
       ".list-inline>li:not(:last-child)::after {content: \"\\00b7\"; padding: 0 .5ex}\n",
       "</style>\n",
       "<ol class=list-inline><li>1</li><li>3</li><li>4</li><li>7</li><li>1</li><li>1</li><li>1</li><li>1</li></ol>\n"
      ],
      "text/latex": [
       "\\begin{enumerate*}\n",
       "\\item 1\n",
       "\\item 3\n",
       "\\item 4\n",
       "\\item 7\n",
       "\\item 1\n",
       "\\item 1\n",
       "\\item 1\n",
       "\\item 1\n",
       "\\end{enumerate*}\n"
      ],
      "text/markdown": [
       "1. 1\n",
       "2. 3\n",
       "3. 4\n",
       "4. 7\n",
       "5. 1\n",
       "6. 1\n",
       "7. 1\n",
       "8. 1\n",
       "\n",
       "\n"
      ],
      "text/plain": [
       "[1] 1 3 4 7 1 1 1 1"
      ]
     },
     "metadata": {},
     "output_type": "display_data"
    },
    {
     "data": {
      "text/html": [
       "<style>\n",
       ".list-inline {list-style: none; margin:0; padding: 0}\n",
       ".list-inline>li {display: inline-block}\n",
       ".list-inline>li:not(:last-child)::after {content: \"\\00b7\"; padding: 0 .5ex}\n",
       "</style>\n",
       "<ol class=list-inline><li>4</li><li>7</li></ol>\n"
      ],
      "text/latex": [
       "\\begin{enumerate*}\n",
       "\\item 4\n",
       "\\item 7\n",
       "\\end{enumerate*}\n"
      ],
      "text/markdown": [
       "1. 4\n",
       "2. 7\n",
       "\n",
       "\n"
      ],
      "text/plain": [
       "[1] 4 7"
      ]
     },
     "metadata": {},
     "output_type": "display_data"
    },
    {
     "data": {
      "text/html": [
       "<style>\n",
       ".list-inline {list-style: none; margin:0; padding: 0}\n",
       ".list-inline>li {display: inline-block}\n",
       ".list-inline>li:not(:last-child)::after {content: \"\\00b7\"; padding: 0 .5ex}\n",
       "</style>\n",
       "<ol class=list-inline><li>3.07807302063375</li><li>3.16984164587796</li></ol>\n"
      ],
      "text/latex": [
       "\\begin{enumerate*}\n",
       "\\item 3.07807302063375\n",
       "\\item 3.16984164587796\n",
       "\\end{enumerate*}\n"
      ],
      "text/markdown": [
       "1. 3.07807302063375\n",
       "2. 3.16984164587796\n",
       "\n",
       "\n"
      ],
      "text/plain": [
       "[1] 3.078073 3.169842"
      ]
     },
     "metadata": {},
     "output_type": "display_data"
    },
    {
     "data": {
      "text/html": [
       "<style>\n",
       ".list-inline {list-style: none; margin:0; padding: 0}\n",
       ".list-inline>li {display: inline-block}\n",
       ".list-inline>li:not(:last-child)::after {content: \"\\00b7\"; padding: 0 .5ex}\n",
       "</style>\n",
       "<ol class=list-inline><li>1.5</li><li>2</li></ol>\n"
      ],
      "text/latex": [
       "\\begin{enumerate*}\n",
       "\\item 1.5\n",
       "\\item 2\n",
       "\\end{enumerate*}\n"
      ],
      "text/markdown": [
       "1. 1.5\n",
       "2. 2\n",
       "\n",
       "\n"
      ],
      "text/plain": [
       "[1] 1.5 2.0"
      ]
     },
     "metadata": {},
     "output_type": "display_data"
    },
    {
     "data": {
      "text/html": [
       "<style>\n",
       ".list-inline {list-style: none; margin:0; padding: 0}\n",
       ".list-inline>li {display: inline-block}\n",
       ".list-inline>li:not(:last-child)::after {content: \"\\00b7\"; padding: 0 .5ex}\n",
       "</style>\n",
       "<ol class=list-inline><li>0.375</li><li>0.444444444444444</li></ol>\n"
      ],
      "text/latex": [
       "\\begin{enumerate*}\n",
       "\\item 0.375\n",
       "\\item 0.444444444444444\n",
       "\\end{enumerate*}\n"
      ],
      "text/markdown": [
       "1. 0.375\n",
       "2. 0.444444444444444\n",
       "\n",
       "\n"
      ],
      "text/plain": [
       "[1] 0.3750000 0.4444444"
      ]
     },
     "metadata": {},
     "output_type": "display_data"
    }
   ],
   "source": [
    "joined_vec=c(x,z) #join x and z vectors\n",
    "larger_than4=x[x>=4] # All elements of x that are greater/equal than 4\n",
    "fn1=sin(x[x>=4]+2)^2 + c(3)\n",
    "div1=c(3,4)/2\n",
    "div2=c(3,4)/c(8,9)\n",
    "\n",
    "joined_vec\n",
    "larger_than4\n",
    "fn1\n",
    "div1\n",
    "div2"
   ]
  },
  {
   "cell_type": "code",
   "execution_count": 66,
   "id": "4f75a607-9545-400b-8beb-8f0b9a963277",
   "metadata": {},
   "outputs": [
    {
     "data": {
      "text/html": [
       "<style>\n",
       ".list-inline {list-style: none; margin:0; padding: 0}\n",
       ".list-inline>li {display: inline-block}\n",
       ".list-inline>li:not(:last-child)::after {content: \"\\00b7\"; padding: 0 .5ex}\n",
       "</style>\n",
       "<ol class=list-inline><li>8</li><li>5</li><li>4</li><li>2</li></ol>\n"
      ],
      "text/latex": [
       "\\begin{enumerate*}\n",
       "\\item 8\n",
       "\\item 5\n",
       "\\item 4\n",
       "\\item 2\n",
       "\\end{enumerate*}\n"
      ],
      "text/markdown": [
       "1. 8\n",
       "2. 5\n",
       "3. 4\n",
       "4. 2\n",
       "\n",
       "\n"
      ],
      "text/plain": [
       "[1] 8 5 4 2"
      ]
     },
     "metadata": {},
     "output_type": "display_data"
    },
    {
     "data": {
      "text/html": [
       "<style>\n",
       ".list-inline {list-style: none; margin:0; padding: 0}\n",
       ".list-inline>li {display: inline-block}\n",
       ".list-inline>li:not(:last-child)::after {content: \"\\00b7\"; padding: 0 .5ex}\n",
       "</style>\n",
       "<ol class=list-inline><li>10</li><li>6</li><li>8</li><li>2</li><li>10</li></ol>\n"
      ],
      "text/latex": [
       "\\begin{enumerate*}\n",
       "\\item 10\n",
       "\\item 6\n",
       "\\item 8\n",
       "\\item 2\n",
       "\\item 10\n",
       "\\end{enumerate*}\n"
      ],
      "text/markdown": [
       "1. 10\n",
       "2. 6\n",
       "3. 8\n",
       "4. 2\n",
       "5. 10\n",
       "\n",
       "\n"
      ],
      "text/plain": [
       "[1] 10  6  8  2 10"
      ]
     },
     "metadata": {},
     "output_type": "display_data"
    },
    {
     "data": {
      "text/html": [
       "<style>\n",
       ".list-inline {list-style: none; margin:0; padding: 0}\n",
       ".list-inline>li {display: inline-block}\n",
       ".list-inline>li:not(:last-child)::after {content: \"\\00b7\"; padding: 0 .5ex}\n",
       "</style>\n",
       "<ol class=list-inline><li>2</li><li>6</li><li>8</li><li>10</li><li>10</li></ol>\n"
      ],
      "text/latex": [
       "\\begin{enumerate*}\n",
       "\\item 2\n",
       "\\item 6\n",
       "\\item 8\n",
       "\\item 10\n",
       "\\item 10\n",
       "\\end{enumerate*}\n"
      ],
      "text/markdown": [
       "1. 2\n",
       "2. 6\n",
       "3. 8\n",
       "4. 10\n",
       "5. 10\n",
       "\n",
       "\n"
      ],
      "text/plain": [
       "[1]  2  6  8 10 10"
      ]
     },
     "metadata": {},
     "output_type": "display_data"
    },
    {
     "data": {
      "text/html": [
       "<style>\n",
       ".list-inline {list-style: none; margin:0; padding: 0}\n",
       ".list-inline>li {display: inline-block}\n",
       ".list-inline>li:not(:last-child)::after {content: \"\\00b7\"; padding: 0 .5ex}\n",
       "</style>\n",
       "<ol class=list-inline><li>4</li><li>2</li><li>3</li><li>1</li><li>5</li></ol>\n"
      ],
      "text/latex": [
       "\\begin{enumerate*}\n",
       "\\item 4\n",
       "\\item 2\n",
       "\\item 3\n",
       "\\item 1\n",
       "\\item 5\n",
       "\\end{enumerate*}\n"
      ],
      "text/markdown": [
       "1. 4\n",
       "2. 2\n",
       "3. 3\n",
       "4. 1\n",
       "5. 5\n",
       "\n",
       "\n"
      ],
      "text/plain": [
       "[1] 4 2 3 1 5"
      ]
     },
     "metadata": {},
     "output_type": "display_data"
    },
    {
     "data": {
      "text/html": [
       "<style>\n",
       ".list-inline {list-style: none; margin:0; padding: 0}\n",
       ".list-inline>li {display: inline-block}\n",
       ".list-inline>li:not(:last-child)::after {content: \"\\00b7\"; padding: 0 .5ex}\n",
       "</style>\n",
       "<ol class=list-inline><li>10</li><li>10</li><li>8</li><li>6</li><li>2</li></ol>\n"
      ],
      "text/latex": [
       "\\begin{enumerate*}\n",
       "\\item 10\n",
       "\\item 10\n",
       "\\item 8\n",
       "\\item 6\n",
       "\\item 2\n",
       "\\end{enumerate*}\n"
      ],
      "text/markdown": [
       "1. 10\n",
       "2. 10\n",
       "3. 8\n",
       "4. 6\n",
       "5. 2\n",
       "\n",
       "\n"
      ],
      "text/plain": [
       "[1] 10 10  8  6  2"
      ]
     },
     "metadata": {},
     "output_type": "display_data"
    }
   ],
   "source": [
    "y_rev=rev(y) #reverse\n",
    "w = c(10,6,8,2,10)\n",
    "w_srt=sort(w)\n",
    "w_ord=order(w)\n",
    "#Sort y\n",
    "sorted_w=w[order(w, decreasing=TRUE)]\n",
    "\n",
    "y_rev\n",
    "w\n",
    "w_srt\n",
    "w_ord\n",
    "sorted_w"
   ]
  },
  {
   "cell_type": "markdown",
   "id": "d1e791c0-222e-4229-9876-1ba6ed1fbb84",
   "metadata": {},
   "source": [
    "# Matrices"
   ]
  },
  {
   "cell_type": "markdown",
   "id": "285eaf14-1a19-4aa5-888d-2a95fd0af113",
   "metadata": {},
   "source": [
    "Vectors can be multidimensional. In R two-dimensional vectors are matrices (arrays if three and up). To subset multidimensional vectors in R you need to specifiy subsetted columns and rows separately. This is done using squared brackets and column/row indices separated with comma eg for matrix/data frame \"mat\" this would be `mat[subset_rows,subset_cols]`"
   ]
  },
  {
   "cell_type": "code",
   "execution_count": 67,
   "id": "2e50a368-474a-495c-9498-8ae3330c4db6",
   "metadata": {},
   "outputs": [
    {
     "data": {
      "text/html": [
       "<table class=\"dataframe\">\n",
       "<caption>A matrix: 2 x 2 of type chr</caption>\n",
       "<tbody>\n",
       "\t<tr><td>apples </td><td>kiwis </td></tr>\n",
       "\t<tr><td>oranges</td><td>mangos</td></tr>\n",
       "</tbody>\n",
       "</table>\n"
      ],
      "text/latex": [
       "A matrix: 2 x 2 of type chr\n",
       "\\begin{tabular}{ll}\n",
       "\t apples  & kiwis \\\\\n",
       "\t oranges & mangos\\\\\n",
       "\\end{tabular}\n"
      ],
      "text/markdown": [
       "\n",
       "A matrix: 2 x 2 of type chr\n",
       "\n",
       "| apples  | kiwis  |\n",
       "| oranges | mangos |\n",
       "\n"
      ],
      "text/plain": [
       "     [,1]    [,2]  \n",
       "[1,] apples  kiwis \n",
       "[2,] oranges mangos"
      ]
     },
     "metadata": {},
     "output_type": "display_data"
    },
    {
     "data": {
      "text/html": [
       "<table class=\"dataframe\">\n",
       "<caption>A matrix: 3 x 4 of type dbl</caption>\n",
       "<tbody>\n",
       "\t<tr><td>1</td><td>3</td><td>6</td><td>11</td></tr>\n",
       "\t<tr><td>2</td><td>2</td><td>7</td><td> 2</td></tr>\n",
       "\t<tr><td>4</td><td>5</td><td>5</td><td> 3</td></tr>\n",
       "</tbody>\n",
       "</table>\n"
      ],
      "text/latex": [
       "A matrix: 3 x 4 of type dbl\n",
       "\\begin{tabular}{llll}\n",
       "\t 1 & 3 & 6 & 11\\\\\n",
       "\t 2 & 2 & 7 &  2\\\\\n",
       "\t 4 & 5 & 5 &  3\\\\\n",
       "\\end{tabular}\n"
      ],
      "text/markdown": [
       "\n",
       "A matrix: 3 x 4 of type dbl\n",
       "\n",
       "| 1 | 3 | 6 | 11 |\n",
       "| 2 | 2 | 7 |  2 |\n",
       "| 4 | 5 | 5 |  3 |\n",
       "\n"
      ],
      "text/plain": [
       "     [,1] [,2] [,3] [,4]\n",
       "[1,] 1    3    6    11  \n",
       "[2,] 2    2    7     2  \n",
       "[3,] 4    5    5     3  "
      ]
     },
     "metadata": {},
     "output_type": "display_data"
    },
    {
     "data": {
      "text/html": [
       "<table class=\"dataframe\">\n",
       "<caption>A matrix: 3 x 4 of type dbl</caption>\n",
       "<tbody>\n",
       "\t<tr><td>1</td><td> 2</td><td>4</td><td>3</td></tr>\n",
       "\t<tr><td>2</td><td> 5</td><td>6</td><td>7</td></tr>\n",
       "\t<tr><td>5</td><td>11</td><td>2</td><td>3</td></tr>\n",
       "</tbody>\n",
       "</table>\n"
      ],
      "text/latex": [
       "A matrix: 3 x 4 of type dbl\n",
       "\\begin{tabular}{llll}\n",
       "\t 1 &  2 & 4 & 3\\\\\n",
       "\t 2 &  5 & 6 & 7\\\\\n",
       "\t 5 & 11 & 2 & 3\\\\\n",
       "\\end{tabular}\n"
      ],
      "text/markdown": [
       "\n",
       "A matrix: 3 x 4 of type dbl\n",
       "\n",
       "| 1 |  2 | 4 | 3 |\n",
       "| 2 |  5 | 6 | 7 |\n",
       "| 5 | 11 | 2 | 3 |\n",
       "\n"
      ],
      "text/plain": [
       "     [,1] [,2] [,3] [,4]\n",
       "[1,] 1     2   4    3   \n",
       "[2,] 2     5   6    7   \n",
       "[3,] 5    11   2    3   "
      ]
     },
     "metadata": {},
     "output_type": "display_data"
    },
    {
     "data": {
      "text/html": [
       "<table class=\"dataframe\">\n",
       "<caption>A matrix: 2 x 5 of type dbl</caption>\n",
       "<tbody>\n",
       "\t<tr><td>10</td><td>10</td><td>10</td><td>10</td><td>10</td></tr>\n",
       "\t<tr><td>10</td><td>10</td><td>10</td><td>10</td><td>10</td></tr>\n",
       "</tbody>\n",
       "</table>\n"
      ],
      "text/latex": [
       "A matrix: 2 x 5 of type dbl\n",
       "\\begin{tabular}{lllll}\n",
       "\t 10 & 10 & 10 & 10 & 10\\\\\n",
       "\t 10 & 10 & 10 & 10 & 10\\\\\n",
       "\\end{tabular}\n"
      ],
      "text/markdown": [
       "\n",
       "A matrix: 2 x 5 of type dbl\n",
       "\n",
       "| 10 | 10 | 10 | 10 | 10 |\n",
       "| 10 | 10 | 10 | 10 | 10 |\n",
       "\n"
      ],
      "text/plain": [
       "     [,1] [,2] [,3] [,4] [,5]\n",
       "[1,] 10   10   10   10   10  \n",
       "[2,] 10   10   10   10   10  "
      ]
     },
     "metadata": {},
     "output_type": "display_data"
    },
    {
     "name": "stdout",
     "output_type": "stream",
     "text": [
      "[1] \"Rownumber of mx2\"\n"
     ]
    },
    {
     "data": {
      "text/html": [
       "3"
      ],
      "text/latex": [
       "3"
      ],
      "text/markdown": [
       "3"
      ],
      "text/plain": [
       "[1] 3"
      ]
     },
     "metadata": {},
     "output_type": "display_data"
    },
    {
     "name": "stdout",
     "output_type": "stream",
     "text": [
      "[1] \"Colnumber of mx2\"\n"
     ]
    },
    {
     "data": {
      "text/html": [
       "4"
      ],
      "text/latex": [
       "4"
      ],
      "text/markdown": [
       "4"
      ],
      "text/plain": [
       "[1] 4"
      ]
     },
     "metadata": {},
     "output_type": "display_data"
    }
   ],
   "source": [
    "#Some ways of declaring a matrix\n",
    "mx = matrix(fruits,2,2)\n",
    "mx2=matrix(c(1,2,4,3,2,5,6,7,5,11,2,3),3,4)\n",
    "mx3 = matrix(c(1,2,4,3,2,5,6,7,5,11,2,3),3,4, byrow=TRUE)\n",
    "mx4=matrix(rep(10,10), ncol = 5)\n",
    "\n",
    "mx\n",
    "mx2\n",
    "mx3\n",
    "mx4\n",
    "\n",
    "#How many rows and columns / printed on console\n",
    "print('Rownumber of mx2')\n",
    "nrow(mx2)\n",
    "print('Colnumber of mx2')\n",
    "ncol(mx2)"
   ]
  },
  {
   "cell_type": "code",
   "execution_count": 68,
   "id": "0ba259f0-6b5e-4ceb-865c-b7f26b600317",
   "metadata": {},
   "outputs": [
    {
     "data": {
      "text/html": [
       "<table class=\"dataframe\">\n",
       "<caption>A matrix: 3 x 2 of type dbl</caption>\n",
       "<tbody>\n",
       "\t<tr><td>1</td><td>3</td></tr>\n",
       "\t<tr><td>2</td><td>2</td></tr>\n",
       "\t<tr><td>4</td><td>5</td></tr>\n",
       "</tbody>\n",
       "</table>\n"
      ],
      "text/latex": [
       "A matrix: 3 x 2 of type dbl\n",
       "\\begin{tabular}{ll}\n",
       "\t 1 & 3\\\\\n",
       "\t 2 & 2\\\\\n",
       "\t 4 & 5\\\\\n",
       "\\end{tabular}\n"
      ],
      "text/markdown": [
       "\n",
       "A matrix: 3 x 2 of type dbl\n",
       "\n",
       "| 1 | 3 |\n",
       "| 2 | 2 |\n",
       "| 4 | 5 |\n",
       "\n"
      ],
      "text/plain": [
       "     [,1] [,2]\n",
       "[1,] 1    3   \n",
       "[2,] 2    2   \n",
       "[3,] 4    5   "
      ]
     },
     "metadata": {},
     "output_type": "display_data"
    },
    {
     "data": {
      "text/html": [
       "<table class=\"dataframe\">\n",
       "<caption>A matrix: 2 x 4 of type dbl</caption>\n",
       "<tbody>\n",
       "\t<tr><td>1</td><td>3</td><td>6</td><td>11</td></tr>\n",
       "\t<tr><td>2</td><td>2</td><td>7</td><td> 2</td></tr>\n",
       "</tbody>\n",
       "</table>\n"
      ],
      "text/latex": [
       "A matrix: 2 x 4 of type dbl\n",
       "\\begin{tabular}{llll}\n",
       "\t 1 & 3 & 6 & 11\\\\\n",
       "\t 2 & 2 & 7 &  2\\\\\n",
       "\\end{tabular}\n"
      ],
      "text/markdown": [
       "\n",
       "A matrix: 2 x 4 of type dbl\n",
       "\n",
       "| 1 | 3 | 6 | 11 |\n",
       "| 2 | 2 | 7 |  2 |\n",
       "\n"
      ],
      "text/plain": [
       "     [,1] [,2] [,3] [,4]\n",
       "[1,] 1    3    6    11  \n",
       "[2,] 2    2    7     2  "
      ]
     },
     "metadata": {},
     "output_type": "display_data"
    },
    {
     "data": {
      "text/html": [
       "<style>\n",
       ".list-inline {list-style: none; margin:0; padding: 0}\n",
       ".list-inline>li {display: inline-block}\n",
       ".list-inline>li:not(:last-child)::after {content: \"\\00b7\"; padding: 0 .5ex}\n",
       "</style>\n",
       "<ol class=list-inline><li>2</li><li>6</li><li>12</li><li>22</li></ol>\n"
      ],
      "text/latex": [
       "\\begin{enumerate*}\n",
       "\\item 2\n",
       "\\item 6\n",
       "\\item 12\n",
       "\\item 22\n",
       "\\end{enumerate*}\n"
      ],
      "text/markdown": [
       "1. 2\n",
       "2. 6\n",
       "3. 12\n",
       "4. 22\n",
       "\n",
       "\n"
      ],
      "text/plain": [
       "[1]  2  6 12 22"
      ]
     },
     "metadata": {},
     "output_type": "display_data"
    },
    {
     "data": {
      "text/html": [
       "<style>\n",
       ".list-inline {list-style: none; margin:0; padding: 0}\n",
       ".list-inline>li {display: inline-block}\n",
       ".list-inline>li:not(:last-child)::after {content: \"\\00b7\"; padding: 0 .5ex}\n",
       "</style>\n",
       "<ol class=list-inline><li>3</li><li>2</li><li>5</li></ol>\n"
      ],
      "text/latex": [
       "\\begin{enumerate*}\n",
       "\\item 3\n",
       "\\item 2\n",
       "\\item 5\n",
       "\\end{enumerate*}\n"
      ],
      "text/markdown": [
       "1. 3\n",
       "2. 2\n",
       "3. 5\n",
       "\n",
       "\n"
      ],
      "text/plain": [
       "[1] 3 2 5"
      ]
     },
     "metadata": {},
     "output_type": "display_data"
    },
    {
     "data": {
      "text/html": [
       "6"
      ],
      "text/latex": [
       "6"
      ],
      "text/markdown": [
       "6"
      ],
      "text/plain": [
       "[1] 6"
      ]
     },
     "metadata": {},
     "output_type": "display_data"
    },
    {
     "data": {
      "text/html": [
       "<table class=\"dataframe\">\n",
       "<caption>A matrix: 3 x 4 of type dbl</caption>\n",
       "<tbody>\n",
       "\t<tr><td> 7</td><td>21</td><td>42</td><td>77</td></tr>\n",
       "\t<tr><td>14</td><td>14</td><td>49</td><td>14</td></tr>\n",
       "\t<tr><td>28</td><td>35</td><td>35</td><td>21</td></tr>\n",
       "</tbody>\n",
       "</table>\n"
      ],
      "text/latex": [
       "A matrix: 3 x 4 of type dbl\n",
       "\\begin{tabular}{llll}\n",
       "\t  7 & 21 & 42 & 77\\\\\n",
       "\t 14 & 14 & 49 & 14\\\\\n",
       "\t 28 & 35 & 35 & 21\\\\\n",
       "\\end{tabular}\n"
      ],
      "text/markdown": [
       "\n",
       "A matrix: 3 x 4 of type dbl\n",
       "\n",
       "|  7 | 21 | 42 | 77 |\n",
       "| 14 | 14 | 49 | 14 |\n",
       "| 28 | 35 | 35 | 21 |\n",
       "\n"
      ],
      "text/plain": [
       "     [,1] [,2] [,3] [,4]\n",
       "[1,]  7   21   42   77  \n",
       "[2,] 14   14   49   14  \n",
       "[3,] 28   35   35   21  "
      ]
     },
     "metadata": {},
     "output_type": "display_data"
    },
    {
     "data": {
      "text/html": [
       "<style>\n",
       ".list-inline {list-style: none; margin:0; padding: 0}\n",
       ".list-inline>li {display: inline-block}\n",
       ".list-inline>li:not(:last-child)::after {content: \"\\00b7\"; padding: 0 .5ex}\n",
       "</style>\n",
       "<ol class=list-inline><li>3</li><li>3.5</li><li>2.5</li></ol>\n"
      ],
      "text/latex": [
       "\\begin{enumerate*}\n",
       "\\item 3\n",
       "\\item 3.5\n",
       "\\item 2.5\n",
       "\\end{enumerate*}\n"
      ],
      "text/markdown": [
       "1. 3\n",
       "2. 3.5\n",
       "3. 2.5\n",
       "\n",
       "\n"
      ],
      "text/plain": [
       "[1] 3.0 3.5 2.5"
      ]
     },
     "metadata": {},
     "output_type": "display_data"
    }
   ],
   "source": [
    "#Extract subsets in matrix.\n",
    "#First and second columns\n",
    "mx2_col12=mx2[,c(1,2)]\n",
    "#First and second rows\n",
    "mx2_row12=mx2[c(1,2),]\n",
    "#Multiply the first row elements by two.\n",
    "mxnew=mx2[1,]*2\n",
    "mx2_col2=mx2[,2]\n",
    "#Extract element value in third column and first row\n",
    "mx2_row1col3=mx2[1,3]\n",
    "mx2_times7=mx2*7\n",
    "mx_col3div2=mx2[,3]/2\n",
    "\n",
    "\n",
    "mx2_col12\n",
    "mx2_row12\n",
    "mxnew\n",
    "mx2_col2\n",
    "mx2_row1col3\n",
    "mx2_times7\n",
    "mx_col3div2"
   ]
  },
  {
   "cell_type": "markdown",
   "id": "53f65c25-0b3a-45f4-9e1b-df4f850790e0",
   "metadata": {},
   "source": [
    "Elements in a matrix can be modified."
   ]
  },
  {
   "cell_type": "code",
   "execution_count": 69,
   "id": "ea72908a-c244-4ea6-88b1-58d5621bc5a8",
   "metadata": {},
   "outputs": [
    {
     "data": {
      "text/html": [
       "<table class=\"dataframe\">\n",
       "<caption>A matrix: 3 x 4 of type dbl</caption>\n",
       "<tbody>\n",
       "\t<tr><td>1</td><td>3</td><td>6</td><td>11</td></tr>\n",
       "\t<tr><td>2</td><td>2</td><td>7</td><td> 2</td></tr>\n",
       "\t<tr><td>4</td><td>5</td><td>5</td><td> 3</td></tr>\n",
       "</tbody>\n",
       "</table>\n"
      ],
      "text/latex": [
       "A matrix: 3 x 4 of type dbl\n",
       "\\begin{tabular}{llll}\n",
       "\t 1 & 3 & 6 & 11\\\\\n",
       "\t 2 & 2 & 7 &  2\\\\\n",
       "\t 4 & 5 & 5 &  3\\\\\n",
       "\\end{tabular}\n"
      ],
      "text/markdown": [
       "\n",
       "A matrix: 3 x 4 of type dbl\n",
       "\n",
       "| 1 | 3 | 6 | 11 |\n",
       "| 2 | 2 | 7 |  2 |\n",
       "| 4 | 5 | 5 |  3 |\n",
       "\n"
      ],
      "text/plain": [
       "     [,1] [,2] [,3] [,4]\n",
       "[1,] 1    3    6    11  \n",
       "[2,] 2    2    7     2  \n",
       "[3,] 4    5    5     3  "
      ]
     },
     "metadata": {},
     "output_type": "display_data"
    }
   ],
   "source": [
    "mx2"
   ]
  },
  {
   "cell_type": "code",
   "execution_count": 70,
   "id": "29eadb84-637b-4c37-b6bf-d6d33e99bda7",
   "metadata": {},
   "outputs": [
    {
     "data": {
      "text/html": [
       "<table class=\"dataframe\">\n",
       "<caption>A matrix: 3 x 4 of type dbl</caption>\n",
       "<tbody>\n",
       "\t<tr><td>0.5</td><td>1.5</td><td>3</td><td>5.5</td></tr>\n",
       "\t<tr><td>2.0</td><td>2.0</td><td>7</td><td>2.0</td></tr>\n",
       "\t<tr><td>4.0</td><td>5.0</td><td>5</td><td>3.0</td></tr>\n",
       "</tbody>\n",
       "</table>\n"
      ],
      "text/latex": [
       "A matrix: 3 x 4 of type dbl\n",
       "\\begin{tabular}{llll}\n",
       "\t 0.5 & 1.5 & 3 & 5.5\\\\\n",
       "\t 2.0 & 2.0 & 7 & 2.0\\\\\n",
       "\t 4.0 & 5.0 & 5 & 3.0\\\\\n",
       "\\end{tabular}\n"
      ],
      "text/markdown": [
       "\n",
       "A matrix: 3 x 4 of type dbl\n",
       "\n",
       "| 0.5 | 1.5 | 3 | 5.5 |\n",
       "| 2.0 | 2.0 | 7 | 2.0 |\n",
       "| 4.0 | 5.0 | 5 | 3.0 |\n",
       "\n"
      ],
      "text/plain": [
       "     [,1] [,2] [,3] [,4]\n",
       "[1,] 0.5  1.5  3    5.5 \n",
       "[2,] 2.0  2.0  7    2.0 \n",
       "[3,] 4.0  5.0  5    3.0 "
      ]
     },
     "metadata": {},
     "output_type": "display_data"
    }
   ],
   "source": [
    "#Change 1 row of mx2\n",
    "mx2[1,] = mx2[1,]/2\n",
    "\n",
    "mx2"
   ]
  },
  {
   "cell_type": "code",
   "execution_count": 71,
   "id": "515e5a19-23ef-4272-9602-1b3c2eac0dca",
   "metadata": {},
   "outputs": [
    {
     "data": {
      "text/html": [
       "<table class=\"dataframe\">\n",
       "<caption>A matrix: 3 x 4 of type dbl</caption>\n",
       "<tbody>\n",
       "\t<tr><td>0.5</td><td>3</td><td>3</td><td>5.5</td></tr>\n",
       "\t<tr><td>2.0</td><td>3</td><td>7</td><td>2.0</td></tr>\n",
       "\t<tr><td>4.0</td><td>3</td><td>5</td><td>3.0</td></tr>\n",
       "</tbody>\n",
       "</table>\n"
      ],
      "text/latex": [
       "A matrix: 3 x 4 of type dbl\n",
       "\\begin{tabular}{llll}\n",
       "\t 0.5 & 3 & 3 & 5.5\\\\\n",
       "\t 2.0 & 3 & 7 & 2.0\\\\\n",
       "\t 4.0 & 3 & 5 & 3.0\\\\\n",
       "\\end{tabular}\n"
      ],
      "text/markdown": [
       "\n",
       "A matrix: 3 x 4 of type dbl\n",
       "\n",
       "| 0.5 | 3 | 3 | 5.5 |\n",
       "| 2.0 | 3 | 7 | 2.0 |\n",
       "| 4.0 | 3 | 5 | 3.0 |\n",
       "\n"
      ],
      "text/plain": [
       "     [,1] [,2] [,3] [,4]\n",
       "[1,] 0.5  3    3    5.5 \n",
       "[2,] 2.0  3    7    2.0 \n",
       "[3,] 4.0  3    5    3.0 "
      ]
     },
     "metadata": {},
     "output_type": "display_data"
    }
   ],
   "source": [
    "mx2[,2] = rep(3,3)\n",
    "\n",
    "mx2"
   ]
  },
  {
   "cell_type": "code",
   "execution_count": 72,
   "id": "c3d8334e-f0f7-4c97-83c9-8f16fed22d4d",
   "metadata": {},
   "outputs": [
    {
     "data": {
      "text/html": [
       "<table class=\"dataframe\">\n",
       "<caption>A matrix: 3 x 4 of type dbl</caption>\n",
       "<tbody>\n",
       "\t<tr><td>0.5</td><td>3</td><td>3</td><td>5.5</td></tr>\n",
       "\t<tr><td>2.0</td><td>3</td><td>3</td><td>2.0</td></tr>\n",
       "\t<tr><td>4.0</td><td>3</td><td>3</td><td>3.0</td></tr>\n",
       "</tbody>\n",
       "</table>\n"
      ],
      "text/latex": [
       "A matrix: 3 x 4 of type dbl\n",
       "\\begin{tabular}{llll}\n",
       "\t 0.5 & 3 & 3 & 5.5\\\\\n",
       "\t 2.0 & 3 & 3 & 2.0\\\\\n",
       "\t 4.0 & 3 & 3 & 3.0\\\\\n",
       "\\end{tabular}\n"
      ],
      "text/markdown": [
       "\n",
       "A matrix: 3 x 4 of type dbl\n",
       "\n",
       "| 0.5 | 3 | 3 | 5.5 |\n",
       "| 2.0 | 3 | 3 | 2.0 |\n",
       "| 4.0 | 3 | 3 | 3.0 |\n",
       "\n"
      ],
      "text/plain": [
       "     [,1] [,2] [,3] [,4]\n",
       "[1,] 0.5  3    3    5.5 \n",
       "[2,] 2.0  3    3    2.0 \n",
       "[3,] 4.0  3    3    3.0 "
      ]
     },
     "metadata": {},
     "output_type": "display_data"
    }
   ],
   "source": [
    "mx2[,3] = 3\n",
    "\n",
    "mx2"
   ]
  },
  {
   "cell_type": "markdown",
   "id": "16710f30-c7e7-46f0-9be2-96d899e4efa3",
   "metadata": {},
   "source": [
    "# Lists"
   ]
  },
  {
   "cell_type": "markdown",
   "id": "5ff8c2b1-89ef-44b2-a5a3-b87b2e719c2a",
   "metadata": {},
   "source": [
    "Lists can be used to store a larger number values that are different to eachother in terms of length and type."
   ]
  },
  {
   "cell_type": "code",
   "execution_count": 73,
   "id": "4b89e8aa-a8e8-45c1-a7dc-1a55924dfbff",
   "metadata": {},
   "outputs": [
    {
     "name": "stdout",
     "output_type": "stream",
     "text": [
      "List of 4\n",
      " $ surname: chr \"Mike\"\n",
      " $ x      : num 2\n",
      " $ y      : num 9\n",
      " $ year   : num 1990\n",
      "[1] \"Extract list element surname\"\n"
     ]
    },
    {
     "data": {
      "text/html": [
       "'Mike'"
      ],
      "text/latex": [
       "'Mike'"
      ],
      "text/markdown": [
       "'Mike'"
      ],
      "text/plain": [
       "[1] \"Mike\""
      ]
     },
     "metadata": {},
     "output_type": "display_data"
    }
   ],
   "source": [
    "#Declare a list variable that has 4 components\n",
    "person = list(surname=\"Mike\", x=2, y=9, year=1990)\n",
    "str(person)\n",
    "print('Extract list element surname')\n",
    "person$surname #dollar sign\n",
    "complicated_list = list(\"a\"= 1:4, \"b\"=1:3, \"c\"=matrix(1:4, nrow=2), \"d\"=search)\n",
    "#Extract first list element\n",
    "#print('First data element')\n",
    "sec1=complicated_list[[1]]\n",
    "#print('Extract second element in the first data structure of complicated_list')\n",
    "sec2=complicated_list[[1]][2]\n",
    "\n",
    "complicated_list$a = matrix(1, 2, 2)     # replacing a list element\n",
    "complicated_list$title ='an arbitrary list' # adding an element\n",
    "complicated_list$d = NULL                  # removing an element\n",
    "#complicated_list"
   ]
  },
  {
   "cell_type": "code",
   "execution_count": 74,
   "id": "f2688ac6-cf6f-4c2c-b89b-9602fb5fe51e",
   "metadata": {},
   "outputs": [
    {
     "data": {
      "text/html": [
       "<dl>\n",
       "\t<dt>$a</dt>\n",
       "\t\t<dd>1</dd>\n",
       "\t<dt>$b</dt>\n",
       "\t\t<dd>2</dd>\n",
       "\t<dt>$c</dt>\n",
       "\t\t<dd>'3'</dd>\n",
       "\t<dt>$d</dt>\n",
       "\t\t<dd>'test'</dd>\n",
       "</dl>\n"
      ],
      "text/latex": [
       "\\begin{description}\n",
       "\\item[\\$a] 1\n",
       "\\item[\\$b] 2\n",
       "\\item[\\$c] '3'\n",
       "\\item[\\$d] 'test'\n",
       "\\end{description}\n"
      ],
      "text/markdown": [
       "$a\n",
       ":   1\n",
       "$b\n",
       ":   2\n",
       "$c\n",
       ":   '3'\n",
       "$d\n",
       ":   'test'\n",
       "\n",
       "\n"
      ],
      "text/plain": [
       "$a\n",
       "[1] 1\n",
       "\n",
       "$b\n",
       "[1] 2\n",
       "\n",
       "$c\n",
       "[1] \"3\"\n",
       "\n",
       "$d\n",
       "[1] \"test\"\n"
      ]
     },
     "metadata": {},
     "output_type": "display_data"
    },
    {
     "data": {
      "text/html": [
       "<ol>\n",
       "\t<li>1</li>\n",
       "\t<li>2</li>\n",
       "\t<li>'3'</li>\n",
       "\t<li>'test'</li>\n",
       "</ol>\n"
      ],
      "text/latex": [
       "\\begin{enumerate}\n",
       "\\item 1\n",
       "\\item 2\n",
       "\\item '3'\n",
       "\\item 'test'\n",
       "\\end{enumerate}\n"
      ],
      "text/markdown": [
       "1. 1\n",
       "2. 2\n",
       "3. '3'\n",
       "4. 'test'\n",
       "\n",
       "\n"
      ],
      "text/plain": [
       "[[1]]\n",
       "[1] 1\n",
       "\n",
       "[[2]]\n",
       "[1] 2\n",
       "\n",
       "[[3]]\n",
       "[1] \"3\"\n",
       "\n",
       "[[4]]\n",
       "[1] \"test\"\n"
      ]
     },
     "metadata": {},
     "output_type": "display_data"
    },
    {
     "data": {
      "text/html": [
       "1"
      ],
      "text/latex": [
       "1"
      ],
      "text/markdown": [
       "1"
      ],
      "text/plain": [
       "[1] 1"
      ]
     },
     "metadata": {},
     "output_type": "display_data"
    },
    {
     "data": {
      "text/html": [
       "1"
      ],
      "text/latex": [
       "1"
      ],
      "text/markdown": [
       "1"
      ],
      "text/plain": [
       "[1] 1"
      ]
     },
     "metadata": {},
     "output_type": "display_data"
    },
    {
     "data": {
      "text/html": [
       "1"
      ],
      "text/latex": [
       "1"
      ],
      "text/markdown": [
       "1"
      ],
      "text/plain": [
       "[1] 1"
      ]
     },
     "metadata": {},
     "output_type": "display_data"
    },
    {
     "data": {
      "text/html": [
       "'3'"
      ],
      "text/latex": [
       "'3'"
      ],
      "text/markdown": [
       "'3'"
      ],
      "text/plain": [
       "[1] \"3\""
      ]
     },
     "metadata": {},
     "output_type": "display_data"
    },
    {
     "name": "stdout",
     "output_type": "stream",
     "text": [
      "List of 4\n",
      " $ a: num 1\n",
      " $ b: num 2\n",
      " $ c: chr \"3\"\n",
      " $ d: chr \"test\"\n"
     ]
    }
   ],
   "source": [
    "mylist <- list(a=1,b=2,c=\"3\",d=\"test\")  ## items in list are given names a,b,c,d\n",
    "my2ndlist <- list(1,2,\"3\",\"test\")  ## no given names\n",
    "\n",
    "mylist\n",
    "my2ndlist\n",
    "mylist$a   ## $ can be used to select an item in the list by name\n",
    "mylist[[\"a\"]]  ## this is the equivalent\n",
    "mylist[[1]]  ## so is this\n",
    "my2ndlist[[3]]  ## $ won't work on this list since items weren't named\n",
    "str(mylist)"
   ]
  },
  {
   "cell_type": "code",
   "execution_count": 75,
   "id": "245f9316-fea2-49a3-99ca-bd358fcf30e2",
   "metadata": {},
   "outputs": [
    {
     "data": {
      "text/html": [
       "<dl>\n",
       "\t<dt>$a</dt>\n",
       "\t\t<dd><style>\n",
       ".list-inline {list-style: none; margin:0; padding: 0}\n",
       ".list-inline>li {display: inline-block}\n",
       ".list-inline>li:not(:last-child)::after {content: \"\\00b7\"; padding: 0 .5ex}\n",
       "</style>\n",
       "<ol class=list-inline><li>1</li><li>2</li><li>3</li><li>4</li></ol>\n",
       "</dd>\n",
       "\t<dt>$b</dt>\n",
       "\t\t<dd><style>\n",
       ".list-inline {list-style: none; margin:0; padding: 0}\n",
       ".list-inline>li {display: inline-block}\n",
       ".list-inline>li:not(:last-child)::after {content: \"\\00b7\"; padding: 0 .5ex}\n",
       "</style>\n",
       "<ol class=list-inline><li>1</li><li>2</li><li>3</li></ol>\n",
       "</dd>\n",
       "\t<dt>$c</dt>\n",
       "\t\t<dd><table class=\"dataframe\">\n",
       "<caption>A matrix: 2 x 2 of type int</caption>\n",
       "<tbody>\n",
       "\t<tr><td>1</td><td>3</td></tr>\n",
       "\t<tr><td>2</td><td>4</td></tr>\n",
       "</tbody>\n",
       "</table>\n",
       "</dd>\n",
       "\t<dt>$d</dt>\n",
       "\t\t<dd><pre class=language-r><code>function () \n",
       ".Internal(search())</code></pre></dd>\n",
       "</dl>\n"
      ],
      "text/latex": [
       "\\begin{description}\n",
       "\\item[\\$a] \\begin{enumerate*}\n",
       "\\item 1\n",
       "\\item 2\n",
       "\\item 3\n",
       "\\item 4\n",
       "\\end{enumerate*}\n",
       "\n",
       "\\item[\\$b] \\begin{enumerate*}\n",
       "\\item 1\n",
       "\\item 2\n",
       "\\item 3\n",
       "\\end{enumerate*}\n",
       "\n",
       "\\item[\\$c] A matrix: 2 x 2 of type int\n",
       "\\begin{tabular}{ll}\n",
       "\t 1 & 3\\\\\n",
       "\t 2 & 4\\\\\n",
       "\\end{tabular}\n",
       "\n",
       "\\item[\\$d] \\begin{minted}{r}\n",
       "function () \n",
       ".Internal(search())\n",
       "\\end{minted}\n",
       "\\end{description}\n"
      ],
      "text/markdown": [
       "$a\n",
       ":   1. 1\n",
       "2. 2\n",
       "3. 3\n",
       "4. 4\n",
       "\n",
       "\n",
       "\n",
       "$b\n",
       ":   1. 1\n",
       "2. 2\n",
       "3. 3\n",
       "\n",
       "\n",
       "\n",
       "$c\n",
       ":   \n",
       "A matrix: 2 x 2 of type int\n",
       "\n",
       "| 1 | 3 |\n",
       "| 2 | 4 |\n",
       "\n",
       "\n",
       "$d\n",
       ":   ```r\n",
       "function () \n",
       ".Internal(search())\n",
       "```\n",
       "\n",
       "\n"
      ],
      "text/plain": [
       "$a\n",
       "[1] 1 2 3 4\n",
       "\n",
       "$b\n",
       "[1] 1 2 3\n",
       "\n",
       "$c\n",
       "     [,1] [,2]\n",
       "[1,]    1    3\n",
       "[2,]    2    4\n",
       "\n",
       "$d\n",
       "function () \n",
       ".Internal(search())\n",
       "<bytecode: 0x555e230eba70>\n",
       "<environment: namespace:base>\n"
      ]
     },
     "metadata": {},
     "output_type": "display_data"
    },
    {
     "data": {
      "text/html": [
       "<style>\n",
       ".list-inline {list-style: none; margin:0; padding: 0}\n",
       ".list-inline>li {display: inline-block}\n",
       ".list-inline>li:not(:last-child)::after {content: \"\\00b7\"; padding: 0 .5ex}\n",
       "</style>\n",
       "<ol class=list-inline><li>1</li><li>2</li><li>3</li><li>4</li></ol>\n"
      ],
      "text/latex": [
       "\\begin{enumerate*}\n",
       "\\item 1\n",
       "\\item 2\n",
       "\\item 3\n",
       "\\item 4\n",
       "\\end{enumerate*}\n"
      ],
      "text/markdown": [
       "1. 1\n",
       "2. 2\n",
       "3. 3\n",
       "4. 4\n",
       "\n",
       "\n"
      ],
      "text/plain": [
       "[1] 1 2 3 4"
      ]
     },
     "metadata": {},
     "output_type": "display_data"
    },
    {
     "data": {
      "text/html": [
       "2"
      ],
      "text/latex": [
       "2"
      ],
      "text/markdown": [
       "2"
      ],
      "text/plain": [
       "[1] 2"
      ]
     },
     "metadata": {},
     "output_type": "display_data"
    }
   ],
   "source": [
    "complicated_list = list(\"a\"= 1:4, \"b\"=1:3, \"c\"=matrix(1:4, nrow=2), \"d\"=search)\n",
    "sec1=complicated_list[[1]]  #Extract first list element\n",
    "sec2=complicated_list[[1]][2]  #Extract second element in the first data structur\n",
    "\n",
    "complicated_list\n",
    "sec1\n",
    "sec2"
   ]
  },
  {
   "cell_type": "code",
   "execution_count": 76,
   "id": "2131e0ac-346e-4353-85bf-6873adfb65ef",
   "metadata": {},
   "outputs": [
    {
     "data": {
      "text/html": [
       "<dl>\n",
       "\t<dt>$a</dt>\n",
       "\t\t<dd><table class=\"dataframe\">\n",
       "<caption>A matrix: 2 x 2 of type dbl</caption>\n",
       "<tbody>\n",
       "\t<tr><td>1</td><td>1</td></tr>\n",
       "\t<tr><td>1</td><td>1</td></tr>\n",
       "</tbody>\n",
       "</table>\n",
       "</dd>\n",
       "\t<dt>$b</dt>\n",
       "\t\t<dd><style>\n",
       ".list-inline {list-style: none; margin:0; padding: 0}\n",
       ".list-inline>li {display: inline-block}\n",
       ".list-inline>li:not(:last-child)::after {content: \"\\00b7\"; padding: 0 .5ex}\n",
       "</style>\n",
       "<ol class=list-inline><li>1</li><li>2</li><li>3</li></ol>\n",
       "</dd>\n",
       "\t<dt>$c</dt>\n",
       "\t\t<dd><table class=\"dataframe\">\n",
       "<caption>A matrix: 2 x 2 of type int</caption>\n",
       "<tbody>\n",
       "\t<tr><td>1</td><td>3</td></tr>\n",
       "\t<tr><td>2</td><td>4</td></tr>\n",
       "</tbody>\n",
       "</table>\n",
       "</dd>\n",
       "\t<dt>$d</dt>\n",
       "\t\t<dd><pre class=language-r><code>function () \n",
       ".Internal(search())</code></pre></dd>\n",
       "</dl>\n"
      ],
      "text/latex": [
       "\\begin{description}\n",
       "\\item[\\$a] A matrix: 2 x 2 of type dbl\n",
       "\\begin{tabular}{ll}\n",
       "\t 1 & 1\\\\\n",
       "\t 1 & 1\\\\\n",
       "\\end{tabular}\n",
       "\n",
       "\\item[\\$b] \\begin{enumerate*}\n",
       "\\item 1\n",
       "\\item 2\n",
       "\\item 3\n",
       "\\end{enumerate*}\n",
       "\n",
       "\\item[\\$c] A matrix: 2 x 2 of type int\n",
       "\\begin{tabular}{ll}\n",
       "\t 1 & 3\\\\\n",
       "\t 2 & 4\\\\\n",
       "\\end{tabular}\n",
       "\n",
       "\\item[\\$d] \\begin{minted}{r}\n",
       "function () \n",
       ".Internal(search())\n",
       "\\end{minted}\n",
       "\\end{description}\n"
      ],
      "text/markdown": [
       "$a\n",
       ":   \n",
       "A matrix: 2 x 2 of type dbl\n",
       "\n",
       "| 1 | 1 |\n",
       "| 1 | 1 |\n",
       "\n",
       "\n",
       "$b\n",
       ":   1. 1\n",
       "2. 2\n",
       "3. 3\n",
       "\n",
       "\n",
       "\n",
       "$c\n",
       ":   \n",
       "A matrix: 2 x 2 of type int\n",
       "\n",
       "| 1 | 3 |\n",
       "| 2 | 4 |\n",
       "\n",
       "\n",
       "$d\n",
       ":   ```r\n",
       "function () \n",
       ".Internal(search())\n",
       "```\n",
       "\n",
       "\n"
      ],
      "text/plain": [
       "$a\n",
       "     [,1] [,2]\n",
       "[1,]    1    1\n",
       "[2,]    1    1\n",
       "\n",
       "$b\n",
       "[1] 1 2 3\n",
       "\n",
       "$c\n",
       "     [,1] [,2]\n",
       "[1,]    1    3\n",
       "[2,]    2    4\n",
       "\n",
       "$d\n",
       "function () \n",
       ".Internal(search())\n",
       "<bytecode: 0x555e230eba70>\n",
       "<environment: namespace:base>\n"
      ]
     },
     "metadata": {},
     "output_type": "display_data"
    }
   ],
   "source": [
    "complicated_list$a = matrix(1, 2, 2)     # replacing a list element\n",
    "complicated_list"
   ]
  },
  {
   "cell_type": "code",
   "execution_count": 77,
   "id": "f8de27e1-1891-4ebc-a629-2f6b2246dfef",
   "metadata": {},
   "outputs": [
    {
     "data": {
      "text/html": [
       "<dl>\n",
       "\t<dt>$a</dt>\n",
       "\t\t<dd><table class=\"dataframe\">\n",
       "<caption>A matrix: 2 x 2 of type dbl</caption>\n",
       "<tbody>\n",
       "\t<tr><td>1</td><td>1</td></tr>\n",
       "\t<tr><td>1</td><td>1</td></tr>\n",
       "</tbody>\n",
       "</table>\n",
       "</dd>\n",
       "\t<dt>$b</dt>\n",
       "\t\t<dd><style>\n",
       ".list-inline {list-style: none; margin:0; padding: 0}\n",
       ".list-inline>li {display: inline-block}\n",
       ".list-inline>li:not(:last-child)::after {content: \"\\00b7\"; padding: 0 .5ex}\n",
       "</style>\n",
       "<ol class=list-inline><li>1</li><li>2</li><li>3</li></ol>\n",
       "</dd>\n",
       "\t<dt>$c</dt>\n",
       "\t\t<dd><table class=\"dataframe\">\n",
       "<caption>A matrix: 2 x 2 of type int</caption>\n",
       "<tbody>\n",
       "\t<tr><td>1</td><td>3</td></tr>\n",
       "\t<tr><td>2</td><td>4</td></tr>\n",
       "</tbody>\n",
       "</table>\n",
       "</dd>\n",
       "\t<dt>$d</dt>\n",
       "\t\t<dd><pre class=language-r><code>function () \n",
       ".Internal(search())</code></pre></dd>\n",
       "\t<dt>$title</dt>\n",
       "\t\t<dd>'an arbitrary list'</dd>\n",
       "</dl>\n"
      ],
      "text/latex": [
       "\\begin{description}\n",
       "\\item[\\$a] A matrix: 2 x 2 of type dbl\n",
       "\\begin{tabular}{ll}\n",
       "\t 1 & 1\\\\\n",
       "\t 1 & 1\\\\\n",
       "\\end{tabular}\n",
       "\n",
       "\\item[\\$b] \\begin{enumerate*}\n",
       "\\item 1\n",
       "\\item 2\n",
       "\\item 3\n",
       "\\end{enumerate*}\n",
       "\n",
       "\\item[\\$c] A matrix: 2 x 2 of type int\n",
       "\\begin{tabular}{ll}\n",
       "\t 1 & 3\\\\\n",
       "\t 2 & 4\\\\\n",
       "\\end{tabular}\n",
       "\n",
       "\\item[\\$d] \\begin{minted}{r}\n",
       "function () \n",
       ".Internal(search())\n",
       "\\end{minted}\n",
       "\\item[\\$title] 'an arbitrary list'\n",
       "\\end{description}\n"
      ],
      "text/markdown": [
       "$a\n",
       ":   \n",
       "A matrix: 2 x 2 of type dbl\n",
       "\n",
       "| 1 | 1 |\n",
       "| 1 | 1 |\n",
       "\n",
       "\n",
       "$b\n",
       ":   1. 1\n",
       "2. 2\n",
       "3. 3\n",
       "\n",
       "\n",
       "\n",
       "$c\n",
       ":   \n",
       "A matrix: 2 x 2 of type int\n",
       "\n",
       "| 1 | 3 |\n",
       "| 2 | 4 |\n",
       "\n",
       "\n",
       "$d\n",
       ":   ```r\n",
       "function () \n",
       ".Internal(search())\n",
       "```\n",
       "$title\n",
       ":   'an arbitrary list'\n",
       "\n",
       "\n"
      ],
      "text/plain": [
       "$a\n",
       "     [,1] [,2]\n",
       "[1,]    1    1\n",
       "[2,]    1    1\n",
       "\n",
       "$b\n",
       "[1] 1 2 3\n",
       "\n",
       "$c\n",
       "     [,1] [,2]\n",
       "[1,]    1    3\n",
       "[2,]    2    4\n",
       "\n",
       "$d\n",
       "function () \n",
       ".Internal(search())\n",
       "<bytecode: 0x555e230eba70>\n",
       "<environment: namespace:base>\n",
       "\n",
       "$title\n",
       "[1] \"an arbitrary list\"\n"
      ]
     },
     "metadata": {},
     "output_type": "display_data"
    }
   ],
   "source": [
    "complicated_list$title ='an arbitrary list' # adding an element\n",
    "complicated_list"
   ]
  },
  {
   "cell_type": "code",
   "execution_count": 78,
   "id": "3fe9d54f-913d-4895-99c9-16b927ed12b6",
   "metadata": {},
   "outputs": [
    {
     "data": {
      "text/html": [
       "<dl>\n",
       "\t<dt>$a</dt>\n",
       "\t\t<dd><table class=\"dataframe\">\n",
       "<caption>A matrix: 2 x 2 of type dbl</caption>\n",
       "<tbody>\n",
       "\t<tr><td>1</td><td>1</td></tr>\n",
       "\t<tr><td>1</td><td>1</td></tr>\n",
       "</tbody>\n",
       "</table>\n",
       "</dd>\n",
       "\t<dt>$b</dt>\n",
       "\t\t<dd><style>\n",
       ".list-inline {list-style: none; margin:0; padding: 0}\n",
       ".list-inline>li {display: inline-block}\n",
       ".list-inline>li:not(:last-child)::after {content: \"\\00b7\"; padding: 0 .5ex}\n",
       "</style>\n",
       "<ol class=list-inline><li>1</li><li>2</li><li>3</li></ol>\n",
       "</dd>\n",
       "\t<dt>$c</dt>\n",
       "\t\t<dd><table class=\"dataframe\">\n",
       "<caption>A matrix: 2 x 2 of type int</caption>\n",
       "<tbody>\n",
       "\t<tr><td>1</td><td>3</td></tr>\n",
       "\t<tr><td>2</td><td>4</td></tr>\n",
       "</tbody>\n",
       "</table>\n",
       "</dd>\n",
       "\t<dt>$title</dt>\n",
       "\t\t<dd>'an arbitrary list'</dd>\n",
       "</dl>\n"
      ],
      "text/latex": [
       "\\begin{description}\n",
       "\\item[\\$a] A matrix: 2 x 2 of type dbl\n",
       "\\begin{tabular}{ll}\n",
       "\t 1 & 1\\\\\n",
       "\t 1 & 1\\\\\n",
       "\\end{tabular}\n",
       "\n",
       "\\item[\\$b] \\begin{enumerate*}\n",
       "\\item 1\n",
       "\\item 2\n",
       "\\item 3\n",
       "\\end{enumerate*}\n",
       "\n",
       "\\item[\\$c] A matrix: 2 x 2 of type int\n",
       "\\begin{tabular}{ll}\n",
       "\t 1 & 3\\\\\n",
       "\t 2 & 4\\\\\n",
       "\\end{tabular}\n",
       "\n",
       "\\item[\\$title] 'an arbitrary list'\n",
       "\\end{description}\n"
      ],
      "text/markdown": [
       "$a\n",
       ":   \n",
       "A matrix: 2 x 2 of type dbl\n",
       "\n",
       "| 1 | 1 |\n",
       "| 1 | 1 |\n",
       "\n",
       "\n",
       "$b\n",
       ":   1. 1\n",
       "2. 2\n",
       "3. 3\n",
       "\n",
       "\n",
       "\n",
       "$c\n",
       ":   \n",
       "A matrix: 2 x 2 of type int\n",
       "\n",
       "| 1 | 3 |\n",
       "| 2 | 4 |\n",
       "\n",
       "\n",
       "$title\n",
       ":   'an arbitrary list'\n",
       "\n",
       "\n"
      ],
      "text/plain": [
       "$a\n",
       "     [,1] [,2]\n",
       "[1,]    1    1\n",
       "[2,]    1    1\n",
       "\n",
       "$b\n",
       "[1] 1 2 3\n",
       "\n",
       "$c\n",
       "     [,1] [,2]\n",
       "[1,]    1    3\n",
       "[2,]    2    4\n",
       "\n",
       "$title\n",
       "[1] \"an arbitrary list\"\n"
      ]
     },
     "metadata": {},
     "output_type": "display_data"
    }
   ],
   "source": [
    "complicated_list$d = NULL  # removing an element\n",
    "complicated_list"
   ]
  },
  {
   "cell_type": "markdown",
   "id": "52287961-a722-42a0-871f-f5328665b089",
   "metadata": {},
   "source": [
    "# Data frames"
   ]
  },
  {
   "cell_type": "markdown",
   "id": "515ebf8d-2c8a-41d5-938f-7a9f17ed518f",
   "metadata": {},
   "source": [
    "Most useful data structure in actual data analysis when you have multiple instances of multiple measured variables."
   ]
  },
  {
   "cell_type": "code",
   "execution_count": 79,
   "id": "b13f5419-d292-489e-9c04-a84f73f634e9",
   "metadata": {},
   "outputs": [
    {
     "data": {
      "text/html": [
       "<table class=\"dataframe\">\n",
       "<caption>A data.frame: 3 x 4</caption>\n",
       "<thead>\n",
       "\t<tr><th scope=col>names</th><th scope=col>year</th><th scope=col>x</th><th scope=col>y</th></tr>\n",
       "\t<tr><th scope=col>&lt;chr&gt;</th><th scope=col>&lt;dbl&gt;</th><th scope=col>&lt;dbl&gt;</th><th scope=col>&lt;dbl&gt;</th></tr>\n",
       "</thead>\n",
       "<tbody>\n",
       "\t<tr><td>Tom  </td><td>1994</td><td>1</td><td>3</td></tr>\n",
       "\t<tr><td>Jerry</td><td>1998</td><td>1</td><td>5</td></tr>\n",
       "\t<tr><td>Spike</td><td>2000</td><td>1</td><td>6</td></tr>\n",
       "</tbody>\n",
       "</table>\n"
      ],
      "text/latex": [
       "A data.frame: 3 x 4\n",
       "\\begin{tabular}{llll}\n",
       " names & year & x & y\\\\\n",
       " <chr> & <dbl> & <dbl> & <dbl>\\\\\n",
       "\\hline\n",
       "\t Tom   & 1994 & 1 & 3\\\\\n",
       "\t Jerry & 1998 & 1 & 5\\\\\n",
       "\t Spike & 2000 & 1 & 6\\\\\n",
       "\\end{tabular}\n"
      ],
      "text/markdown": [
       "\n",
       "A data.frame: 3 x 4\n",
       "\n",
       "| names &lt;chr&gt; | year &lt;dbl&gt; | x &lt;dbl&gt; | y &lt;dbl&gt; |\n",
       "|---|---|---|---|\n",
       "| Tom   | 1994 | 1 | 3 |\n",
       "| Jerry | 1998 | 1 | 5 |\n",
       "| Spike | 2000 | 1 | 6 |\n",
       "\n"
      ],
      "text/plain": [
       "  names year x y\n",
       "1 Tom   1994 1 3\n",
       "2 Jerry 1998 1 5\n",
       "3 Spike 2000 1 6"
      ]
     },
     "metadata": {},
     "output_type": "display_data"
    }
   ],
   "source": [
    "df = data.frame(names = c(\"Tom\",\"Jerry\",\"Spike\"), year=c(1994,1998,2000), x=rep(1,3), y=c(3,5,6)) \n",
    "\n",
    "df"
   ]
  },
  {
   "cell_type": "code",
   "execution_count": 80,
   "id": "71e9abf1-3c9d-4239-9469-c5ccf5e29aab",
   "metadata": {},
   "outputs": [
    {
     "data": {
      "text/html": [
       "<table class=\"dataframe\">\n",
       "<caption>A data.frame: 3 x 5</caption>\n",
       "<thead>\n",
       "\t<tr><th scope=col>names</th><th scope=col>year</th><th scope=col>x</th><th scope=col>y</th><th scope=col>sum</th></tr>\n",
       "\t<tr><th scope=col>&lt;chr&gt;</th><th scope=col>&lt;dbl&gt;</th><th scope=col>&lt;dbl&gt;</th><th scope=col>&lt;dbl&gt;</th><th scope=col>&lt;dbl&gt;</th></tr>\n",
       "</thead>\n",
       "<tbody>\n",
       "\t<tr><td>Tom  </td><td>1994</td><td>1</td><td>3</td><td>4</td></tr>\n",
       "\t<tr><td>Jerry</td><td>1998</td><td>1</td><td>5</td><td>6</td></tr>\n",
       "\t<tr><td>Spike</td><td>2000</td><td>1</td><td>6</td><td>7</td></tr>\n",
       "</tbody>\n",
       "</table>\n"
      ],
      "text/latex": [
       "A data.frame: 3 x 5\n",
       "\\begin{tabular}{lllll}\n",
       " names & year & x & y & sum\\\\\n",
       " <chr> & <dbl> & <dbl> & <dbl> & <dbl>\\\\\n",
       "\\hline\n",
       "\t Tom   & 1994 & 1 & 3 & 4\\\\\n",
       "\t Jerry & 1998 & 1 & 5 & 6\\\\\n",
       "\t Spike & 2000 & 1 & 6 & 7\\\\\n",
       "\\end{tabular}\n"
      ],
      "text/markdown": [
       "\n",
       "A data.frame: 3 x 5\n",
       "\n",
       "| names &lt;chr&gt; | year &lt;dbl&gt; | x &lt;dbl&gt; | y &lt;dbl&gt; | sum &lt;dbl&gt; |\n",
       "|---|---|---|---|---|\n",
       "| Tom   | 1994 | 1 | 3 | 4 |\n",
       "| Jerry | 1998 | 1 | 5 | 6 |\n",
       "| Spike | 2000 | 1 | 6 | 7 |\n",
       "\n"
      ],
      "text/plain": [
       "  names year x y sum\n",
       "1 Tom   1994 1 3 4  \n",
       "2 Jerry 1998 1 5 6  \n",
       "3 Spike 2000 1 6 7  "
      ]
     },
     "metadata": {},
     "output_type": "display_data"
    }
   ],
   "source": [
    "df$sum=df$x + df$y\n",
    "df"
   ]
  },
  {
   "cell_type": "markdown",
   "id": "5dfbac8e-b978-4619-be6c-18d15a91740b",
   "metadata": {},
   "source": [
    "## Subsetting similar to matrices"
   ]
  },
  {
   "cell_type": "code",
   "execution_count": 81,
   "id": "41476b06-d4f0-44e2-b3ed-0e0bba09c673",
   "metadata": {},
   "outputs": [
    {
     "data": {
      "text/html": [
       "<style>\n",
       ".list-inline {list-style: none; margin:0; padding: 0}\n",
       ".list-inline>li {display: inline-block}\n",
       ".list-inline>li:not(:last-child)::after {content: \"\\00b7\"; padding: 0 .5ex}\n",
       "</style>\n",
       "<ol class=list-inline><li>'Tom'</li><li>'Jerry'</li><li>'Spike'</li></ol>\n"
      ],
      "text/latex": [
       "\\begin{enumerate*}\n",
       "\\item 'Tom'\n",
       "\\item 'Jerry'\n",
       "\\item 'Spike'\n",
       "\\end{enumerate*}\n"
      ],
      "text/markdown": [
       "1. 'Tom'\n",
       "2. 'Jerry'\n",
       "3. 'Spike'\n",
       "\n",
       "\n"
      ],
      "text/plain": [
       "[1] \"Tom\"   \"Jerry\" \"Spike\""
      ]
     },
     "metadata": {},
     "output_type": "display_data"
    },
    {
     "data": {
      "text/html": [
       "1"
      ],
      "text/latex": [
       "1"
      ],
      "text/markdown": [
       "1"
      ],
      "text/plain": [
       "[1] 1"
      ]
     },
     "metadata": {},
     "output_type": "display_data"
    },
    {
     "data": {
      "text/html": [
       "<table class=\"dataframe\">\n",
       "<caption>A data.frame: 3 x 6</caption>\n",
       "<thead>\n",
       "\t<tr><th scope=col>names</th><th scope=col>year</th><th scope=col>x</th><th scope=col>y</th><th scope=col>sum</th><th scope=col>m</th></tr>\n",
       "\t<tr><th scope=col>&lt;chr&gt;</th><th scope=col>&lt;dbl&gt;</th><th scope=col>&lt;dbl&gt;</th><th scope=col>&lt;dbl&gt;</th><th scope=col>&lt;dbl&gt;</th><th scope=col>&lt;dbl&gt;</th></tr>\n",
       "</thead>\n",
       "<tbody>\n",
       "\t<tr><td>Tom  </td><td>1994</td><td>1</td><td>3</td><td>4</td><td>1</td></tr>\n",
       "\t<tr><td>Jerry</td><td>1998</td><td>1</td><td>5</td><td>6</td><td>2</td></tr>\n",
       "\t<tr><td>Spike</td><td>2000</td><td>1</td><td>6</td><td>7</td><td>4</td></tr>\n",
       "</tbody>\n",
       "</table>\n"
      ],
      "text/latex": [
       "A data.frame: 3 x 6\n",
       "\\begin{tabular}{llllll}\n",
       " names & year & x & y & sum & m\\\\\n",
       " <chr> & <dbl> & <dbl> & <dbl> & <dbl> & <dbl>\\\\\n",
       "\\hline\n",
       "\t Tom   & 1994 & 1 & 3 & 4 & 1\\\\\n",
       "\t Jerry & 1998 & 1 & 5 & 6 & 2\\\\\n",
       "\t Spike & 2000 & 1 & 6 & 7 & 4\\\\\n",
       "\\end{tabular}\n"
      ],
      "text/markdown": [
       "\n",
       "A data.frame: 3 x 6\n",
       "\n",
       "| names &lt;chr&gt; | year &lt;dbl&gt; | x &lt;dbl&gt; | y &lt;dbl&gt; | sum &lt;dbl&gt; | m &lt;dbl&gt; |\n",
       "|---|---|---|---|---|---|\n",
       "| Tom   | 1994 | 1 | 3 | 4 | 1 |\n",
       "| Jerry | 1998 | 1 | 5 | 6 | 2 |\n",
       "| Spike | 2000 | 1 | 6 | 7 | 4 |\n",
       "\n"
      ],
      "text/plain": [
       "  names year x y sum m\n",
       "1 Tom   1994 1 3 4   1\n",
       "2 Jerry 1998 1 5 6   2\n",
       "3 Spike 2000 1 6 7   4"
      ]
     },
     "metadata": {},
     "output_type": "display_data"
    },
    {
     "data": {
      "text/html": [
       "<table class=\"dataframe\">\n",
       "<caption>A data.frame: 6 x 5</caption>\n",
       "<thead>\n",
       "\t<tr><th scope=col>names</th><th scope=col>year</th><th scope=col>x</th><th scope=col>y</th><th scope=col>sum</th></tr>\n",
       "\t<tr><th scope=col>&lt;chr&gt;</th><th scope=col>&lt;dbl&gt;</th><th scope=col>&lt;dbl&gt;</th><th scope=col>&lt;dbl&gt;</th><th scope=col>&lt;dbl&gt;</th></tr>\n",
       "</thead>\n",
       "<tbody>\n",
       "\t<tr><td>Tom  </td><td>1994</td><td>1</td><td>3</td><td>4</td></tr>\n",
       "\t<tr><td>Jerry</td><td>1998</td><td>1</td><td>5</td><td>6</td></tr>\n",
       "\t<tr><td>Spike</td><td>2000</td><td>1</td><td>6</td><td>7</td></tr>\n",
       "\t<tr><td>Tom  </td><td>1994</td><td>1</td><td>3</td><td>4</td></tr>\n",
       "\t<tr><td>Jerry</td><td>1998</td><td>1</td><td>5</td><td>6</td></tr>\n",
       "\t<tr><td>Spike</td><td>2000</td><td>1</td><td>6</td><td>7</td></tr>\n",
       "</tbody>\n",
       "</table>\n"
      ],
      "text/latex": [
       "A data.frame: 6 x 5\n",
       "\\begin{tabular}{lllll}\n",
       " names & year & x & y & sum\\\\\n",
       " <chr> & <dbl> & <dbl> & <dbl> & <dbl>\\\\\n",
       "\\hline\n",
       "\t Tom   & 1994 & 1 & 3 & 4\\\\\n",
       "\t Jerry & 1998 & 1 & 5 & 6\\\\\n",
       "\t Spike & 2000 & 1 & 6 & 7\\\\\n",
       "\t Tom   & 1994 & 1 & 3 & 4\\\\\n",
       "\t Jerry & 1998 & 1 & 5 & 6\\\\\n",
       "\t Spike & 2000 & 1 & 6 & 7\\\\\n",
       "\\end{tabular}\n"
      ],
      "text/markdown": [
       "\n",
       "A data.frame: 6 x 5\n",
       "\n",
       "| names &lt;chr&gt; | year &lt;dbl&gt; | x &lt;dbl&gt; | y &lt;dbl&gt; | sum &lt;dbl&gt; |\n",
       "|---|---|---|---|---|\n",
       "| Tom   | 1994 | 1 | 3 | 4 |\n",
       "| Jerry | 1998 | 1 | 5 | 6 |\n",
       "| Spike | 2000 | 1 | 6 | 7 |\n",
       "| Tom   | 1994 | 1 | 3 | 4 |\n",
       "| Jerry | 1998 | 1 | 5 | 6 |\n",
       "| Spike | 2000 | 1 | 6 | 7 |\n",
       "\n"
      ],
      "text/plain": [
       "  names year x y sum\n",
       "1 Tom   1994 1 3 4  \n",
       "2 Jerry 1998 1 5 6  \n",
       "3 Spike 2000 1 6 7  \n",
       "4 Tom   1994 1 3 4  \n",
       "5 Jerry 1998 1 5 6  \n",
       "6 Spike 2000 1 6 7  "
      ]
     },
     "metadata": {},
     "output_type": "display_data"
    },
    {
     "data": {
      "text/html": [
       "'data.frame'"
      ],
      "text/latex": [
       "'data.frame'"
      ],
      "text/markdown": [
       "'data.frame'"
      ],
      "text/plain": [
       "[1] \"data.frame\""
      ]
     },
     "metadata": {},
     "output_type": "display_data"
    }
   ],
   "source": [
    "subset_col1df=df[,1] \n",
    "subset_row1_col3=df[1,3] \n",
    "cb_df=cbind(df, m = c(1,2,4)) \n",
    "rb_df=rbind(df,df) \n",
    "cl_f=class(df)\n",
    "\n",
    "subset_col1df\n",
    "subset_row1_col3\n",
    "cb_df\n",
    "rb_df\n",
    "cl_f"
   ]
  },
  {
   "cell_type": "markdown",
   "id": "232fef26-e306-4622-9186-9763a10d67b2",
   "metadata": {},
   "source": [
    "In statistical analyses, often you need to generate or sample data according to various statistical distributions or probabilities. (Not so much in single cell analysis)"
   ]
  },
  {
   "cell_type": "code",
   "execution_count": 82,
   "id": "5e0f6293-99b4-48b4-be09-3041fa97e4d9",
   "metadata": {},
   "outputs": [
    {
     "data": {
      "text/html": [
       "<style>\n",
       ".list-inline {list-style: none; margin:0; padding: 0}\n",
       ".list-inline>li {display: inline-block}\n",
       ".list-inline>li:not(:last-child)::after {content: \"\\00b7\"; padding: 0 .5ex}\n",
       "</style>\n",
       "<ol class=list-inline><li>3.61889571230859</li><li>2.41278908774257</li><li>2.08104058355093</li><li>4.9707362446934</li><li>3.53397305775434</li><li>1.85283254086971</li><li>1.51748939231038</li><li>2.91247213725001</li><li>4.69629787933081</li><li>3.39504386857152</li><li>4.90468277968466</li><li>3.92717004753649</li><li>2.42690764833242</li><li>2.7258947622031</li><li>1.59284624271095</li><li>1.05231030192226</li><li>3.86226426437497</li><li>1.41273694299161</li><li>2.78513739444315</li><li>3.56040418054909</li><li>4.96735448017716</li><li>2.98237431142479</li><li>2.93739809747785</li><li>1.69376933947206</li><li>4.01928377803415</li><li>2.8155819568783</li><li>3.04467913508415</li><li>1.83018045313656</li><li>1.91463257092983</li><li>3.38284798525274</li><li>3.29948879312724</li><li>1.30825752113014</li><li>1.14216231834143</li><li>3.57118196878582</li><li>4.71446079853922</li><li>3.39236968941987</li><li>3.24360299203545</li><li>3.10411089565605</li><li>4.94038089551032</li><li>3.03056728933007</li><li>3.73115231469274</li><li>3.40616487059742</li><li>1.95547471102327</li><li>2.03266370669007</li><li>3.91723849344999</li><li>2.81028332561255</li><li>1.70050707366318</li><li>3.98679307848215</li><li>1.41995056159794</li><li>4.45817979611456</li><li>3.45857988670468</li><li>3.22863815538585</li><li>2.31510927621275</li><li>2.81252578180283</li><li>3.00176389049739</li><li>1.72346544452012</li><li>3.11852241121233</li><li>1.30110298283398</li><li>2.11102373059839</li><li>1.85079807695001</li><li>2.13916192390025</li><li>4.58037641178817</li><li>2.7849412932992</li><li>4.11993955913931</li><li>4.52247613947839</li><li>2.65249683801085</li><li>1.25523392204195</li><li>2.34194996673614</li><li>3.89490378648043</li><li>2.3504613339901</li><li>3.52165648993105</li><li>4.36245821602643</li><li>4.42452665884048</li><li>2.56543712411076</li><li>2.52197554241866</li><li>4.58178170397878</li><li>3.57726305164397</li><li>3.96431459486485</li><li>3.42121378611773</li><li>4.61232644598931</li><li>2.17492062039673</li><li>1.76504043955356</li><li>4.5458037732169</li><li>3.0133579429239</li><li>4.50823017209768</li><li>1.75677448976785</li><li>4.03241220954806</li><li>3.89799557067454</li><li>4.77489927317947</li><li>3.19058634806424</li><li>3.84697547089309</li><li>2.55562039930373</li><li>1.40349250473082</li><li>4.7092083543539</li><li>2.13293000124395</li><li>3.36229263525456</li><li>1.44144241977483</li><li>4.3620281284675</li><li>2.27185473777354</li><li>4.13140534795821</li></ol>\n"
      ],
      "text/latex": [
       "\\begin{enumerate*}\n",
       "\\item 3.61889571230859\n",
       "\\item 2.41278908774257\n",
       "\\item 2.08104058355093\n",
       "\\item 4.9707362446934\n",
       "\\item 3.53397305775434\n",
       "\\item 1.85283254086971\n",
       "\\item 1.51748939231038\n",
       "\\item 2.91247213725001\n",
       "\\item 4.69629787933081\n",
       "\\item 3.39504386857152\n",
       "\\item 4.90468277968466\n",
       "\\item 3.92717004753649\n",
       "\\item 2.42690764833242\n",
       "\\item 2.7258947622031\n",
       "\\item 1.59284624271095\n",
       "\\item 1.05231030192226\n",
       "\\item 3.86226426437497\n",
       "\\item 1.41273694299161\n",
       "\\item 2.78513739444315\n",
       "\\item 3.56040418054909\n",
       "\\item 4.96735448017716\n",
       "\\item 2.98237431142479\n",
       "\\item 2.93739809747785\n",
       "\\item 1.69376933947206\n",
       "\\item 4.01928377803415\n",
       "\\item 2.8155819568783\n",
       "\\item 3.04467913508415\n",
       "\\item 1.83018045313656\n",
       "\\item 1.91463257092983\n",
       "\\item 3.38284798525274\n",
       "\\item 3.29948879312724\n",
       "\\item 1.30825752113014\n",
       "\\item 1.14216231834143\n",
       "\\item 3.57118196878582\n",
       "\\item 4.71446079853922\n",
       "\\item 3.39236968941987\n",
       "\\item 3.24360299203545\n",
       "\\item 3.10411089565605\n",
       "\\item 4.94038089551032\n",
       "\\item 3.03056728933007\n",
       "\\item 3.73115231469274\n",
       "\\item 3.40616487059742\n",
       "\\item 1.95547471102327\n",
       "\\item 2.03266370669007\n",
       "\\item 3.91723849344999\n",
       "\\item 2.81028332561255\n",
       "\\item 1.70050707366318\n",
       "\\item 3.98679307848215\n",
       "\\item 1.41995056159794\n",
       "\\item 4.45817979611456\n",
       "\\item 3.45857988670468\n",
       "\\item 3.22863815538585\n",
       "\\item 2.31510927621275\n",
       "\\item 2.81252578180283\n",
       "\\item 3.00176389049739\n",
       "\\item 1.72346544452012\n",
       "\\item 3.11852241121233\n",
       "\\item 1.30110298283398\n",
       "\\item 2.11102373059839\n",
       "\\item 1.85079807695001\n",
       "\\item 2.13916192390025\n",
       "\\item 4.58037641178817\n",
       "\\item 2.7849412932992\n",
       "\\item 4.11993955913931\n",
       "\\item 4.52247613947839\n",
       "\\item 2.65249683801085\n",
       "\\item 1.25523392204195\n",
       "\\item 2.34194996673614\n",
       "\\item 3.89490378648043\n",
       "\\item 2.3504613339901\n",
       "\\item 3.52165648993105\n",
       "\\item 4.36245821602643\n",
       "\\item 4.42452665884048\n",
       "\\item 2.56543712411076\n",
       "\\item 2.52197554241866\n",
       "\\item 4.58178170397878\n",
       "\\item 3.57726305164397\n",
       "\\item 3.96431459486485\n",
       "\\item 3.42121378611773\n",
       "\\item 4.61232644598931\n",
       "\\item 2.17492062039673\n",
       "\\item 1.76504043955356\n",
       "\\item 4.5458037732169\n",
       "\\item 3.0133579429239\n",
       "\\item 4.50823017209768\n",
       "\\item 1.75677448976785\n",
       "\\item 4.03241220954806\n",
       "\\item 3.89799557067454\n",
       "\\item 4.77489927317947\n",
       "\\item 3.19058634806424\n",
       "\\item 3.84697547089309\n",
       "\\item 2.55562039930373\n",
       "\\item 1.40349250473082\n",
       "\\item 4.7092083543539\n",
       "\\item 2.13293000124395\n",
       "\\item 3.36229263525456\n",
       "\\item 1.44144241977483\n",
       "\\item 4.3620281284675\n",
       "\\item 2.27185473777354\n",
       "\\item 4.13140534795821\n",
       "\\end{enumerate*}\n"
      ],
      "text/markdown": [
       "1. 3.61889571230859\n",
       "2. 2.41278908774257\n",
       "3. 2.08104058355093\n",
       "4. 4.9707362446934\n",
       "5. 3.53397305775434\n",
       "6. 1.85283254086971\n",
       "7. 1.51748939231038\n",
       "8. 2.91247213725001\n",
       "9. 4.69629787933081\n",
       "10. 3.39504386857152\n",
       "11. 4.90468277968466\n",
       "12. 3.92717004753649\n",
       "13. 2.42690764833242\n",
       "14. 2.7258947622031\n",
       "15. 1.59284624271095\n",
       "16. 1.05231030192226\n",
       "17. 3.86226426437497\n",
       "18. 1.41273694299161\n",
       "19. 2.78513739444315\n",
       "20. 3.56040418054909\n",
       "21. 4.96735448017716\n",
       "22. 2.98237431142479\n",
       "23. 2.93739809747785\n",
       "24. 1.69376933947206\n",
       "25. 4.01928377803415\n",
       "26. 2.8155819568783\n",
       "27. 3.04467913508415\n",
       "28. 1.83018045313656\n",
       "29. 1.91463257092983\n",
       "30. 3.38284798525274\n",
       "31. 3.29948879312724\n",
       "32. 1.30825752113014\n",
       "33. 1.14216231834143\n",
       "34. 3.57118196878582\n",
       "35. 4.71446079853922\n",
       "36. 3.39236968941987\n",
       "37. 3.24360299203545\n",
       "38. 3.10411089565605\n",
       "39. 4.94038089551032\n",
       "40. 3.03056728933007\n",
       "41. 3.73115231469274\n",
       "42. 3.40616487059742\n",
       "43. 1.95547471102327\n",
       "44. 2.03266370669007\n",
       "45. 3.91723849344999\n",
       "46. 2.81028332561255\n",
       "47. 1.70050707366318\n",
       "48. 3.98679307848215\n",
       "49. 1.41995056159794\n",
       "50. 4.45817979611456\n",
       "51. 3.45857988670468\n",
       "52. 3.22863815538585\n",
       "53. 2.31510927621275\n",
       "54. 2.81252578180283\n",
       "55. 3.00176389049739\n",
       "56. 1.72346544452012\n",
       "57. 3.11852241121233\n",
       "58. 1.30110298283398\n",
       "59. 2.11102373059839\n",
       "60. 1.85079807695001\n",
       "61. 2.13916192390025\n",
       "62. 4.58037641178817\n",
       "63. 2.7849412932992\n",
       "64. 4.11993955913931\n",
       "65. 4.52247613947839\n",
       "66. 2.65249683801085\n",
       "67. 1.25523392204195\n",
       "68. 2.34194996673614\n",
       "69. 3.89490378648043\n",
       "70. 2.3504613339901\n",
       "71. 3.52165648993105\n",
       "72. 4.36245821602643\n",
       "73. 4.42452665884048\n",
       "74. 2.56543712411076\n",
       "75. 2.52197554241866\n",
       "76. 4.58178170397878\n",
       "77. 3.57726305164397\n",
       "78. 3.96431459486485\n",
       "79. 3.42121378611773\n",
       "80. 4.61232644598931\n",
       "81. 2.17492062039673\n",
       "82. 1.76504043955356\n",
       "83. 4.5458037732169\n",
       "84. 3.0133579429239\n",
       "85. 4.50823017209768\n",
       "86. 1.75677448976785\n",
       "87. 4.03241220954806\n",
       "88. 3.89799557067454\n",
       "89. 4.77489927317947\n",
       "90. 3.19058634806424\n",
       "91. 3.84697547089309\n",
       "92. 2.55562039930373\n",
       "93. 1.40349250473082\n",
       "94. 4.7092083543539\n",
       "95. 2.13293000124395\n",
       "96. 3.36229263525456\n",
       "97. 1.44144241977483\n",
       "98. 4.3620281284675\n",
       "99. 2.27185473777354\n",
       "100. 4.13140534795821\n",
       "\n",
       "\n"
      ],
      "text/plain": [
       "  [1] 3.618896 2.412789 2.081041 4.970736 3.533973 1.852833 1.517489 2.912472\n",
       "  [9] 4.696298 3.395044 4.904683 3.927170 2.426908 2.725895 1.592846 1.052310\n",
       " [17] 3.862264 1.412737 2.785137 3.560404 4.967354 2.982374 2.937398 1.693769\n",
       " [25] 4.019284 2.815582 3.044679 1.830180 1.914633 3.382848 3.299489 1.308258\n",
       " [33] 1.142162 3.571182 4.714461 3.392370 3.243603 3.104111 4.940381 3.030567\n",
       " [41] 3.731152 3.406165 1.955475 2.032664 3.917238 2.810283 1.700507 3.986793\n",
       " [49] 1.419951 4.458180 3.458580 3.228638 2.315109 2.812526 3.001764 1.723465\n",
       " [57] 3.118522 1.301103 2.111024 1.850798 2.139162 4.580376 2.784941 4.119940\n",
       " [65] 4.522476 2.652497 1.255234 2.341950 3.894904 2.350461 3.521656 4.362458\n",
       " [73] 4.424527 2.565437 2.521976 4.581782 3.577263 3.964315 3.421214 4.612326\n",
       " [81] 2.174921 1.765040 4.545804 3.013358 4.508230 1.756774 4.032412 3.897996\n",
       " [89] 4.774899 3.190586 3.846975 2.555620 1.403493 4.709208 2.132930 3.362293\n",
       " [97] 1.441442 4.362028 2.271855 4.131405"
      ]
     },
     "metadata": {},
     "output_type": "display_data"
    },
    {
     "data": {
      "text/html": [
       "<style>\n",
       ".list-inline {list-style: none; margin:0; padding: 0}\n",
       ".list-inline>li {display: inline-block}\n",
       ".list-inline>li:not(:last-child)::after {content: \"\\00b7\"; padding: 0 .5ex}\n",
       "</style>\n",
       "<ol class=list-inline><li>-0.620366677224124</li><li>0.0421158731442352</li><li>-0.910921648552446</li><li>0.158028772404075</li><li>-0.654584643918818</li><li>1.76728726937265</li><li>0.716707476017206</li><li>0.910174229495227</li><li>0.384185357826345</li><li>1.68217608051942</li><li>-0.635736453948977</li><li>-0.461644730360566</li><li>1.43228223854166</li><li>-0.650696353310367</li><li>-0.207380743601965</li><li>-0.392807929441984</li><li>-0.319992868548507</li><li>-0.279113302976559</li><li>0.494188331267827</li><li>-0.177330482269606</li><li>-0.505957462114257</li><li>1.34303882517041</li><li>-0.214579408546869</li><li>-0.179556530043387</li><li>-0.100190741213562</li><li>0.712666307051405</li><li>-0.0735644041263263</li><li>-0.0376341714670479</li><li>-0.681660478755657</li><li>-0.324270272246319</li><li>0.0601604404345152</li><li>-0.588894486259664</li><li>0.531496192632572</li><li>-1.51839408178679</li><li>0.306557860789766</li><li>-1.53644982353759</li><li>-0.300976126836611</li><li>-0.528279904445006</li><li>-0.652094780680999</li><li>-0.0568967778473925</li><li>-1.91435942568001</li><li>1.17658331201856</li><li>-1.664972436212</li><li>-0.463530401472386</li><li>-1.11592010504285</li><li>-0.750819001193448</li><li>2.08716654562835</li><li>0.0173956196932517</li><li>-1.28630053043433</li><li>-1.64060553441858</li><li>0.450187101272656</li><li>-0.018559832714638</li><li>-0.318068374543844</li><li>-0.929362147453702</li><li>-1.48746031014148</li><li>-1.07519229661568</li><li>1.00002880371391</li><li>-0.621266694796823</li><li>-1.38442684738449</li><li>1.86929062242358</li><li>0.425100377372448</li><li>-0.238647100913033</li><li>1.05848304870902</li><li>0.886422651374936</li><li>-0.619243048231147</li><li>2.20610246454047</li><li>-0.255027030141015</li><li>-1.42449465021281</li><li>-0.144399601954219</li><li>0.207538339232345</li><li>2.30797839905936</li><li>0.105802367893711</li><li>0.456998805423414</li><li>-0.077152935356531</li><li>-0.334000842366544</li><li>-0.0347260283112762</li><li>0.787639605630162</li><li>2.07524500865228</li><li>1.02739243876377</li><li>1.2079083983867</li><li>-1.23132342155804</li><li>0.983895570053379</li><li>0.219924803660651</li><li>-1.46725002909224</li><li>0.521022742648139</li><li>-0.158754604716016</li><li>1.4645873119698</li><li>-0.766081999604665</li><li>-0.430211753928547</li><li>-0.926109497377437</li><li>-0.17710396143654</li><li>0.402011779486338</li><li>-0.731748173119606</li><li>0.830373167981674</li><li>-1.20808278630446</li><li>-1.04798441280774</li><li>1.44115770684428</li><li>-1.01584746530465</li><li>0.411974712317515</li><li>-0.38107605110892</li></ol>\n"
      ],
      "text/latex": [
       "\\begin{enumerate*}\n",
       "\\item -0.620366677224124\n",
       "\\item 0.0421158731442352\n",
       "\\item -0.910921648552446\n",
       "\\item 0.158028772404075\n",
       "\\item -0.654584643918818\n",
       "\\item 1.76728726937265\n",
       "\\item 0.716707476017206\n",
       "\\item 0.910174229495227\n",
       "\\item 0.384185357826345\n",
       "\\item 1.68217608051942\n",
       "\\item -0.635736453948977\n",
       "\\item -0.461644730360566\n",
       "\\item 1.43228223854166\n",
       "\\item -0.650696353310367\n",
       "\\item -0.207380743601965\n",
       "\\item -0.392807929441984\n",
       "\\item -0.319992868548507\n",
       "\\item -0.279113302976559\n",
       "\\item 0.494188331267827\n",
       "\\item -0.177330482269606\n",
       "\\item -0.505957462114257\n",
       "\\item 1.34303882517041\n",
       "\\item -0.214579408546869\n",
       "\\item -0.179556530043387\n",
       "\\item -0.100190741213562\n",
       "\\item 0.712666307051405\n",
       "\\item -0.0735644041263263\n",
       "\\item -0.0376341714670479\n",
       "\\item -0.681660478755657\n",
       "\\item -0.324270272246319\n",
       "\\item 0.0601604404345152\n",
       "\\item -0.588894486259664\n",
       "\\item 0.531496192632572\n",
       "\\item -1.51839408178679\n",
       "\\item 0.306557860789766\n",
       "\\item -1.53644982353759\n",
       "\\item -0.300976126836611\n",
       "\\item -0.528279904445006\n",
       "\\item -0.652094780680999\n",
       "\\item -0.0568967778473925\n",
       "\\item -1.91435942568001\n",
       "\\item 1.17658331201856\n",
       "\\item -1.664972436212\n",
       "\\item -0.463530401472386\n",
       "\\item -1.11592010504285\n",
       "\\item -0.750819001193448\n",
       "\\item 2.08716654562835\n",
       "\\item 0.0173956196932517\n",
       "\\item -1.28630053043433\n",
       "\\item -1.64060553441858\n",
       "\\item 0.450187101272656\n",
       "\\item -0.018559832714638\n",
       "\\item -0.318068374543844\n",
       "\\item -0.929362147453702\n",
       "\\item -1.48746031014148\n",
       "\\item -1.07519229661568\n",
       "\\item 1.00002880371391\n",
       "\\item -0.621266694796823\n",
       "\\item -1.38442684738449\n",
       "\\item 1.86929062242358\n",
       "\\item 0.425100377372448\n",
       "\\item -0.238647100913033\n",
       "\\item 1.05848304870902\n",
       "\\item 0.886422651374936\n",
       "\\item -0.619243048231147\n",
       "\\item 2.20610246454047\n",
       "\\item -0.255027030141015\n",
       "\\item -1.42449465021281\n",
       "\\item -0.144399601954219\n",
       "\\item 0.207538339232345\n",
       "\\item 2.30797839905936\n",
       "\\item 0.105802367893711\n",
       "\\item 0.456998805423414\n",
       "\\item -0.077152935356531\n",
       "\\item -0.334000842366544\n",
       "\\item -0.0347260283112762\n",
       "\\item 0.787639605630162\n",
       "\\item 2.07524500865228\n",
       "\\item 1.02739243876377\n",
       "\\item 1.2079083983867\n",
       "\\item -1.23132342155804\n",
       "\\item 0.983895570053379\n",
       "\\item 0.219924803660651\n",
       "\\item -1.46725002909224\n",
       "\\item 0.521022742648139\n",
       "\\item -0.158754604716016\n",
       "\\item 1.4645873119698\n",
       "\\item -0.766081999604665\n",
       "\\item -0.430211753928547\n",
       "\\item -0.926109497377437\n",
       "\\item -0.17710396143654\n",
       "\\item 0.402011779486338\n",
       "\\item -0.731748173119606\n",
       "\\item 0.830373167981674\n",
       "\\item -1.20808278630446\n",
       "\\item -1.04798441280774\n",
       "\\item 1.44115770684428\n",
       "\\item -1.01584746530465\n",
       "\\item 0.411974712317515\n",
       "\\item -0.38107605110892\n",
       "\\end{enumerate*}\n"
      ],
      "text/markdown": [
       "1. -0.620366677224124\n",
       "2. 0.0421158731442352\n",
       "3. -0.910921648552446\n",
       "4. 0.158028772404075\n",
       "5. -0.654584643918818\n",
       "6. 1.76728726937265\n",
       "7. 0.716707476017206\n",
       "8. 0.910174229495227\n",
       "9. 0.384185357826345\n",
       "10. 1.68217608051942\n",
       "11. -0.635736453948977\n",
       "12. -0.461644730360566\n",
       "13. 1.43228223854166\n",
       "14. -0.650696353310367\n",
       "15. -0.207380743601965\n",
       "16. -0.392807929441984\n",
       "17. -0.319992868548507\n",
       "18. -0.279113302976559\n",
       "19. 0.494188331267827\n",
       "20. -0.177330482269606\n",
       "21. -0.505957462114257\n",
       "22. 1.34303882517041\n",
       "23. -0.214579408546869\n",
       "24. -0.179556530043387\n",
       "25. -0.100190741213562\n",
       "26. 0.712666307051405\n",
       "27. -0.0735644041263263\n",
       "28. -0.0376341714670479\n",
       "29. -0.681660478755657\n",
       "30. -0.324270272246319\n",
       "31. 0.0601604404345152\n",
       "32. -0.588894486259664\n",
       "33. 0.531496192632572\n",
       "34. -1.51839408178679\n",
       "35. 0.306557860789766\n",
       "36. -1.53644982353759\n",
       "37. -0.300976126836611\n",
       "38. -0.528279904445006\n",
       "39. -0.652094780680999\n",
       "40. -0.0568967778473925\n",
       "41. -1.91435942568001\n",
       "42. 1.17658331201856\n",
       "43. -1.664972436212\n",
       "44. -0.463530401472386\n",
       "45. -1.11592010504285\n",
       "46. -0.750819001193448\n",
       "47. 2.08716654562835\n",
       "48. 0.0173956196932517\n",
       "49. -1.28630053043433\n",
       "50. -1.64060553441858\n",
       "51. 0.450187101272656\n",
       "52. -0.018559832714638\n",
       "53. -0.318068374543844\n",
       "54. -0.929362147453702\n",
       "55. -1.48746031014148\n",
       "56. -1.07519229661568\n",
       "57. 1.00002880371391\n",
       "58. -0.621266694796823\n",
       "59. -1.38442684738449\n",
       "60. 1.86929062242358\n",
       "61. 0.425100377372448\n",
       "62. -0.238647100913033\n",
       "63. 1.05848304870902\n",
       "64. 0.886422651374936\n",
       "65. -0.619243048231147\n",
       "66. 2.20610246454047\n",
       "67. -0.255027030141015\n",
       "68. -1.42449465021281\n",
       "69. -0.144399601954219\n",
       "70. 0.207538339232345\n",
       "71. 2.30797839905936\n",
       "72. 0.105802367893711\n",
       "73. 0.456998805423414\n",
       "74. -0.077152935356531\n",
       "75. -0.334000842366544\n",
       "76. -0.0347260283112762\n",
       "77. 0.787639605630162\n",
       "78. 2.07524500865228\n",
       "79. 1.02739243876377\n",
       "80. 1.2079083983867\n",
       "81. -1.23132342155804\n",
       "82. 0.983895570053379\n",
       "83. 0.219924803660651\n",
       "84. -1.46725002909224\n",
       "85. 0.521022742648139\n",
       "86. -0.158754604716016\n",
       "87. 1.4645873119698\n",
       "88. -0.766081999604665\n",
       "89. -0.430211753928547\n",
       "90. -0.926109497377437\n",
       "91. -0.17710396143654\n",
       "92. 0.402011779486338\n",
       "93. -0.731748173119606\n",
       "94. 0.830373167981674\n",
       "95. -1.20808278630446\n",
       "96. -1.04798441280774\n",
       "97. 1.44115770684428\n",
       "98. -1.01584746530465\n",
       "99. 0.411974712317515\n",
       "100. -0.38107605110892\n",
       "\n",
       "\n"
      ],
      "text/plain": [
       "  [1] -0.62036668  0.04211587 -0.91092165  0.15802877 -0.65458464  1.76728727\n",
       "  [7]  0.71670748  0.91017423  0.38418536  1.68217608 -0.63573645 -0.46164473\n",
       " [13]  1.43228224 -0.65069635 -0.20738074 -0.39280793 -0.31999287 -0.27911330\n",
       " [19]  0.49418833 -0.17733048 -0.50595746  1.34303883 -0.21457941 -0.17955653\n",
       " [25] -0.10019074  0.71266631 -0.07356440 -0.03763417 -0.68166048 -0.32427027\n",
       " [31]  0.06016044 -0.58889449  0.53149619 -1.51839408  0.30655786 -1.53644982\n",
       " [37] -0.30097613 -0.52827990 -0.65209478 -0.05689678 -1.91435943  1.17658331\n",
       " [43] -1.66497244 -0.46353040 -1.11592011 -0.75081900  2.08716655  0.01739562\n",
       " [49] -1.28630053 -1.64060553  0.45018710 -0.01855983 -0.31806837 -0.92936215\n",
       " [55] -1.48746031 -1.07519230  1.00002880 -0.62126669 -1.38442685  1.86929062\n",
       " [61]  0.42510038 -0.23864710  1.05848305  0.88642265 -0.61924305  2.20610246\n",
       " [67] -0.25502703 -1.42449465 -0.14439960  0.20753834  2.30797840  0.10580237\n",
       " [73]  0.45699881 -0.07715294 -0.33400084 -0.03472603  0.78763961  2.07524501\n",
       " [79]  1.02739244  1.20790840 -1.23132342  0.98389557  0.21992480 -1.46725003\n",
       " [85]  0.52102274 -0.15875460  1.46458731 -0.76608200 -0.43021175 -0.92610950\n",
       " [91] -0.17710396  0.40201178 -0.73174817  0.83037317 -1.20808279 -1.04798441\n",
       " [97]  1.44115771 -1.01584747  0.41197471 -0.38107605"
      ]
     },
     "metadata": {},
     "output_type": "display_data"
    },
    {
     "data": {
      "text/html": [
       "<style>\n",
       ".list-inline {list-style: none; margin:0; padding: 0}\n",
       ".list-inline>li {display: inline-block}\n",
       ".list-inline>li:not(:last-child)::after {content: \"\\00b7\"; padding: 0 .5ex}\n",
       "</style>\n",
       "<ol class=list-inline><li>3.91723849344999</li><li>1.44144241977483</li><li>4.5458037732169</li><li>3.19058634806424</li><li>2.93739809747785</li></ol>\n"
      ],
      "text/latex": [
       "\\begin{enumerate*}\n",
       "\\item 3.91723849344999\n",
       "\\item 1.44144241977483\n",
       "\\item 4.5458037732169\n",
       "\\item 3.19058634806424\n",
       "\\item 2.93739809747785\n",
       "\\end{enumerate*}\n"
      ],
      "text/markdown": [
       "1. 3.91723849344999\n",
       "2. 1.44144241977483\n",
       "3. 4.5458037732169\n",
       "4. 3.19058634806424\n",
       "5. 2.93739809747785\n",
       "\n",
       "\n"
      ],
      "text/plain": [
       "[1] 3.917238 1.441442 4.545804 3.190586 2.937398"
      ]
     },
     "metadata": {},
     "output_type": "display_data"
    },
    {
     "data": {
      "text/html": [
       "<style>\n",
       ".list-inline {list-style: none; margin:0; padding: 0}\n",
       ".list-inline>li {display: inline-block}\n",
       ".list-inline>li:not(:last-child)::after {content: \"\\00b7\"; padding: 0 .5ex}\n",
       "</style>\n",
       "<ol class=list-inline><li>0</li><li>1</li><li>0</li><li>0</li><li>1</li><li>0</li><li>0</li><li>0</li><li>1</li><li>1</li><li>0</li><li>0</li><li>0</li><li>0</li><li>0</li><li>1</li><li>1</li><li>1</li><li>1</li><li>0</li><li>0</li><li>0</li><li>0</li><li>0</li><li>0</li><li>0</li><li>1</li><li>0</li><li>0</li><li>1</li><li>1</li><li>1</li><li>0</li><li>1</li><li>0</li><li>0</li><li>1</li><li>0</li><li>1</li><li>1</li><li>1</li><li>1</li><li>0</li><li>1</li><li>1</li><li>1</li><li>1</li><li>1</li><li>0</li><li>0</li><li>1</li><li>0</li><li>1</li><li>1</li><li>0</li><li>0</li><li>1</li><li>1</li><li>1</li><li>0</li><li>0</li><li>1</li><li>1</li><li>1</li><li>1</li><li>1</li><li>1</li><li>0</li><li>1</li><li>1</li><li>1</li><li>1</li><li>0</li><li>0</li><li>0</li><li>1</li><li>1</li><li>0</li><li>0</li><li>1</li><li>1</li><li>1</li><li>0</li><li>0</li><li>0</li><li>1</li><li>0</li><li>1</li><li>0</li><li>1</li><li>0</li><li>0</li><li>1</li><li>1</li><li>0</li><li>0</li><li>0</li><li>1</li><li>1</li><li>0</li></ol>\n"
      ],
      "text/latex": [
       "\\begin{enumerate*}\n",
       "\\item 0\n",
       "\\item 1\n",
       "\\item 0\n",
       "\\item 0\n",
       "\\item 1\n",
       "\\item 0\n",
       "\\item 0\n",
       "\\item 0\n",
       "\\item 1\n",
       "\\item 1\n",
       "\\item 0\n",
       "\\item 0\n",
       "\\item 0\n",
       "\\item 0\n",
       "\\item 0\n",
       "\\item 1\n",
       "\\item 1\n",
       "\\item 1\n",
       "\\item 1\n",
       "\\item 0\n",
       "\\item 0\n",
       "\\item 0\n",
       "\\item 0\n",
       "\\item 0\n",
       "\\item 0\n",
       "\\item 0\n",
       "\\item 1\n",
       "\\item 0\n",
       "\\item 0\n",
       "\\item 1\n",
       "\\item 1\n",
       "\\item 1\n",
       "\\item 0\n",
       "\\item 1\n",
       "\\item 0\n",
       "\\item 0\n",
       "\\item 1\n",
       "\\item 0\n",
       "\\item 1\n",
       "\\item 1\n",
       "\\item 1\n",
       "\\item 1\n",
       "\\item 0\n",
       "\\item 1\n",
       "\\item 1\n",
       "\\item 1\n",
       "\\item 1\n",
       "\\item 1\n",
       "\\item 0\n",
       "\\item 0\n",
       "\\item 1\n",
       "\\item 0\n",
       "\\item 1\n",
       "\\item 1\n",
       "\\item 0\n",
       "\\item 0\n",
       "\\item 1\n",
       "\\item 1\n",
       "\\item 1\n",
       "\\item 0\n",
       "\\item 0\n",
       "\\item 1\n",
       "\\item 1\n",
       "\\item 1\n",
       "\\item 1\n",
       "\\item 1\n",
       "\\item 1\n",
       "\\item 0\n",
       "\\item 1\n",
       "\\item 1\n",
       "\\item 1\n",
       "\\item 1\n",
       "\\item 0\n",
       "\\item 0\n",
       "\\item 0\n",
       "\\item 1\n",
       "\\item 1\n",
       "\\item 0\n",
       "\\item 0\n",
       "\\item 1\n",
       "\\item 1\n",
       "\\item 1\n",
       "\\item 0\n",
       "\\item 0\n",
       "\\item 0\n",
       "\\item 1\n",
       "\\item 0\n",
       "\\item 1\n",
       "\\item 0\n",
       "\\item 1\n",
       "\\item 0\n",
       "\\item 0\n",
       "\\item 1\n",
       "\\item 1\n",
       "\\item 0\n",
       "\\item 0\n",
       "\\item 0\n",
       "\\item 1\n",
       "\\item 1\n",
       "\\item 0\n",
       "\\end{enumerate*}\n"
      ],
      "text/markdown": [
       "1. 0\n",
       "2. 1\n",
       "3. 0\n",
       "4. 0\n",
       "5. 1\n",
       "6. 0\n",
       "7. 0\n",
       "8. 0\n",
       "9. 1\n",
       "10. 1\n",
       "11. 0\n",
       "12. 0\n",
       "13. 0\n",
       "14. 0\n",
       "15. 0\n",
       "16. 1\n",
       "17. 1\n",
       "18. 1\n",
       "19. 1\n",
       "20. 0\n",
       "21. 0\n",
       "22. 0\n",
       "23. 0\n",
       "24. 0\n",
       "25. 0\n",
       "26. 0\n",
       "27. 1\n",
       "28. 0\n",
       "29. 0\n",
       "30. 1\n",
       "31. 1\n",
       "32. 1\n",
       "33. 0\n",
       "34. 1\n",
       "35. 0\n",
       "36. 0\n",
       "37. 1\n",
       "38. 0\n",
       "39. 1\n",
       "40. 1\n",
       "41. 1\n",
       "42. 1\n",
       "43. 0\n",
       "44. 1\n",
       "45. 1\n",
       "46. 1\n",
       "47. 1\n",
       "48. 1\n",
       "49. 0\n",
       "50. 0\n",
       "51. 1\n",
       "52. 0\n",
       "53. 1\n",
       "54. 1\n",
       "55. 0\n",
       "56. 0\n",
       "57. 1\n",
       "58. 1\n",
       "59. 1\n",
       "60. 0\n",
       "61. 0\n",
       "62. 1\n",
       "63. 1\n",
       "64. 1\n",
       "65. 1\n",
       "66. 1\n",
       "67. 1\n",
       "68. 0\n",
       "69. 1\n",
       "70. 1\n",
       "71. 1\n",
       "72. 1\n",
       "73. 0\n",
       "74. 0\n",
       "75. 0\n",
       "76. 1\n",
       "77. 1\n",
       "78. 0\n",
       "79. 0\n",
       "80. 1\n",
       "81. 1\n",
       "82. 1\n",
       "83. 0\n",
       "84. 0\n",
       "85. 0\n",
       "86. 1\n",
       "87. 0\n",
       "88. 1\n",
       "89. 0\n",
       "90. 1\n",
       "91. 0\n",
       "92. 0\n",
       "93. 1\n",
       "94. 1\n",
       "95. 0\n",
       "96. 0\n",
       "97. 0\n",
       "98. 1\n",
       "99. 1\n",
       "100. 0\n",
       "\n",
       "\n"
      ],
      "text/plain": [
       "  [1] 0 1 0 0 1 0 0 0 1 1 0 0 0 0 0 1 1 1 1 0 0 0 0 0 0 0 1 0 0 1 1 1 0 1 0 0 1\n",
       " [38] 0 1 1 1 1 0 1 1 1 1 1 0 0 1 0 1 1 0 0 1 1 1 0 0 1 1 1 1 1 1 0 1 1 1 1 0 0\n",
       " [75] 0 1 1 0 0 1 1 1 0 0 0 1 0 1 0 1 0 0 1 1 0 0 0 1 1 0"
      ]
     },
     "metadata": {},
     "output_type": "display_data"
    }
   ],
   "source": [
    "#Common distribution uniform, normal, exponential, gamma, poission, beta ...\n",
    "uniform_100 = runif(100, min = 1, max = 5)\n",
    "normal_100 = rnorm(100)\n",
    "#Sampling can be done with function sample()\n",
    "sample5_from_uniform100 = sample(uniform_100, size = 5, replace =FALSE) #random sampling\n",
    "set.seed(1)\n",
    "\n",
    "sample_0or1_100times=sample(c(0,1), 100, replace = TRUE) # sampling with replacement, 0 and 1\n",
    "\n",
    "uniform_100\n",
    "normal_100\n",
    "sample5_from_uniform100\n",
    "sample_0or1_100times"
   ]
  },
  {
   "cell_type": "markdown",
   "id": "7edb0103-ddff-4759-82f8-770edfb29826",
   "metadata": {},
   "source": [
    "# Other useful commands"
   ]
  },
  {
   "cell_type": "code",
   "execution_count": 83,
   "id": "480747d6-174d-4200-bc60-b4cedc71002f",
   "metadata": {},
   "outputs": [
    {
     "data": {
      "text/html": [
       "<style>\n",
       ".list-inline {list-style: none; margin:0; padding: 0}\n",
       ".list-inline>li {display: inline-block}\n",
       ".list-inline>li:not(:last-child)::after {content: \"\\00b7\"; padding: 0 .5ex}\n",
       "</style>\n",
       "<ol class=list-inline><li>'Iris'</li><li>'all_ex3'</li><li>'asn'</li><li>'cb_df'</li><li>'cl_f'</li><li>'cl_v'</li><li>'complicated_list'</li><li>'df'</li><li>'div1'</li><li>'div2'</li><li>'f'</li><li>'first_2'</li><li>'first_3'</li><li>'fn1'</li><li>'fr_1'</li><li>'fruits'</li><li>'i'</li><li>'iris'</li><li>'iris_list'</li><li>'joined_vec'</li><li>'larger_than4'</li><li>'last_fr'</li><li>'len_fr'</li><li>'libs'</li><li>'m'</li><li>'m2'</li><li>'m3'</li><li>'mean_4firstcolumns'</li><li>'mean_list'</li><li>'median_4firstcolumns'</li><li>'median_list'</li><li>'mx'</li><li>'mx2'</li><li>'mx2_col12'</li><li>'mx2_col2'</li><li>'mx2_row12'</li><li>'mx2_row1col3'</li><li>'mx2_times7'</li><li>'mx3'</li><li>'mx4'</li><li>'mx_col3div2'</li><li>'mxnew'</li><li>'my2ndlist'</li><li>'mylist'</li><li>'name'</li><li>'normal_100'</li><li>'person'</li><li>'rb_df'</li><li>'rep_val'</li><li>'sample5_from_uniform100'</li><li>'sample_0or1_100times'</li><li>'sd_4firstcolumns'</li><li>'sd_list'</li><li>'sec1'</li><li>'sec2'</li><li>'seq4'</li><li>'seq_4'</li><li>'seq_len5'</li><li>'sorted_w'</li><li>'sq'</li><li>'sq2'</li><li>'src'</li><li>'subset1'</li><li>'subset2'</li><li>'subset3'</li><li>'subset_col1df'</li><li>'subset_row1_col3'</li><li>'uniform_100'</li><li>'v'</li><li>'w'</li><li>'w_ord'</li><li>'w_srt'</li><li>'x'</li><li>'y'</li><li>'y_rev'</li><li>'year'</li><li>'z'</li></ol>\n"
      ],
      "text/latex": [
       "\\begin{enumerate*}\n",
       "\\item 'Iris'\n",
       "\\item 'all\\_ex3'\n",
       "\\item 'asn'\n",
       "\\item 'cb\\_df'\n",
       "\\item 'cl\\_f'\n",
       "\\item 'cl\\_v'\n",
       "\\item 'complicated\\_list'\n",
       "\\item 'df'\n",
       "\\item 'div1'\n",
       "\\item 'div2'\n",
       "\\item 'f'\n",
       "\\item 'first\\_2'\n",
       "\\item 'first\\_3'\n",
       "\\item 'fn1'\n",
       "\\item 'fr\\_1'\n",
       "\\item 'fruits'\n",
       "\\item 'i'\n",
       "\\item 'iris'\n",
       "\\item 'iris\\_list'\n",
       "\\item 'joined\\_vec'\n",
       "\\item 'larger\\_than4'\n",
       "\\item 'last\\_fr'\n",
       "\\item 'len\\_fr'\n",
       "\\item 'libs'\n",
       "\\item 'm'\n",
       "\\item 'm2'\n",
       "\\item 'm3'\n",
       "\\item 'mean\\_4firstcolumns'\n",
       "\\item 'mean\\_list'\n",
       "\\item 'median\\_4firstcolumns'\n",
       "\\item 'median\\_list'\n",
       "\\item 'mx'\n",
       "\\item 'mx2'\n",
       "\\item 'mx2\\_col12'\n",
       "\\item 'mx2\\_col2'\n",
       "\\item 'mx2\\_row12'\n",
       "\\item 'mx2\\_row1col3'\n",
       "\\item 'mx2\\_times7'\n",
       "\\item 'mx3'\n",
       "\\item 'mx4'\n",
       "\\item 'mx\\_col3div2'\n",
       "\\item 'mxnew'\n",
       "\\item 'my2ndlist'\n",
       "\\item 'mylist'\n",
       "\\item 'name'\n",
       "\\item 'normal\\_100'\n",
       "\\item 'person'\n",
       "\\item 'rb\\_df'\n",
       "\\item 'rep\\_val'\n",
       "\\item 'sample5\\_from\\_uniform100'\n",
       "\\item 'sample\\_0or1\\_100times'\n",
       "\\item 'sd\\_4firstcolumns'\n",
       "\\item 'sd\\_list'\n",
       "\\item 'sec1'\n",
       "\\item 'sec2'\n",
       "\\item 'seq4'\n",
       "\\item 'seq\\_4'\n",
       "\\item 'seq\\_len5'\n",
       "\\item 'sorted\\_w'\n",
       "\\item 'sq'\n",
       "\\item 'sq2'\n",
       "\\item 'src'\n",
       "\\item 'subset1'\n",
       "\\item 'subset2'\n",
       "\\item 'subset3'\n",
       "\\item 'subset\\_col1df'\n",
       "\\item 'subset\\_row1\\_col3'\n",
       "\\item 'uniform\\_100'\n",
       "\\item 'v'\n",
       "\\item 'w'\n",
       "\\item 'w\\_ord'\n",
       "\\item 'w\\_srt'\n",
       "\\item 'x'\n",
       "\\item 'y'\n",
       "\\item 'y\\_rev'\n",
       "\\item 'year'\n",
       "\\item 'z'\n",
       "\\end{enumerate*}\n"
      ],
      "text/markdown": [
       "1. 'Iris'\n",
       "2. 'all_ex3'\n",
       "3. 'asn'\n",
       "4. 'cb_df'\n",
       "5. 'cl_f'\n",
       "6. 'cl_v'\n",
       "7. 'complicated_list'\n",
       "8. 'df'\n",
       "9. 'div1'\n",
       "10. 'div2'\n",
       "11. 'f'\n",
       "12. 'first_2'\n",
       "13. 'first_3'\n",
       "14. 'fn1'\n",
       "15. 'fr_1'\n",
       "16. 'fruits'\n",
       "17. 'i'\n",
       "18. 'iris'\n",
       "19. 'iris_list'\n",
       "20. 'joined_vec'\n",
       "21. 'larger_than4'\n",
       "22. 'last_fr'\n",
       "23. 'len_fr'\n",
       "24. 'libs'\n",
       "25. 'm'\n",
       "26. 'm2'\n",
       "27. 'm3'\n",
       "28. 'mean_4firstcolumns'\n",
       "29. 'mean_list'\n",
       "30. 'median_4firstcolumns'\n",
       "31. 'median_list'\n",
       "32. 'mx'\n",
       "33. 'mx2'\n",
       "34. 'mx2_col12'\n",
       "35. 'mx2_col2'\n",
       "36. 'mx2_row12'\n",
       "37. 'mx2_row1col3'\n",
       "38. 'mx2_times7'\n",
       "39. 'mx3'\n",
       "40. 'mx4'\n",
       "41. 'mx_col3div2'\n",
       "42. 'mxnew'\n",
       "43. 'my2ndlist'\n",
       "44. 'mylist'\n",
       "45. 'name'\n",
       "46. 'normal_100'\n",
       "47. 'person'\n",
       "48. 'rb_df'\n",
       "49. 'rep_val'\n",
       "50. 'sample5_from_uniform100'\n",
       "51. 'sample_0or1_100times'\n",
       "52. 'sd_4firstcolumns'\n",
       "53. 'sd_list'\n",
       "54. 'sec1'\n",
       "55. 'sec2'\n",
       "56. 'seq4'\n",
       "57. 'seq_4'\n",
       "58. 'seq_len5'\n",
       "59. 'sorted_w'\n",
       "60. 'sq'\n",
       "61. 'sq2'\n",
       "62. 'src'\n",
       "63. 'subset1'\n",
       "64. 'subset2'\n",
       "65. 'subset3'\n",
       "66. 'subset_col1df'\n",
       "67. 'subset_row1_col3'\n",
       "68. 'uniform_100'\n",
       "69. 'v'\n",
       "70. 'w'\n",
       "71. 'w_ord'\n",
       "72. 'w_srt'\n",
       "73. 'x'\n",
       "74. 'y'\n",
       "75. 'y_rev'\n",
       "76. 'year'\n",
       "77. 'z'\n",
       "\n",
       "\n"
      ],
      "text/plain": [
       " [1] \"Iris\"                    \"all_ex3\"                \n",
       " [3] \"asn\"                     \"cb_df\"                  \n",
       " [5] \"cl_f\"                    \"cl_v\"                   \n",
       " [7] \"complicated_list\"        \"df\"                     \n",
       " [9] \"div1\"                    \"div2\"                   \n",
       "[11] \"f\"                       \"first_2\"                \n",
       "[13] \"first_3\"                 \"fn1\"                    \n",
       "[15] \"fr_1\"                    \"fruits\"                 \n",
       "[17] \"i\"                       \"iris\"                   \n",
       "[19] \"iris_list\"               \"joined_vec\"             \n",
       "[21] \"larger_than4\"            \"last_fr\"                \n",
       "[23] \"len_fr\"                  \"libs\"                   \n",
       "[25] \"m\"                       \"m2\"                     \n",
       "[27] \"m3\"                      \"mean_4firstcolumns\"     \n",
       "[29] \"mean_list\"               \"median_4firstcolumns\"   \n",
       "[31] \"median_list\"             \"mx\"                     \n",
       "[33] \"mx2\"                     \"mx2_col12\"              \n",
       "[35] \"mx2_col2\"                \"mx2_row12\"              \n",
       "[37] \"mx2_row1col3\"            \"mx2_times7\"             \n",
       "[39] \"mx3\"                     \"mx4\"                    \n",
       "[41] \"mx_col3div2\"             \"mxnew\"                  \n",
       "[43] \"my2ndlist\"               \"mylist\"                 \n",
       "[45] \"name\"                    \"normal_100\"             \n",
       "[47] \"person\"                  \"rb_df\"                  \n",
       "[49] \"rep_val\"                 \"sample5_from_uniform100\"\n",
       "[51] \"sample_0or1_100times\"    \"sd_4firstcolumns\"       \n",
       "[53] \"sd_list\"                 \"sec1\"                   \n",
       "[55] \"sec2\"                    \"seq4\"                   \n",
       "[57] \"seq_4\"                   \"seq_len5\"               \n",
       "[59] \"sorted_w\"                \"sq\"                     \n",
       "[61] \"sq2\"                     \"src\"                    \n",
       "[63] \"subset1\"                 \"subset2\"                \n",
       "[65] \"subset3\"                 \"subset_col1df\"          \n",
       "[67] \"subset_row1_col3\"        \"uniform_100\"            \n",
       "[69] \"v\"                       \"w\"                      \n",
       "[71] \"w_ord\"                   \"w_srt\"                  \n",
       "[73] \"x\"                       \"y\"                      \n",
       "[75] \"y_rev\"                   \"year\"                   \n",
       "[77] \"z\"                      "
      ]
     },
     "metadata": {},
     "output_type": "display_data"
    }
   ],
   "source": [
    "#Which variables have beend declared\n",
    "ls()"
   ]
  },
  {
   "cell_type": "code",
   "execution_count": 84,
   "id": "6e8e53d9-d26c-44c3-a0fb-f0a471d06d04",
   "metadata": {},
   "outputs": [
    {
     "data": {
      "text/html": [
       "<style>\n",
       ".list-inline {list-style: none; margin:0; padding: 0}\n",
       ".list-inline>li {display: inline-block}\n",
       ".list-inline>li:not(:last-child)::after {content: \"\\00b7\"; padding: 0 .5ex}\n",
       "</style>\n",
       "<ol class=list-inline><li>'Iris'</li><li>'asn'</li><li>'cb_df'</li><li>'cl_f'</li><li>'cl_v'</li><li>'complicated_list'</li><li>'df'</li><li>'div1'</li><li>'div2'</li><li>'f'</li><li>'first_2'</li><li>'first_3'</li><li>'fn1'</li><li>'fr_1'</li><li>'fruits'</li><li>'i'</li><li>'iris'</li><li>'iris_list'</li><li>'joined_vec'</li><li>'larger_than4'</li><li>'last_fr'</li><li>'len_fr'</li><li>'libs'</li><li>'m'</li><li>'m2'</li><li>'m3'</li><li>'mean_4firstcolumns'</li><li>'mean_list'</li><li>'median_4firstcolumns'</li><li>'median_list'</li><li>'mx'</li><li>'mx2'</li><li>'mx2_col12'</li><li>'mx2_col2'</li><li>'mx2_row12'</li><li>'mx2_row1col3'</li><li>'mx2_times7'</li><li>'mx3'</li><li>'mx4'</li><li>'mx_col3div2'</li><li>'mxnew'</li><li>'my2ndlist'</li><li>'mylist'</li><li>'name'</li><li>'normal_100'</li><li>'person'</li><li>'rb_df'</li><li>'rep_val'</li><li>'sample5_from_uniform100'</li><li>'sample_0or1_100times'</li><li>'sd_4firstcolumns'</li><li>'sd_list'</li><li>'sec1'</li><li>'sec2'</li><li>'seq4'</li><li>'seq_4'</li><li>'seq_len5'</li><li>'sorted_w'</li><li>'sq'</li><li>'sq2'</li><li>'src'</li><li>'subset1'</li><li>'subset2'</li><li>'subset3'</li><li>'subset_col1df'</li><li>'subset_row1_col3'</li><li>'uniform_100'</li><li>'v'</li><li>'w'</li><li>'w_ord'</li><li>'w_srt'</li><li>'x'</li><li>'y'</li><li>'y_rev'</li><li>'year'</li><li>'z'</li></ol>\n"
      ],
      "text/latex": [
       "\\begin{enumerate*}\n",
       "\\item 'Iris'\n",
       "\\item 'asn'\n",
       "\\item 'cb\\_df'\n",
       "\\item 'cl\\_f'\n",
       "\\item 'cl\\_v'\n",
       "\\item 'complicated\\_list'\n",
       "\\item 'df'\n",
       "\\item 'div1'\n",
       "\\item 'div2'\n",
       "\\item 'f'\n",
       "\\item 'first\\_2'\n",
       "\\item 'first\\_3'\n",
       "\\item 'fn1'\n",
       "\\item 'fr\\_1'\n",
       "\\item 'fruits'\n",
       "\\item 'i'\n",
       "\\item 'iris'\n",
       "\\item 'iris\\_list'\n",
       "\\item 'joined\\_vec'\n",
       "\\item 'larger\\_than4'\n",
       "\\item 'last\\_fr'\n",
       "\\item 'len\\_fr'\n",
       "\\item 'libs'\n",
       "\\item 'm'\n",
       "\\item 'm2'\n",
       "\\item 'm3'\n",
       "\\item 'mean\\_4firstcolumns'\n",
       "\\item 'mean\\_list'\n",
       "\\item 'median\\_4firstcolumns'\n",
       "\\item 'median\\_list'\n",
       "\\item 'mx'\n",
       "\\item 'mx2'\n",
       "\\item 'mx2\\_col12'\n",
       "\\item 'mx2\\_col2'\n",
       "\\item 'mx2\\_row12'\n",
       "\\item 'mx2\\_row1col3'\n",
       "\\item 'mx2\\_times7'\n",
       "\\item 'mx3'\n",
       "\\item 'mx4'\n",
       "\\item 'mx\\_col3div2'\n",
       "\\item 'mxnew'\n",
       "\\item 'my2ndlist'\n",
       "\\item 'mylist'\n",
       "\\item 'name'\n",
       "\\item 'normal\\_100'\n",
       "\\item 'person'\n",
       "\\item 'rb\\_df'\n",
       "\\item 'rep\\_val'\n",
       "\\item 'sample5\\_from\\_uniform100'\n",
       "\\item 'sample\\_0or1\\_100times'\n",
       "\\item 'sd\\_4firstcolumns'\n",
       "\\item 'sd\\_list'\n",
       "\\item 'sec1'\n",
       "\\item 'sec2'\n",
       "\\item 'seq4'\n",
       "\\item 'seq\\_4'\n",
       "\\item 'seq\\_len5'\n",
       "\\item 'sorted\\_w'\n",
       "\\item 'sq'\n",
       "\\item 'sq2'\n",
       "\\item 'src'\n",
       "\\item 'subset1'\n",
       "\\item 'subset2'\n",
       "\\item 'subset3'\n",
       "\\item 'subset\\_col1df'\n",
       "\\item 'subset\\_row1\\_col3'\n",
       "\\item 'uniform\\_100'\n",
       "\\item 'v'\n",
       "\\item 'w'\n",
       "\\item 'w\\_ord'\n",
       "\\item 'w\\_srt'\n",
       "\\item 'x'\n",
       "\\item 'y'\n",
       "\\item 'y\\_rev'\n",
       "\\item 'year'\n",
       "\\item 'z'\n",
       "\\end{enumerate*}\n"
      ],
      "text/markdown": [
       "1. 'Iris'\n",
       "2. 'asn'\n",
       "3. 'cb_df'\n",
       "4. 'cl_f'\n",
       "5. 'cl_v'\n",
       "6. 'complicated_list'\n",
       "7. 'df'\n",
       "8. 'div1'\n",
       "9. 'div2'\n",
       "10. 'f'\n",
       "11. 'first_2'\n",
       "12. 'first_3'\n",
       "13. 'fn1'\n",
       "14. 'fr_1'\n",
       "15. 'fruits'\n",
       "16. 'i'\n",
       "17. 'iris'\n",
       "18. 'iris_list'\n",
       "19. 'joined_vec'\n",
       "20. 'larger_than4'\n",
       "21. 'last_fr'\n",
       "22. 'len_fr'\n",
       "23. 'libs'\n",
       "24. 'm'\n",
       "25. 'm2'\n",
       "26. 'm3'\n",
       "27. 'mean_4firstcolumns'\n",
       "28. 'mean_list'\n",
       "29. 'median_4firstcolumns'\n",
       "30. 'median_list'\n",
       "31. 'mx'\n",
       "32. 'mx2'\n",
       "33. 'mx2_col12'\n",
       "34. 'mx2_col2'\n",
       "35. 'mx2_row12'\n",
       "36. 'mx2_row1col3'\n",
       "37. 'mx2_times7'\n",
       "38. 'mx3'\n",
       "39. 'mx4'\n",
       "40. 'mx_col3div2'\n",
       "41. 'mxnew'\n",
       "42. 'my2ndlist'\n",
       "43. 'mylist'\n",
       "44. 'name'\n",
       "45. 'normal_100'\n",
       "46. 'person'\n",
       "47. 'rb_df'\n",
       "48. 'rep_val'\n",
       "49. 'sample5_from_uniform100'\n",
       "50. 'sample_0or1_100times'\n",
       "51. 'sd_4firstcolumns'\n",
       "52. 'sd_list'\n",
       "53. 'sec1'\n",
       "54. 'sec2'\n",
       "55. 'seq4'\n",
       "56. 'seq_4'\n",
       "57. 'seq_len5'\n",
       "58. 'sorted_w'\n",
       "59. 'sq'\n",
       "60. 'sq2'\n",
       "61. 'src'\n",
       "62. 'subset1'\n",
       "63. 'subset2'\n",
       "64. 'subset3'\n",
       "65. 'subset_col1df'\n",
       "66. 'subset_row1_col3'\n",
       "67. 'uniform_100'\n",
       "68. 'v'\n",
       "69. 'w'\n",
       "70. 'w_ord'\n",
       "71. 'w_srt'\n",
       "72. 'x'\n",
       "73. 'y'\n",
       "74. 'y_rev'\n",
       "75. 'year'\n",
       "76. 'z'\n",
       "\n",
       "\n"
      ],
      "text/plain": [
       " [1] \"Iris\"                    \"asn\"                    \n",
       " [3] \"cb_df\"                   \"cl_f\"                   \n",
       " [5] \"cl_v\"                    \"complicated_list\"       \n",
       " [7] \"df\"                      \"div1\"                   \n",
       " [9] \"div2\"                    \"f\"                      \n",
       "[11] \"first_2\"                 \"first_3\"                \n",
       "[13] \"fn1\"                     \"fr_1\"                   \n",
       "[15] \"fruits\"                  \"i\"                      \n",
       "[17] \"iris\"                    \"iris_list\"              \n",
       "[19] \"joined_vec\"              \"larger_than4\"           \n",
       "[21] \"last_fr\"                 \"len_fr\"                 \n",
       "[23] \"libs\"                    \"m\"                      \n",
       "[25] \"m2\"                      \"m3\"                     \n",
       "[27] \"mean_4firstcolumns\"      \"mean_list\"              \n",
       "[29] \"median_4firstcolumns\"    \"median_list\"            \n",
       "[31] \"mx\"                      \"mx2\"                    \n",
       "[33] \"mx2_col12\"               \"mx2_col2\"               \n",
       "[35] \"mx2_row12\"               \"mx2_row1col3\"           \n",
       "[37] \"mx2_times7\"              \"mx3\"                    \n",
       "[39] \"mx4\"                     \"mx_col3div2\"            \n",
       "[41] \"mxnew\"                   \"my2ndlist\"              \n",
       "[43] \"mylist\"                  \"name\"                   \n",
       "[45] \"normal_100\"              \"person\"                 \n",
       "[47] \"rb_df\"                   \"rep_val\"                \n",
       "[49] \"sample5_from_uniform100\" \"sample_0or1_100times\"   \n",
       "[51] \"sd_4firstcolumns\"        \"sd_list\"                \n",
       "[53] \"sec1\"                    \"sec2\"                   \n",
       "[55] \"seq4\"                    \"seq_4\"                  \n",
       "[57] \"seq_len5\"                \"sorted_w\"               \n",
       "[59] \"sq\"                      \"sq2\"                    \n",
       "[61] \"src\"                     \"subset1\"                \n",
       "[63] \"subset2\"                 \"subset3\"                \n",
       "[65] \"subset_col1df\"           \"subset_row1_col3\"       \n",
       "[67] \"uniform_100\"             \"v\"                      \n",
       "[69] \"w\"                       \"w_ord\"                  \n",
       "[71] \"w_srt\"                   \"x\"                      \n",
       "[73] \"y\"                       \"y_rev\"                  \n",
       "[75] \"year\"                    \"z\"                      "
      ]
     },
     "metadata": {},
     "output_type": "display_data"
    }
   ],
   "source": [
    "#Remove a variable\n",
    "rm(all_ex3)\n",
    "ls()"
   ]
  },
  {
   "cell_type": "code",
   "execution_count": 85,
   "id": "af48d8bb-f76a-458a-8432-4396cc2f1a62",
   "metadata": {},
   "outputs": [
    {
     "data": {
      "text/html": [
       "'/app/workspace/intro_to_programming'"
      ],
      "text/latex": [
       "'/app/workspace/intro\\_to\\_programming'"
      ],
      "text/markdown": [
       "'/app/workspace/intro_to_programming'"
      ],
      "text/plain": [
       "[1] \"/app/workspace/intro_to_programming\""
      ]
     },
     "metadata": {},
     "output_type": "display_data"
    }
   ],
   "source": [
    "getwd()  # get working directory\n",
    "\n",
    "# setwd() won't work in the Rkernel of jupyter notebook, \n",
    "# but it will work to change the working directory in an R script\n",
    "# in an R notebook in RStudio it will change the working directory only for the current code chunk\n",
    "\n",
    "#setwd(\"mypath/mynewdirectory\")  # set working directory"
   ]
  },
  {
   "cell_type": "code",
   "execution_count": 86,
   "id": "c3cfe4d5-faa9-4845-b01c-fd6b170db000",
   "metadata": {},
   "outputs": [
    {
     "name": "stderr",
     "output_type": "stream",
     "text": [
      "Warning message in library():\n",
      "“library ‘/usr/lib/R/site-library’ contains no packages”\n"
     ]
    }
   ],
   "source": [
    "libs=library()   # see all packages installed \n",
    "#libs  ## this can be a long output"
   ]
  },
  {
   "cell_type": "code",
   "execution_count": 87,
   "id": "bb73d733-c7e4-406b-a8c8-e233886eaa97",
   "metadata": {},
   "outputs": [
    {
     "data": {
      "text/html": [
       "<style>\n",
       ".list-inline {list-style: none; margin:0; padding: 0}\n",
       ".list-inline>li {display: inline-block}\n",
       ".list-inline>li:not(:last-child)::after {content: \"\\00b7\"; padding: 0 .5ex}\n",
       "</style>\n",
       "<ol class=list-inline><li>'.GlobalEnv'</li><li>'package:ggplot2'</li><li>'jupyter:irkernel'</li><li>'package:stats'</li><li>'package:graphics'</li><li>'package:grDevices'</li><li>'package:utils'</li><li>'package:datasets'</li><li>'package:methods'</li><li>'Autoloads'</li><li>'package:base'</li></ol>\n"
      ],
      "text/latex": [
       "\\begin{enumerate*}\n",
       "\\item '.GlobalEnv'\n",
       "\\item 'package:ggplot2'\n",
       "\\item 'jupyter:irkernel'\n",
       "\\item 'package:stats'\n",
       "\\item 'package:graphics'\n",
       "\\item 'package:grDevices'\n",
       "\\item 'package:utils'\n",
       "\\item 'package:datasets'\n",
       "\\item 'package:methods'\n",
       "\\item 'Autoloads'\n",
       "\\item 'package:base'\n",
       "\\end{enumerate*}\n"
      ],
      "text/markdown": [
       "1. '.GlobalEnv'\n",
       "2. 'package:ggplot2'\n",
       "3. 'jupyter:irkernel'\n",
       "4. 'package:stats'\n",
       "5. 'package:graphics'\n",
       "6. 'package:grDevices'\n",
       "7. 'package:utils'\n",
       "8. 'package:datasets'\n",
       "9. 'package:methods'\n",
       "10. 'Autoloads'\n",
       "11. 'package:base'\n",
       "\n",
       "\n"
      ],
      "text/plain": [
       " [1] \".GlobalEnv\"        \"package:ggplot2\"   \"jupyter:irkernel\" \n",
       " [4] \"package:stats\"     \"package:graphics\"  \"package:grDevices\"\n",
       " [7] \"package:utils\"     \"package:datasets\"  \"package:methods\"  \n",
       "[10] \"Autoloads\"         \"package:base\"     "
      ]
     },
     "metadata": {},
     "output_type": "display_data"
    }
   ],
   "source": [
    "src=search()    # see packages currently loaded\n",
    "src"
   ]
  },
  {
   "cell_type": "code",
   "execution_count": 88,
   "id": "ded64a07-dabd-42c2-a66f-94074bfb4193",
   "metadata": {},
   "outputs": [
    {
     "data": {
      "text/html": [
       "7.07106781186548"
      ],
      "text/latex": [
       "7.07106781186548"
      ],
      "text/markdown": [
       "7.07106781186548"
      ],
      "text/plain": [
       "[1] 7.071068"
      ]
     },
     "metadata": {},
     "output_type": "display_data"
    }
   ],
   "source": [
    "#writing your own function\n",
    "f = function(x,y,z)\n",
    "{\n",
    "  res = sqrt(x^2 + y^2 + z^2)\n",
    "  return(res)\n",
    "}\n",
    "\n",
    "f(3,4,5)"
   ]
  },
  {
   "cell_type": "markdown",
   "id": "3915282e-ff79-47e4-95c2-8e584c3f4bcc",
   "metadata": {},
   "source": [
    "# An example of exploratory data investigation with R"
   ]
  },
  {
   "cell_type": "markdown",
   "id": "a614e84c-1405-48d9-be4e-52e8286b9d7d",
   "metadata": {},
   "source": [
    "R base contains many default datasets.  One of the most common datasets in use is the Iris dataset."
   ]
  },
  {
   "cell_type": "code",
   "execution_count": 89,
   "id": "1b27cd9d-ab7e-4565-9049-40a6729c5a85",
   "metadata": {},
   "outputs": [],
   "source": [
    "#Load it with \n",
    "data(iris)\n",
    "\n",
    "#Let's write it into a file and read it from input. \n",
    "#This goes into your working directory.\n",
    "write.table(iris,file='iris.txt',sep='\\t',col.names=T,quote=F,row.names=F)\n",
    "rm(iris)\n",
    "#Read in the file we just wrote.\n",
    "Iris=read.table('iris.txt',header=T,stringsAsFactors=F,sep='\\t')"
   ]
  },
  {
   "cell_type": "markdown",
   "id": "29c8efde-fd7f-4503-ab7e-633608bf722e",
   "metadata": {},
   "source": [
    "Let's examine the dataset."
   ]
  },
  {
   "cell_type": "code",
   "execution_count": 90,
   "id": "094256d1-1a0d-4ac9-a116-45b6039b9f8b",
   "metadata": {},
   "outputs": [
    {
     "data": {
      "text/html": [
       "<style>\n",
       ".list-inline {list-style: none; margin:0; padding: 0}\n",
       ".list-inline>li {display: inline-block}\n",
       ".list-inline>li:not(:last-child)::after {content: \"\\00b7\"; padding: 0 .5ex}\n",
       "</style>\n",
       "<ol class=list-inline><li>'Sepal.Length'</li><li>'Sepal.Width'</li><li>'Petal.Length'</li><li>'Petal.Width'</li><li>'Species'</li></ol>\n"
      ],
      "text/latex": [
       "\\begin{enumerate*}\n",
       "\\item 'Sepal.Length'\n",
       "\\item 'Sepal.Width'\n",
       "\\item 'Petal.Length'\n",
       "\\item 'Petal.Width'\n",
       "\\item 'Species'\n",
       "\\end{enumerate*}\n"
      ],
      "text/markdown": [
       "1. 'Sepal.Length'\n",
       "2. 'Sepal.Width'\n",
       "3. 'Petal.Length'\n",
       "4. 'Petal.Width'\n",
       "5. 'Species'\n",
       "\n",
       "\n"
      ],
      "text/plain": [
       "[1] \"Sepal.Length\" \"Sepal.Width\"  \"Petal.Length\" \"Petal.Width\"  \"Species\"     "
      ]
     },
     "metadata": {},
     "output_type": "display_data"
    }
   ],
   "source": [
    "colnames(Iris)"
   ]
  },
  {
   "cell_type": "code",
   "execution_count": 91,
   "id": "7e5cc909-4009-4f64-b0aa-3f7fd74b670f",
   "metadata": {},
   "outputs": [
    {
     "data": {
      "text/html": [
       "<table class=\"dataframe\">\n",
       "<caption>A data.frame: 6 x 5</caption>\n",
       "<thead>\n",
       "\t<tr><th></th><th scope=col>Sepal.Length</th><th scope=col>Sepal.Width</th><th scope=col>Petal.Length</th><th scope=col>Petal.Width</th><th scope=col>Species</th></tr>\n",
       "\t<tr><th></th><th scope=col>&lt;dbl&gt;</th><th scope=col>&lt;dbl&gt;</th><th scope=col>&lt;dbl&gt;</th><th scope=col>&lt;dbl&gt;</th><th scope=col>&lt;chr&gt;</th></tr>\n",
       "</thead>\n",
       "<tbody>\n",
       "\t<tr><th scope=row>1</th><td>5.1</td><td>3.5</td><td>1.4</td><td>0.2</td><td>setosa</td></tr>\n",
       "\t<tr><th scope=row>2</th><td>4.9</td><td>3.0</td><td>1.4</td><td>0.2</td><td>setosa</td></tr>\n",
       "\t<tr><th scope=row>3</th><td>4.7</td><td>3.2</td><td>1.3</td><td>0.2</td><td>setosa</td></tr>\n",
       "\t<tr><th scope=row>4</th><td>4.6</td><td>3.1</td><td>1.5</td><td>0.2</td><td>setosa</td></tr>\n",
       "\t<tr><th scope=row>5</th><td>5.0</td><td>3.6</td><td>1.4</td><td>0.2</td><td>setosa</td></tr>\n",
       "\t<tr><th scope=row>6</th><td>5.4</td><td>3.9</td><td>1.7</td><td>0.4</td><td>setosa</td></tr>\n",
       "</tbody>\n",
       "</table>\n"
      ],
      "text/latex": [
       "A data.frame: 6 x 5\n",
       "\\begin{tabular}{r|lllll}\n",
       "  & Sepal.Length & Sepal.Width & Petal.Length & Petal.Width & Species\\\\\n",
       "  & <dbl> & <dbl> & <dbl> & <dbl> & <chr>\\\\\n",
       "\\hline\n",
       "\t1 & 5.1 & 3.5 & 1.4 & 0.2 & setosa\\\\\n",
       "\t2 & 4.9 & 3.0 & 1.4 & 0.2 & setosa\\\\\n",
       "\t3 & 4.7 & 3.2 & 1.3 & 0.2 & setosa\\\\\n",
       "\t4 & 4.6 & 3.1 & 1.5 & 0.2 & setosa\\\\\n",
       "\t5 & 5.0 & 3.6 & 1.4 & 0.2 & setosa\\\\\n",
       "\t6 & 5.4 & 3.9 & 1.7 & 0.4 & setosa\\\\\n",
       "\\end{tabular}\n"
      ],
      "text/markdown": [
       "\n",
       "A data.frame: 6 x 5\n",
       "\n",
       "| <!--/--> | Sepal.Length &lt;dbl&gt; | Sepal.Width &lt;dbl&gt; | Petal.Length &lt;dbl&gt; | Petal.Width &lt;dbl&gt; | Species &lt;chr&gt; |\n",
       "|---|---|---|---|---|---|\n",
       "| 1 | 5.1 | 3.5 | 1.4 | 0.2 | setosa |\n",
       "| 2 | 4.9 | 3.0 | 1.4 | 0.2 | setosa |\n",
       "| 3 | 4.7 | 3.2 | 1.3 | 0.2 | setosa |\n",
       "| 4 | 4.6 | 3.1 | 1.5 | 0.2 | setosa |\n",
       "| 5 | 5.0 | 3.6 | 1.4 | 0.2 | setosa |\n",
       "| 6 | 5.4 | 3.9 | 1.7 | 0.4 | setosa |\n",
       "\n"
      ],
      "text/plain": [
       "  Sepal.Length Sepal.Width Petal.Length Petal.Width Species\n",
       "1 5.1          3.5         1.4          0.2         setosa \n",
       "2 4.9          3.0         1.4          0.2         setosa \n",
       "3 4.7          3.2         1.3          0.2         setosa \n",
       "4 4.6          3.1         1.5          0.2         setosa \n",
       "5 5.0          3.6         1.4          0.2         setosa \n",
       "6 5.4          3.9         1.7          0.4         setosa "
      ]
     },
     "metadata": {},
     "output_type": "display_data"
    }
   ],
   "source": [
    "head(Iris)"
   ]
  },
  {
   "cell_type": "code",
   "execution_count": 92,
   "id": "d9eaea57-db64-4efa-afaf-feba1cdb00e8",
   "metadata": {},
   "outputs": [
    {
     "name": "stdout",
     "output_type": "stream",
     "text": [
      "'data.frame':\t150 obs. of  5 variables:\n",
      " $ Sepal.Length: num  5.1 4.9 4.7 4.6 5 5.4 4.6 5 4.4 4.9 ...\n",
      " $ Sepal.Width : num  3.5 3 3.2 3.1 3.6 3.9 3.4 3.4 2.9 3.1 ...\n",
      " $ Petal.Length: num  1.4 1.4 1.3 1.5 1.4 1.7 1.4 1.5 1.4 1.5 ...\n",
      " $ Petal.Width : num  0.2 0.2 0.2 0.2 0.2 0.4 0.3 0.2 0.2 0.1 ...\n",
      " $ Species     : chr  \"setosa\" \"setosa\" \"setosa\" \"setosa\" ...\n"
     ]
    }
   ],
   "source": [
    "str(Iris)"
   ]
  },
  {
   "cell_type": "code",
   "execution_count": 93,
   "id": "10abcc3b-362e-4a39-b09c-8cc8f2e8a195",
   "metadata": {},
   "outputs": [
    {
     "data": {
      "text/plain": [
       "NULL"
      ]
     },
     "metadata": {},
     "output_type": "display_data"
    }
   ],
   "source": [
    "levels(Iris$Species)"
   ]
  },
  {
   "cell_type": "markdown",
   "id": "6b97632a-4ade-4726-9cae-c65a2dbcee46",
   "metadata": {},
   "source": [
    "Note the Species column is a character type.  This doesn't have levels.  We have to change it to type factor. We can see how many different values are in Species with `unique()`."
   ]
  },
  {
   "cell_type": "code",
   "execution_count": 94,
   "id": "08d52a0f-de9b-4dd7-8631-9ce7fdd2f7f8",
   "metadata": {},
   "outputs": [
    {
     "data": {
      "text/html": [
       "<style>\n",
       ".list-inline {list-style: none; margin:0; padding: 0}\n",
       ".list-inline>li {display: inline-block}\n",
       ".list-inline>li:not(:last-child)::after {content: \"\\00b7\"; padding: 0 .5ex}\n",
       "</style>\n",
       "<ol class=list-inline><li>'setosa'</li><li>'versicolor'</li><li>'virginica'</li></ol>\n"
      ],
      "text/latex": [
       "\\begin{enumerate*}\n",
       "\\item 'setosa'\n",
       "\\item 'versicolor'\n",
       "\\item 'virginica'\n",
       "\\end{enumerate*}\n"
      ],
      "text/markdown": [
       "1. 'setosa'\n",
       "2. 'versicolor'\n",
       "3. 'virginica'\n",
       "\n",
       "\n"
      ],
      "text/plain": [
       "[1] \"setosa\"     \"versicolor\" \"virginica\" "
      ]
     },
     "metadata": {},
     "output_type": "display_data"
    }
   ],
   "source": [
    "unique(Iris$Species)"
   ]
  },
  {
   "cell_type": "code",
   "execution_count": 95,
   "id": "c89f9114-039d-4894-ab92-a5138c9eb641",
   "metadata": {},
   "outputs": [
    {
     "data": {
      "text/html": [
       "<style>\n",
       ".list-inline {list-style: none; margin:0; padding: 0}\n",
       ".list-inline>li {display: inline-block}\n",
       ".list-inline>li:not(:last-child)::after {content: \"\\00b7\"; padding: 0 .5ex}\n",
       "</style>\n",
       "<ol class=list-inline><li>'setosa'</li><li>'versicolor'</li><li>'virginica'</li></ol>\n"
      ],
      "text/latex": [
       "\\begin{enumerate*}\n",
       "\\item 'setosa'\n",
       "\\item 'versicolor'\n",
       "\\item 'virginica'\n",
       "\\end{enumerate*}\n"
      ],
      "text/markdown": [
       "1. 'setosa'\n",
       "2. 'versicolor'\n",
       "3. 'virginica'\n",
       "\n",
       "\n"
      ],
      "text/plain": [
       "[1] \"setosa\"     \"versicolor\" \"virginica\" "
      ]
     },
     "metadata": {},
     "output_type": "display_data"
    },
    {
     "name": "stdout",
     "output_type": "stream",
     "text": [
      "'data.frame':\t150 obs. of  5 variables:\n",
      " $ Sepal.Length: num  5.1 4.9 4.7 4.6 5 5.4 4.6 5 4.4 4.9 ...\n",
      " $ Sepal.Width : num  3.5 3 3.2 3.1 3.6 3.9 3.4 3.4 2.9 3.1 ...\n",
      " $ Petal.Length: num  1.4 1.4 1.3 1.5 1.4 1.7 1.4 1.5 1.4 1.5 ...\n",
      " $ Petal.Width : num  0.2 0.2 0.2 0.2 0.2 0.4 0.3 0.2 0.2 0.1 ...\n",
      " $ Species     : Factor w/ 3 levels \"setosa\",\"versicolor\",..: 1 1 1 1 1 1 1 1 1 1 ...\n"
     ]
    }
   ],
   "source": [
    "Iris$Species <- as.factor(Iris$Species)\n",
    "levels(Iris$Species)\n",
    "str(Iris)"
   ]
  },
  {
   "cell_type": "markdown",
   "id": "15a8d552-e01f-4dc4-8ad8-29ce9d4ab2a5",
   "metadata": {},
   "source": [
    "Let's find the mean sepal width."
   ]
  },
  {
   "cell_type": "code",
   "execution_count": 96,
   "id": "90acc9d4-f1ed-4399-8020-d2f1192957fb",
   "metadata": {},
   "outputs": [
    {
     "data": {
      "text/html": [
       "3.05733333333333"
      ],
      "text/latex": [
       "3.05733333333333"
      ],
      "text/markdown": [
       "3.05733333333333"
      ],
      "text/plain": [
       "[1] 3.057333"
      ]
     },
     "metadata": {},
     "output_type": "display_data"
    }
   ],
   "source": [
    "mean(Iris$Sepal.Width)"
   ]
  },
  {
   "cell_type": "markdown",
   "id": "23541cb5-0837-473b-8650-025a5330d4c1",
   "metadata": {},
   "source": [
    "We can create new data frames which are subsets of Iris."
   ]
  },
  {
   "cell_type": "code",
   "execution_count": 97,
   "id": "5b1d7bdf-a71f-404d-b3fd-54a48e1ffa46",
   "metadata": {},
   "outputs": [
    {
     "name": "stdout",
     "output_type": "stream",
     "text": [
      "'data.frame':\t2 obs. of  5 variables:\n",
      " $ Sepal.Length: num  5.7 5.2\n",
      " $ Sepal.Width : num  4.4 4.1\n",
      " $ Petal.Length: num  1.5 1.5\n",
      " $ Petal.Width : num  0.4 0.1\n",
      " $ Species     : Factor w/ 3 levels \"setosa\",\"versicolor\",..: 1 1\n",
      "'data.frame':\t6 obs. of  5 variables:\n",
      " $ Sepal.Length: num  4.4 5.8 5.7 5.2 5.5 4.5\n",
      " $ Sepal.Width : num  2.9 4 4.4 4.1 4.2 2.3\n",
      " $ Petal.Length: num  1.4 1.2 1.5 1.5 1.4 1.3\n",
      " $ Petal.Width : num  0.2 0.2 0.4 0.1 0.2 0.3\n",
      " $ Species     : Factor w/ 3 levels \"setosa\",\"versicolor\",..: 1 1 1 1 1 1\n",
      "'data.frame':\t100 obs. of  5 variables:\n",
      " $ Sepal.Length: num  7 6.4 6.9 5.5 6.5 5.7 6.3 4.9 6.6 5.2 ...\n",
      " $ Sepal.Width : num  3.2 3.2 3.1 2.3 2.8 2.8 3.3 2.4 2.9 2.7 ...\n",
      " $ Petal.Length: num  4.7 4.5 4.9 4 4.6 4.5 4.7 3.3 4.6 3.9 ...\n",
      " $ Petal.Width : num  1.4 1.5 1.5 1.3 1.5 1.3 1.6 1 1.3 1.4 ...\n",
      " $ Species     : Factor w/ 3 levels \"setosa\",\"versicolor\",..: 2 2 2 2 2 2 2 2 2 2 ...\n"
     ]
    }
   ],
   "source": [
    "subset1=subset(iris, Sepal.Width >= 4 & Petal.Length>1.4)\n",
    "subset2=subset(iris, Sepal.Width >= 4 | (Species == 'setosa' & Sepal.Width < 3))\n",
    "subset3=subset(iris, Species!=\"setosa\" & Sepal.Width <5)\n",
    "\n",
    "str(subset1)\n",
    "str(subset2)\n",
    "str(subset3)"
   ]
  },
  {
   "cell_type": "markdown",
   "id": "2c16d08f-ff74-4750-8b7c-bdc63490f71e",
   "metadata": {},
   "source": [
    "We can add a column to the iris data frame."
   ]
  },
  {
   "cell_type": "code",
   "execution_count": 98,
   "id": "0de8dce1-027f-4f49-8ac3-49b5146e0b87",
   "metadata": {},
   "outputs": [
    {
     "data": {
      "text/html": [
       "<table class=\"dataframe\">\n",
       "<caption>A data.frame: 6 x 6</caption>\n",
       "<thead>\n",
       "\t<tr><th></th><th scope=col>Sepal.Length</th><th scope=col>Sepal.Width</th><th scope=col>Petal.Length</th><th scope=col>Petal.Width</th><th scope=col>Species</th><th scope=col>flower</th></tr>\n",
       "\t<tr><th></th><th scope=col>&lt;dbl&gt;</th><th scope=col>&lt;dbl&gt;</th><th scope=col>&lt;dbl&gt;</th><th scope=col>&lt;dbl&gt;</th><th scope=col>&lt;fct&gt;</th><th scope=col>&lt;chr&gt;</th></tr>\n",
       "</thead>\n",
       "<tbody>\n",
       "\t<tr><th scope=row>1</th><td>5.1</td><td>3.5</td><td>1.4</td><td>0.2</td><td>setosa</td><td>big_flower  </td></tr>\n",
       "\t<tr><th scope=row>2</th><td>4.9</td><td>3.0</td><td>1.4</td><td>0.2</td><td>setosa</td><td>small_flower</td></tr>\n",
       "\t<tr><th scope=row>3</th><td>4.7</td><td>3.2</td><td>1.3</td><td>0.2</td><td>setosa</td><td>small_flower</td></tr>\n",
       "\t<tr><th scope=row>4</th><td>4.6</td><td>3.1</td><td>1.5</td><td>0.2</td><td>setosa</td><td>small_flower</td></tr>\n",
       "\t<tr><th scope=row>5</th><td>5.0</td><td>3.6</td><td>1.4</td><td>0.2</td><td>setosa</td><td>big_flower  </td></tr>\n",
       "\t<tr><th scope=row>6</th><td>5.4</td><td>3.9</td><td>1.7</td><td>0.4</td><td>setosa</td><td>big_flower  </td></tr>\n",
       "</tbody>\n",
       "</table>\n"
      ],
      "text/latex": [
       "A data.frame: 6 x 6\n",
       "\\begin{tabular}{r|llllll}\n",
       "  & Sepal.Length & Sepal.Width & Petal.Length & Petal.Width & Species & flower\\\\\n",
       "  & <dbl> & <dbl> & <dbl> & <dbl> & <fct> & <chr>\\\\\n",
       "\\hline\n",
       "\t1 & 5.1 & 3.5 & 1.4 & 0.2 & setosa & big\\_flower  \\\\\n",
       "\t2 & 4.9 & 3.0 & 1.4 & 0.2 & setosa & small\\_flower\\\\\n",
       "\t3 & 4.7 & 3.2 & 1.3 & 0.2 & setosa & small\\_flower\\\\\n",
       "\t4 & 4.6 & 3.1 & 1.5 & 0.2 & setosa & small\\_flower\\\\\n",
       "\t5 & 5.0 & 3.6 & 1.4 & 0.2 & setosa & big\\_flower  \\\\\n",
       "\t6 & 5.4 & 3.9 & 1.7 & 0.4 & setosa & big\\_flower  \\\\\n",
       "\\end{tabular}\n"
      ],
      "text/markdown": [
       "\n",
       "A data.frame: 6 x 6\n",
       "\n",
       "| <!--/--> | Sepal.Length &lt;dbl&gt; | Sepal.Width &lt;dbl&gt; | Petal.Length &lt;dbl&gt; | Petal.Width &lt;dbl&gt; | Species &lt;fct&gt; | flower &lt;chr&gt; |\n",
       "|---|---|---|---|---|---|---|\n",
       "| 1 | 5.1 | 3.5 | 1.4 | 0.2 | setosa | big_flower   |\n",
       "| 2 | 4.9 | 3.0 | 1.4 | 0.2 | setosa | small_flower |\n",
       "| 3 | 4.7 | 3.2 | 1.3 | 0.2 | setosa | small_flower |\n",
       "| 4 | 4.6 | 3.1 | 1.5 | 0.2 | setosa | small_flower |\n",
       "| 5 | 5.0 | 3.6 | 1.4 | 0.2 | setosa | big_flower   |\n",
       "| 6 | 5.4 | 3.9 | 1.7 | 0.4 | setosa | big_flower   |\n",
       "\n"
      ],
      "text/plain": [
       "  Sepal.Length Sepal.Width Petal.Length Petal.Width Species flower      \n",
       "1 5.1          3.5         1.4          0.2         setosa  big_flower  \n",
       "2 4.9          3.0         1.4          0.2         setosa  small_flower\n",
       "3 4.7          3.2         1.3          0.2         setosa  small_flower\n",
       "4 4.6          3.1         1.5          0.2         setosa  small_flower\n",
       "5 5.0          3.6         1.4          0.2         setosa  big_flower  \n",
       "6 5.4          3.9         1.7          0.4         setosa  big_flower  "
      ]
     },
     "metadata": {},
     "output_type": "display_data"
    }
   ],
   "source": [
    "iris$flower = ifelse(iris$Sepal.Length<5, \"small_flower\",\"big_flower\")\n",
    "head(iris)"
   ]
  },
  {
   "cell_type": "markdown",
   "id": "f23f57a2-21a5-4046-adce-dcf6be98a8a3",
   "metadata": {},
   "source": [
    "We could find the median, mean and standard deviation Sepal.Length, Sepal.Width, Petal.Length and Petal.Width using a for loop an the functions `median()`, `mean()` and `sd()`."
   ]
  },
  {
   "cell_type": "code",
   "execution_count": 99,
   "id": "28ef5508-ea58-40b3-8f01-c95a816f6fc1",
   "metadata": {},
   "outputs": [
    {
     "name": "stdout",
     "output_type": "stream",
     "text": [
      "[1] 5.8000000 5.8433333 0.8280661\n",
      "[1] 3.0000000 3.0573333 0.4358663\n",
      "[1] 4.350000 3.758000 1.765298\n",
      "[1] 1.3000000 1.1993333 0.7622377\n"
     ]
    }
   ],
   "source": [
    "for(i in 1:ncol(iris[,c(1:4)])) {\n",
    "  print(c(median(iris[,i]), mean(iris[,i]), sd(iris[,i]))) \n",
    "}"
   ]
  },
  {
   "cell_type": "markdown",
   "id": "44761914-95d0-4c91-b46a-55236f21941c",
   "metadata": {},
   "source": [
    "Or we could get the same information using `apply()`. `iris[,c(1:4)]` will select all rows and the first 4 columns of iris. Look up the documentation for `apply()` to see why we use the argument `2`."
   ]
  },
  {
   "cell_type": "code",
   "execution_count": 100,
   "id": "1f55e638-4db9-4c37-ad31-560e4b9b9fe4",
   "metadata": {},
   "outputs": [
    {
     "data": {
      "text/html": [
       "<style>\n",
       ".dl-inline {width: auto; margin:0; padding: 0}\n",
       ".dl-inline>dt, .dl-inline>dd {float: none; width: auto; display: inline-block}\n",
       ".dl-inline>dt::after {content: \":\\0020\"; padding-right: .5ex}\n",
       ".dl-inline>dt:not(:first-of-type) {padding-left: .5ex}\n",
       "</style><dl class=dl-inline><dt>Sepal.Length</dt><dd>5.8</dd><dt>Sepal.Width</dt><dd>3</dd><dt>Petal.Length</dt><dd>4.35</dd><dt>Petal.Width</dt><dd>1.3</dd></dl>\n"
      ],
      "text/latex": [
       "\\begin{description*}\n",
       "\\item[Sepal.Length] 5.8\n",
       "\\item[Sepal.Width] 3\n",
       "\\item[Petal.Length] 4.35\n",
       "\\item[Petal.Width] 1.3\n",
       "\\end{description*}\n"
      ],
      "text/markdown": [
       "Sepal.Length\n",
       ":   5.8Sepal.Width\n",
       ":   3Petal.Length\n",
       ":   4.35Petal.Width\n",
       ":   1.3\n",
       "\n"
      ],
      "text/plain": [
       "Sepal.Length  Sepal.Width Petal.Length  Petal.Width \n",
       "        5.80         3.00         4.35         1.30 "
      ]
     },
     "metadata": {},
     "output_type": "display_data"
    },
    {
     "data": {
      "text/html": [
       "<style>\n",
       ".dl-inline {width: auto; margin:0; padding: 0}\n",
       ".dl-inline>dt, .dl-inline>dd {float: none; width: auto; display: inline-block}\n",
       ".dl-inline>dt::after {content: \":\\0020\"; padding-right: .5ex}\n",
       ".dl-inline>dt:not(:first-of-type) {padding-left: .5ex}\n",
       "</style><dl class=dl-inline><dt>Sepal.Length</dt><dd>5.84333333333333</dd><dt>Sepal.Width</dt><dd>3.05733333333333</dd><dt>Petal.Length</dt><dd>3.758</dd><dt>Petal.Width</dt><dd>1.19933333333333</dd></dl>\n"
      ],
      "text/latex": [
       "\\begin{description*}\n",
       "\\item[Sepal.Length] 5.84333333333333\n",
       "\\item[Sepal.Width] 3.05733333333333\n",
       "\\item[Petal.Length] 3.758\n",
       "\\item[Petal.Width] 1.19933333333333\n",
       "\\end{description*}\n"
      ],
      "text/markdown": [
       "Sepal.Length\n",
       ":   5.84333333333333Sepal.Width\n",
       ":   3.05733333333333Petal.Length\n",
       ":   3.758Petal.Width\n",
       ":   1.19933333333333\n",
       "\n"
      ],
      "text/plain": [
       "Sepal.Length  Sepal.Width Petal.Length  Petal.Width \n",
       "    5.843333     3.057333     3.758000     1.199333 "
      ]
     },
     "metadata": {},
     "output_type": "display_data"
    },
    {
     "data": {
      "text/html": [
       "<style>\n",
       ".dl-inline {width: auto; margin:0; padding: 0}\n",
       ".dl-inline>dt, .dl-inline>dd {float: none; width: auto; display: inline-block}\n",
       ".dl-inline>dt::after {content: \":\\0020\"; padding-right: .5ex}\n",
       ".dl-inline>dt:not(:first-of-type) {padding-left: .5ex}\n",
       "</style><dl class=dl-inline><dt>Sepal.Length</dt><dd>0.828066127977863</dd><dt>Sepal.Width</dt><dd>0.435866284936698</dd><dt>Petal.Length</dt><dd>1.76529823325947</dd><dt>Petal.Width</dt><dd>0.762237668960347</dd></dl>\n"
      ],
      "text/latex": [
       "\\begin{description*}\n",
       "\\item[Sepal.Length] 0.828066127977863\n",
       "\\item[Sepal.Width] 0.435866284936698\n",
       "\\item[Petal.Length] 1.76529823325947\n",
       "\\item[Petal.Width] 0.762237668960347\n",
       "\\end{description*}\n"
      ],
      "text/markdown": [
       "Sepal.Length\n",
       ":   0.828066127977863Sepal.Width\n",
       ":   0.435866284936698Petal.Length\n",
       ":   1.76529823325947Petal.Width\n",
       ":   0.762237668960347\n",
       "\n"
      ],
      "text/plain": [
       "Sepal.Length  Sepal.Width Petal.Length  Petal.Width \n",
       "   0.8280661    0.4358663    1.7652982    0.7622377 "
      ]
     },
     "metadata": {},
     "output_type": "display_data"
    }
   ],
   "source": [
    "median_4firstcolumns=apply(iris[,c(1:4)], 2, median) \n",
    "mean_4firstcolumns=apply(iris[,c(1:4)], 2, mean)\n",
    "sd_4firstcolumns=apply(iris[,c(1:4)], 2, sd) \n",
    "\n",
    "median_4firstcolumns\n",
    "mean_4firstcolumns\n",
    "sd_4firstcolumns"
   ]
  },
  {
   "cell_type": "markdown",
   "id": "bdb0d37a-bd3f-4703-b210-f8b84d1b6d23",
   "metadata": {},
   "source": [
    "Or if we create a named list containing the Sepal.Length, Sepal.Width, Petal.Length and Petal.Width values, we can use `lapply()` to obtain the same information."
   ]
  },
  {
   "cell_type": "code",
   "execution_count": 101,
   "id": "12fe05b7-123b-4ec4-b1e3-48b26f5e5671",
   "metadata": {},
   "outputs": [
    {
     "data": {
      "text/html": [
       "<dl>\n",
       "\t<dt>$Sepal.Length</dt>\n",
       "\t\t<dd>5.8</dd>\n",
       "\t<dt>$Sepal.Width</dt>\n",
       "\t\t<dd>3</dd>\n",
       "\t<dt>$Petal.Length</dt>\n",
       "\t\t<dd>4.35</dd>\n",
       "\t<dt>$Petal.Width</dt>\n",
       "\t\t<dd>1.3</dd>\n",
       "</dl>\n"
      ],
      "text/latex": [
       "\\begin{description}\n",
       "\\item[\\$Sepal.Length] 5.8\n",
       "\\item[\\$Sepal.Width] 3\n",
       "\\item[\\$Petal.Length] 4.35\n",
       "\\item[\\$Petal.Width] 1.3\n",
       "\\end{description}\n"
      ],
      "text/markdown": [
       "$Sepal.Length\n",
       ":   5.8\n",
       "$Sepal.Width\n",
       ":   3\n",
       "$Petal.Length\n",
       ":   4.35\n",
       "$Petal.Width\n",
       ":   1.3\n",
       "\n",
       "\n"
      ],
      "text/plain": [
       "$Sepal.Length\n",
       "[1] 5.8\n",
       "\n",
       "$Sepal.Width\n",
       "[1] 3\n",
       "\n",
       "$Petal.Length\n",
       "[1] 4.35\n",
       "\n",
       "$Petal.Width\n",
       "[1] 1.3\n"
      ]
     },
     "metadata": {},
     "output_type": "display_data"
    },
    {
     "data": {
      "text/html": [
       "<dl>\n",
       "\t<dt>$Sepal.Length</dt>\n",
       "\t\t<dd>5.84333333333333</dd>\n",
       "\t<dt>$Sepal.Width</dt>\n",
       "\t\t<dd>3.05733333333333</dd>\n",
       "\t<dt>$Petal.Length</dt>\n",
       "\t\t<dd>3.758</dd>\n",
       "\t<dt>$Petal.Width</dt>\n",
       "\t\t<dd>1.19933333333333</dd>\n",
       "</dl>\n"
      ],
      "text/latex": [
       "\\begin{description}\n",
       "\\item[\\$Sepal.Length] 5.84333333333333\n",
       "\\item[\\$Sepal.Width] 3.05733333333333\n",
       "\\item[\\$Petal.Length] 3.758\n",
       "\\item[\\$Petal.Width] 1.19933333333333\n",
       "\\end{description}\n"
      ],
      "text/markdown": [
       "$Sepal.Length\n",
       ":   5.84333333333333\n",
       "$Sepal.Width\n",
       ":   3.05733333333333\n",
       "$Petal.Length\n",
       ":   3.758\n",
       "$Petal.Width\n",
       ":   1.19933333333333\n",
       "\n",
       "\n"
      ],
      "text/plain": [
       "$Sepal.Length\n",
       "[1] 5.843333\n",
       "\n",
       "$Sepal.Width\n",
       "[1] 3.057333\n",
       "\n",
       "$Petal.Length\n",
       "[1] 3.758\n",
       "\n",
       "$Petal.Width\n",
       "[1] 1.199333\n"
      ]
     },
     "metadata": {},
     "output_type": "display_data"
    },
    {
     "data": {
      "text/html": [
       "<dl>\n",
       "\t<dt>$Sepal.Length</dt>\n",
       "\t\t<dd>0.828066127977863</dd>\n",
       "\t<dt>$Sepal.Width</dt>\n",
       "\t\t<dd>0.435866284936698</dd>\n",
       "\t<dt>$Petal.Length</dt>\n",
       "\t\t<dd>1.76529823325947</dd>\n",
       "\t<dt>$Petal.Width</dt>\n",
       "\t\t<dd>0.762237668960347</dd>\n",
       "</dl>\n"
      ],
      "text/latex": [
       "\\begin{description}\n",
       "\\item[\\$Sepal.Length] 0.828066127977863\n",
       "\\item[\\$Sepal.Width] 0.435866284936698\n",
       "\\item[\\$Petal.Length] 1.76529823325947\n",
       "\\item[\\$Petal.Width] 0.762237668960347\n",
       "\\end{description}\n"
      ],
      "text/markdown": [
       "$Sepal.Length\n",
       ":   0.828066127977863\n",
       "$Sepal.Width\n",
       ":   0.435866284936698\n",
       "$Petal.Length\n",
       ":   1.76529823325947\n",
       "$Petal.Width\n",
       ":   0.762237668960347\n",
       "\n",
       "\n"
      ],
      "text/plain": [
       "$Sepal.Length\n",
       "[1] 0.8280661\n",
       "\n",
       "$Sepal.Width\n",
       "[1] 0.4358663\n",
       "\n",
       "$Petal.Length\n",
       "[1] 1.765298\n",
       "\n",
       "$Petal.Width\n",
       "[1] 0.7622377\n"
      ]
     },
     "metadata": {},
     "output_type": "display_data"
    }
   ],
   "source": [
    "iris_list <- list()\n",
    "for(name in names(iris)[1:4]){\n",
    "    iris_list[[name]] <- iris[[name]]\n",
    "}\n",
    "median_list <- lapply(iris_list, median)\n",
    "mean_list <- lapply(iris_list, mean)\n",
    "sd_list <- lapply(iris_list, sd)\n",
    "\n",
    "median_list\n",
    "mean_list\n",
    "sd_list"
   ]
  },
  {
   "cell_type": "markdown",
   "id": "1f3bd26e-cc8c-45b4-b30e-e0a88db356c6",
   "metadata": {},
   "source": [
    "# Plotting"
   ]
  },
  {
   "cell_type": "markdown",
   "id": "4915b284-74fd-4aa8-8a61-15d7c6548355",
   "metadata": {},
   "source": [
    "Finally, just an example of a scatter plot with `ggplot()`.  All the functions previous to this have been base R functions, so we didn't need to load a package, but to access the `ggplot()` function, we first need to load `ggplot2` which we do with the `library()` function.  A library only needs to be loaded once before using any of the functions in a script.  Note that it's possible to load this `ggplot2` package because it has previously been installed in this docker image.  If you are working in RStudio on your own computer, you may need to first install a package with `install.packages()`. "
   ]
  },
  {
   "cell_type": "code",
   "execution_count": 102,
   "id": "0a1fdd85-da58-42a8-ad03-232ba6d04680",
   "metadata": {},
   "outputs": [
    {
     "data": {
      "image/png": "[encoded data removed]",
      "text/plain": [
       "plot without title"
      ]
     },
     "metadata": {
      "image/png": {
       "height": 420,
       "width": 420
      }
     },
     "output_type": "display_data"
    }
   ],
   "source": [
    "#install.packages(\"ggplot2\")  Don't run this line if you are working in the docker.\n",
    "library(ggplot2)\n",
    "ggplot(iris, aes(x = Sepal.Length, y = Sepal.Width))+ geom_point()"
   ]
  },
  {
   "cell_type": "code",
   "execution_count": 103,
   "id": "75f40e63-6141-433d-9baf-1de86643e825",
   "metadata": {},
   "outputs": [
    {
     "data": {
      "image/png": "[encoded data removed]",
      "text/plain": [
       "plot without title"
      ]
     },
     "metadata": {
      "image/png": {
       "height": 420,
       "width": 420
      }
     },
     "output_type": "display_data"
    }
   ],
   "source": [
    "ggplot(iris, aes(x = Sepal.Length, y = Sepal.Width,color = Species))+ geom_point()"
   ]
  },
  {
   "cell_type": "code",
   "execution_count": 104,
   "id": "23c9ab44-4910-440e-bc09-e14914a2f25f",
   "metadata": {},
   "outputs": [
    {
     "data": {
      "image/png": "[encoded data removed]",
      "text/plain": [
       "plot without title"
      ]
     },
     "metadata": {
      "image/png": {
       "height": 420,
       "width": 420
      }
     },
     "output_type": "display_data"
    }
   ],
   "source": [
    "ggplot(iris, aes(x = Sepal.Length, y = Sepal.Width,color = Species, size = Petal.Width))+ geom_point()"
   ]
  },
  {
   "cell_type": "code",
   "execution_count": 105,
   "id": "2ca74293-64a5-4559-b05c-8a4617c49602",
   "metadata": {},
   "outputs": [
    {
     "data": {
      "image/png": "[encoded data removed]",
      "text/plain": [
       "plot without title"
      ]
     },
     "metadata": {
      "image/png": {
       "height": 420,
       "width": 420
      }
     },
     "output_type": "display_data"
    }
   ],
   "source": [
    "ggplot(iris, aes(x = Sepal.Length, y = Sepal.Width))+ geom_point()+facet_grid(Species~.) + ggtitle(\"This is a facet plot\")"
   ]
  },
  {
   "cell_type": "code",
   "execution_count": 106,
   "id": "ed9cf30f-cb93-4d84-ab42-ee625c054e5e",
   "metadata": {},
   "outputs": [
    {
     "data": {
      "image/png": "[encoded data removed]",
      "text/plain": [
       "plot without title"
      ]
     },
     "metadata": {
      "image/png": {
       "height": 420,
       "width": 420
      }
     },
     "output_type": "display_data"
    }
   ],
   "source": [
    "## you can break up a long line of code to make it more readable.\n",
    "## You can put a return after a comma in a function or after a + when combining functions.\n",
    "ggplot(iris, aes(x = Sepal.Length, \n",
    "                 y = Sepal.Width))+\n",
    "    geom_point() + facet_grid(Species~.) + ggtitle(\"This is a facet plot\")"
   ]
  },
  {
   "cell_type": "code",
   "execution_count": null,
   "id": "a416c42d-fbc5-4c73-a110-8621c284eb2e",
   "metadata": {},
   "outputs": [],
   "source": []
  }
 ],
 "metadata": {
  "kernelspec": {
   "display_name": "R",
   "language": "R",
   "name": "ir"
  },
  "language_info": {
   "codemirror_mode": "r",
   "file_extension": ".r",
   "mimetype": "text/x-r-source",
   "name": "R",
   "pygments_lexer": "r",
   "version": "4.1.1"
  }
 },
 "nbformat": 4,
 "nbformat_minor": 5
}
